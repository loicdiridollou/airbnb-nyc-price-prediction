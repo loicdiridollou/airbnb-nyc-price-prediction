{
  "nbformat": 4,
  "nbformat_minor": 0,
  "metadata": {
    "colab": {
      "name": "Capstone Project.ipynb",
      "provenance": [],
      "collapsed_sections": [],
      "machine_shape": "hm"
    },
    "kernelspec": {
      "name": "python3",
      "display_name": "Python 3"
    }
  },
  "cells": [
    {
      "cell_type": "markdown",
      "metadata": {
        "id": "X5TK9BZ48Inz",
        "colab_type": "text"
      },
      "source": [
        "# Machine Learning Engineer Nanodegree\n",
        "\n",
        "## Project: predicting Air BnB prices in New York City"
      ]
    },
    {
      "cell_type": "markdown",
      "metadata": {
        "id": "9jvduQwv-E45",
        "colab_type": "text"
      },
      "source": [
        "### Getting started\n",
        "In this project, we will look at and evaluate the predictive power of a model. We will train the model on the data of AirBnb in New York City. Considering that the model will have a good fit on the training and good performance on the test set, we will use that model to predict the prices.\n",
        "For someone looking to rent his home on AirBnb, this model will be invaluable to determine whether the location can be profitable or not.\n",
        "\n",
        "This proejct aims at using machine learning techniques to predict the prices of AirBnb listings."
      ]
    },
    {
      "cell_type": "markdown",
      "metadata": {
        "id": "CInbhKAShyQq",
        "colab_type": "text"
      },
      "source": [
        "### Importing packages"
      ]
    },
    {
      "cell_type": "code",
      "metadata": {
        "id": "-8nbLq3tMVcB",
        "colab_type": "code",
        "outputId": "4b71e9f9-3763-4aa9-9014-bdc7a30ab4fd",
        "colab": {
          "base_uri": "https://localhost:8080/",
          "height": 265
        }
      },
      "source": [
        "# Importing required libraries\n",
        "\n",
        "!pip install geopandas\n",
        "import pandas as pd\n",
        "import numpy as np\n",
        "from numpy.random import seed\n",
        "seed(123)\n",
        "import matplotlib.pyplot as plt\n",
        "%matplotlib inline\n",
        "from datetime import datetime\n",
        "import seaborn as sns\n",
        "import geopandas as gpd\n",
        "from sklearn.preprocessing import StandardScaler, MinMaxScaler\n",
        "from sklearn.model_selection import train_test_split, cross_val_score\n",
        "import xgboost as xgb\n",
        "from xgboost import plot_importance\n",
        "from sklearn.metrics import explained_variance_score, mean_squared_error, r2_score\n",
        "import time\n",
        "from keras import models, layers, optimizers, regularizers\n",
        "from keras.utils.vis_utils import model_to_dot\n",
        "from IPython.display import SVG\n",
        "from statsmodels.tsa.seasonal import seasonal_decompose"
      ],
      "execution_count": 0,
      "outputs": [
        {
          "output_type": "stream",
          "text": [
            "Requirement already satisfied: geopandas in /usr/local/lib/python3.6/dist-packages (0.6.2)\n",
            "Requirement already satisfied: pyproj in /usr/local/lib/python3.6/dist-packages (from geopandas) (2.4.2.post1)\n",
            "Requirement already satisfied: pandas>=0.23.0 in /usr/local/lib/python3.6/dist-packages (from geopandas) (0.25.3)\n",
            "Requirement already satisfied: fiona in /usr/local/lib/python3.6/dist-packages (from geopandas) (1.8.13)\n",
            "Requirement already satisfied: shapely in /usr/local/lib/python3.6/dist-packages (from geopandas) (1.6.4.post2)\n",
            "Requirement already satisfied: numpy>=1.13.3 in /usr/local/lib/python3.6/dist-packages (from pandas>=0.23.0->geopandas) (1.17.5)\n",
            "Requirement already satisfied: pytz>=2017.2 in /usr/local/lib/python3.6/dist-packages (from pandas>=0.23.0->geopandas) (2018.9)\n",
            "Requirement already satisfied: python-dateutil>=2.6.1 in /usr/local/lib/python3.6/dist-packages (from pandas>=0.23.0->geopandas) (2.6.1)\n",
            "Requirement already satisfied: six>=1.7 in /usr/local/lib/python3.6/dist-packages (from fiona->geopandas) (1.12.0)\n",
            "Requirement already satisfied: attrs>=17 in /usr/local/lib/python3.6/dist-packages (from fiona->geopandas) (19.3.0)\n",
            "Requirement already satisfied: click-plugins>=1.0 in /usr/local/lib/python3.6/dist-packages (from fiona->geopandas) (1.1.1)\n",
            "Requirement already satisfied: munch in /usr/local/lib/python3.6/dist-packages (from fiona->geopandas) (2.5.0)\n",
            "Requirement already satisfied: click<8,>=4.0 in /usr/local/lib/python3.6/dist-packages (from fiona->geopandas) (7.0)\n",
            "Requirement already satisfied: cligj>=0.5 in /usr/local/lib/python3.6/dist-packages (from fiona->geopandas) (0.5.0)\n"
          ],
          "name": "stdout"
        }
      ]
    },
    {
      "cell_type": "code",
      "metadata": {
        "id": "EKpG7HwkZf2Y",
        "colab_type": "code",
        "outputId": "5e39099c-7188-44b3-96c5-5614800f372b",
        "colab": {
          "base_uri": "https://localhost:8080/",
          "height": 34
        }
      },
      "source": [
        "from google.colab import drive\n",
        "drive.mount('/content/drive')"
      ],
      "execution_count": 0,
      "outputs": [
        {
          "output_type": "stream",
          "text": [
            "Drive already mounted at /content/drive; to attempt to forcibly remount, call drive.mount(\"/content/drive\", force_remount=True).\n"
          ],
          "name": "stdout"
        }
      ]
    },
    {
      "cell_type": "markdown",
      "metadata": {
        "id": "g73eY8rgX4QY",
        "colab_type": "text"
      },
      "source": [
        "The data set used is available on *insideairbnb.com*. It has 16 features and a little less than 50,600 lines. The data has been scrapped on a particular day. We have thus no possiblity to get the evolution of prices, the eventual rebates and decreases in prices.\n",
        "The dataset contains 106 features. A lot of them are numerical and dates, also some are textual.\n",
        "One issue that has been raised using this dataset in the price column. Indeed, it is the listed price and not the average price over the year.\n",
        "\n",
        "\n",
        "\n"
      ]
    },
    {
      "cell_type": "markdown",
      "metadata": {
        "id": "5tY9Fy6Ch1w_",
        "colab_type": "text"
      },
      "source": [
        "### First look at the data"
      ]
    },
    {
      "cell_type": "code",
      "metadata": {
        "id": "0AB5I8U0Zj8x",
        "colab_type": "code",
        "outputId": "fb21b179-53f8-4524-90a1-0f6a204e2c07",
        "colab": {
          "base_uri": "https://localhost:8080/",
          "height": 87
        }
      },
      "source": [
        "# Importing the data\n",
        "df = pd.read_csv('/content/drive/My Drive/listings.csv')\n",
        "\n",
        "print(len(df))\n",
        "print(len(df.columns))"
      ],
      "execution_count": 0,
      "outputs": [
        {
          "output_type": "stream",
          "text": [
            "50599\n",
            "106\n"
          ],
          "name": "stdout"
        },
        {
          "output_type": "stream",
          "text": [
            "/usr/local/lib/python3.6/dist-packages/IPython/core/interactiveshell.py:2718: DtypeWarning: Columns (61,62,94,95) have mixed types. Specify dtype option on import or set low_memory=False.\n",
            "  interactivity=interactivity, compiler=compiler, result=result)\n"
          ],
          "name": "stderr"
        }
      ]
    },
    {
      "cell_type": "markdown",
      "metadata": {
        "id": "NrlC2c1Sh5nu",
        "colab_type": "text"
      },
      "source": [
        "Looking at the columns list, we will start by deleting a number of columns that will not be necessary for a further study of the dataset."
      ]
    },
    {
      "cell_type": "code",
      "metadata": {
        "id": "r54L030L_2eg",
        "colab_type": "code",
        "colab": {}
      },
      "source": [
        "cols_to_drop = ['listing_url', 'scrape_id', 'last_scraped', 'name', 'summary', 'space', 'description', 'neighborhood_overview', 'notes', 'transit', 'access', 'interaction', 'house_rules', \n",
        "                'thumbnail_url', 'medium_url', 'picture_url', 'xl_picture_url', 'host_id', 'host_url', 'host_name', 'host_location', 'host_about', 'host_thumbnail_url', 'host_picture_url', \n",
        "                'host_neighbourhood', 'host_verifications', 'calendar_last_scraped']\n",
        "df = df.drop(cols_to_drop, axis=1)"
      ],
      "execution_count": 0,
      "outputs": []
    },
    {
      "cell_type": "markdown",
      "metadata": {
        "id": "kX_SfGxpjX9M",
        "colab_type": "text"
      },
      "source": [
        "Checking if we have a lot of N/A values in the dataset to evaluate the amount of pre processing to do"
      ]
    },
    {
      "cell_type": "code",
      "metadata": {
        "id": "wpn4mIkqAEB_",
        "colab_type": "code",
        "outputId": "0ac9cb44-7818-4c86-e2ec-e83ea4954a70",
        "colab": {
          "base_uri": "https://localhost:8080/",
          "height": 230
        }
      },
      "source": [
        "df.isna().sum()"
      ],
      "execution_count": 0,
      "outputs": [
        {
          "output_type": "execute_result",
          "data": {
            "text/plain": [
              "id                                                  0\n",
              "experiences_offered                                 0\n",
              "host_since                                        563\n",
              "host_response_time                              17658\n",
              "host_response_rate                              17658\n",
              "                                                ...  \n",
              "calculated_host_listings_count                      0\n",
              "calculated_host_listings_count_entire_homes         0\n",
              "calculated_host_listings_count_private_rooms        0\n",
              "calculated_host_listings_count_shared_rooms         0\n",
              "reviews_per_month                               10220\n",
              "Length: 79, dtype: int64"
            ]
          },
          "metadata": {
            "tags": []
          },
          "execution_count": 199
        }
      ]
    },
    {
      "cell_type": "markdown",
      "metadata": {
        "id": "BrNm2cEdmLlO",
        "colab_type": "text"
      },
      "source": [
        "Dropping another columns regarding the previous cell"
      ]
    },
    {
      "cell_type": "code",
      "metadata": {
        "id": "O7i97bM_AHxq",
        "colab_type": "code",
        "colab": {}
      },
      "source": [
        "df.drop(['host_acceptance_rate', 'neighbourhood_group_cleansed', 'square_feet', 'weekly_price', 'monthly_price', 'license', 'jurisdiction_names'], axis=1, inplace=True)\n",
        "\n",
        "df.set_index('id', inplace=True) # The id will be used as the index, as this could be useful in future e.g. if a separate dataset containing reviews for each property is linked to this one"
      ],
      "execution_count": 0,
      "outputs": []
    },
    {
      "cell_type": "code",
      "metadata": {
        "id": "HLumPjgQAJis",
        "colab_type": "code",
        "colab": {}
      },
      "source": [
        "df.drop(['host_total_listings_count', 'calculated_host_listings_count', 'calculated_host_listings_count_entire_homes', 'calculated_host_listings_count_private_rooms', 'calculated_host_listings_count_shared_rooms'], axis=1, inplace=True)"
      ],
      "execution_count": 0,
      "outputs": []
    },
    {
      "cell_type": "markdown",
      "metadata": {
        "id": "3-tjHuPJmlq9",
        "colab_type": "text"
      },
      "source": [
        "Before we delete the latitude and longitude columns, we save them in a separate dataframe for plotting later."
      ]
    },
    {
      "cell_type": "code",
      "metadata": {
        "id": "FbBP3sFcAMZu",
        "colab_type": "code",
        "colab": {}
      },
      "source": [
        "lat_long = df[['latitude', 'longitude']]"
      ],
      "execution_count": 0,
      "outputs": []
    },
    {
      "cell_type": "code",
      "metadata": {
        "id": "CMLiJHr4ANlT",
        "colab_type": "code",
        "colab": {}
      },
      "source": [
        "df.drop(['zipcode', 'latitude', 'longitude', 'street', 'neighbourhood', 'city', 'state', 'market', 'smart_location', 'country_code', 'country', 'is_location_exact'], axis=1, inplace=True)"
      ],
      "execution_count": 0,
      "outputs": []
    },
    {
      "cell_type": "code",
      "metadata": {
        "id": "E2hLQ1XpAOkk",
        "colab_type": "code",
        "colab": {}
      },
      "source": [
        "df.drop(['minimum_minimum_nights', 'maximum_minimum_nights', 'minimum_maximum_nights', 'maximum_maximum_nights', 'minimum_nights_avg_ntm', 'maximum_nights_avg_ntm'], axis=1, inplace=True)"
      ],
      "execution_count": 0,
      "outputs": []
    },
    {
      "cell_type": "markdown",
      "metadata": {
        "id": "0mYAWtb9nuk3",
        "colab_type": "text"
      },
      "source": [
        "Considering some columns to be t/f instead of True/False, we change that and we plot them to look at the distribution."
      ]
    },
    {
      "cell_type": "code",
      "metadata": {
        "id": "6CZYN7GFAQVX",
        "colab_type": "code",
        "outputId": "4a51aa90-ab73-4015-bfd9-bf8d53571f49",
        "colab": {
          "base_uri": "https://localhost:8080/",
          "height": 1000
        }
      },
      "source": [
        "# Replacing columns with f/t with 0/1\n",
        "df.replace({'f': 0, 't': 1}, inplace=True)\n",
        "\n",
        "# Plotting the distribution of numerical and boolean categories\n",
        "df.hist(figsize=(20,20));"
      ],
      "execution_count": 0,
      "outputs": [
        {
          "output_type": "display_data",
          "data": {
            "image/png": "[encoded data removed]",
            "text/plain": [
              "<Figure size 1440x1440 with 36 Axes>"
            ]
          },
          "metadata": {
            "tags": []
          }
        }
      ]
    },
    {
      "cell_type": "markdown",
      "metadata": {
        "id": "CkPB-FgtpyP3",
        "colab_type": "text"
      },
      "source": [
        "We delete some more columns as they won't be of any use for us: they are not a determinant of the price of the listing."
      ]
    },
    {
      "cell_type": "code",
      "metadata": {
        "id": "LmlI1cd-AShC",
        "colab_type": "code",
        "colab": {}
      },
      "source": [
        "df.drop(['has_availability', 'host_has_profile_pic', 'is_business_travel_ready', 'require_guest_phone_verification', 'require_guest_profile_picture', 'requires_license'], axis=1, inplace=True)"
      ],
      "execution_count": 0,
      "outputs": []
    },
    {
      "cell_type": "code",
      "metadata": {
        "id": "qUVj80R0AV_p",
        "colab_type": "code",
        "colab": {}
      },
      "source": [
        "df.drop('experiences_offered', axis=1, inplace=True)"
      ],
      "execution_count": 0,
      "outputs": []
    },
    {
      "cell_type": "markdown",
      "metadata": {
        "id": "clSdeKoZrLpx",
        "colab_type": "text"
      },
      "source": [
        "Converting *host_since* to the right format and calculating the number of days.\n",
        "We alse make sure that we have no N/A values in the series."
      ]
    },
    {
      "cell_type": "code",
      "metadata": {
        "id": "eV3ZFwyHAYKO",
        "colab_type": "code",
        "colab": {}
      },
      "source": [
        "# Converting to datetime\n",
        "df.host_since = pd.to_datetime(df.host_since) \n",
        "\n",
        "# Calculating the number of days\n",
        "df['host_days_active'] = (datetime(2019, 12, 29) - df.host_since).astype('timedelta64[D]')\n",
        "\n",
        "# Printing mean and median\n",
        "#print(\"Mean days as host:\", round(df['host_days_active'].mean(),0))\n",
        "#print(\"Median days as host:\", df['host_days_active'].median())\n",
        "\n",
        "# Replacing null values with the median\n",
        "df.host_days_active.fillna(df.host_days_active.median(), inplace=True)"
      ],
      "execution_count": 0,
      "outputs": []
    },
    {
      "cell_type": "markdown",
      "metadata": {
        "id": "opb9AGzqG_h8",
        "colab_type": "text"
      },
      "source": [
        "**Host response time**"
      ]
    },
    {
      "cell_type": "code",
      "metadata": {
        "id": "IScnNJXPAak0",
        "colab_type": "code",
        "outputId": "0c7cf9c7-c8ef-4db8-e20f-fc7023214efd",
        "colab": {
          "base_uri": "https://localhost:8080/",
          "height": 123
        }
      },
      "source": [
        "df.host_response_time.fillna(\"unknown\", inplace=True)\n",
        "df.host_response_time.value_counts(normalize=True)"
      ],
      "execution_count": 0,
      "outputs": [
        {
          "output_type": "execute_result",
          "data": {
            "text/plain": [
              "within an hour        0.393249\n",
              "unknown               0.348979\n",
              "within a few hours    0.150042\n",
              "within a day          0.089587\n",
              "a few days or more    0.018143\n",
              "Name: host_response_time, dtype: float64"
            ]
          },
          "metadata": {
            "tags": []
          },
          "execution_count": 209
        }
      ]
    },
    {
      "cell_type": "code",
      "metadata": {
        "id": "8mUS8meLAf7U",
        "colab_type": "code",
        "outputId": "32c4f6a3-122e-45c4-dc9c-a093c5259d25",
        "colab": {
          "base_uri": "https://localhost:8080/",
          "height": 123
        }
      },
      "source": [
        "df.host_response_time.value_counts(normalize=True)"
      ],
      "execution_count": 0,
      "outputs": [
        {
          "output_type": "execute_result",
          "data": {
            "text/plain": [
              "within an hour        0.393249\n",
              "unknown               0.348979\n",
              "within a few hours    0.150042\n",
              "within a day          0.089587\n",
              "a few days or more    0.018143\n",
              "Name: host_response_time, dtype: float64"
            ]
          },
          "metadata": {
            "tags": []
          },
          "execution_count": 210
        }
      ]
    },
    {
      "cell_type": "code",
      "metadata": {
        "id": "9PKda-5CAhFU",
        "colab_type": "code",
        "outputId": "fea59e4c-ad93-4d89-eaf7-febaa16d9a87",
        "colab": {
          "base_uri": "https://localhost:8080/",
          "height": 70
        }
      },
      "source": [
        "# Removing the % sign from the host_response_rate string and converting to an integer\n",
        "df.host_response_rate = df.host_response_rate.str[:-1].astype('float64')\n",
        "\n",
        "print(\"Mean host response rate:\", round(df['host_response_rate'].mean(),0))\n",
        "print(\"Median host response rate:\", df['host_response_rate'].median())\n",
        "print(f\"Proportion of 100% host response rates: {round(((df.host_response_rate == 100.0).sum()/df.host_response_rate.count())*100,1)}%\")"
      ],
      "execution_count": 0,
      "outputs": [
        {
          "output_type": "stream",
          "text": [
            "Mean host response rate: 93.0\n",
            "Median host response rate: 100.0\n",
            "Proportion of 100% host response rates: 67.8%\n"
          ],
          "name": "stdout"
        }
      ]
    },
    {
      "cell_type": "markdown",
      "metadata": {
        "id": "ieRAJ0EGrhwb",
        "colab_type": "text"
      },
      "source": [
        "**Host response rate**"
      ]
    },
    {
      "cell_type": "code",
      "metadata": {
        "id": "9SyEMG5kAin5",
        "colab_type": "code",
        "outputId": "4928e916-d258-4cac-e8c0-0ecb8772c3f3",
        "colab": {
          "base_uri": "https://localhost:8080/",
          "height": 123
        }
      },
      "source": [
        "# Bin into four categories\n",
        "df.host_response_rate = pd.cut(df.host_response_rate, bins=[0, 50, 90, 99, 100], labels=['0-49%', '50-89%', '90-99%', '100%'], include_lowest=True)\n",
        "\n",
        "# Converting to string\n",
        "df.host_response_rate = df.host_response_rate.astype('str')\n",
        "\n",
        "# Replace nulls with 'unknown'\n",
        "df.host_response_rate.replace('nan', 'unknown', inplace=True)\n",
        "\n",
        "# Category counts\n",
        "df.host_response_rate.value_counts()"
      ],
      "execution_count": 0,
      "outputs": [
        {
          "output_type": "execute_result",
          "data": {
            "text/plain": [
              "100%       22318\n",
              "unknown    17658\n",
              "50-89%      5635\n",
              "90-99%      3620\n",
              "0-49%       1368\n",
              "Name: host_response_rate, dtype: int64"
            ]
          },
          "metadata": {
            "tags": []
          },
          "execution_count": 212
        }
      ]
    },
    {
      "cell_type": "markdown",
      "metadata": {
        "id": "3t4oA5cuHUfG",
        "colab_type": "text"
      },
      "source": [
        "**Host since** <br>\n",
        "Now that we have done the processing on the host_since column, we delete it.\n",
        "\n",
        "\n"
      ]
    },
    {
      "cell_type": "code",
      "metadata": {
        "id": "Fyvter-HAljy",
        "colab_type": "code",
        "colab": {}
      },
      "source": [
        "df.dropna(subset=['host_since'], inplace=True)"
      ],
      "execution_count": 0,
      "outputs": []
    },
    {
      "cell_type": "markdown",
      "metadata": {
        "id": "vIVs907IIDRJ",
        "colab_type": "text"
      },
      "source": [
        "**Property type** <br>\n",
        "Simplifying the categories to have a better impact of the prediction"
      ]
    },
    {
      "cell_type": "code",
      "metadata": {
        "id": "7_9T1tdYjegS",
        "colab_type": "code",
        "outputId": "ea5cc093-2c70-4fb9-a1d3-67a26c243d5d",
        "colab": {
          "base_uri": "https://localhost:8080/",
          "height": 638
        }
      },
      "source": [
        "set(df.property_type)"
      ],
      "execution_count": 0,
      "outputs": [
        {
          "output_type": "execute_result",
          "data": {
            "text/plain": [
              "{'Aparthotel',\n",
              " 'Apartment',\n",
              " 'Barn',\n",
              " 'Bed and breakfast',\n",
              " 'Boat',\n",
              " 'Boutique hotel',\n",
              " 'Bungalow',\n",
              " 'Bus',\n",
              " 'Cabin',\n",
              " 'Camper/RV',\n",
              " 'Casa particular (Cuba)',\n",
              " 'Castle',\n",
              " 'Cave',\n",
              " 'Condominium',\n",
              " 'Cottage',\n",
              " 'Dome house',\n",
              " 'Dorm',\n",
              " 'Earth house',\n",
              " 'Farm stay',\n",
              " 'Guest suite',\n",
              " 'Guesthouse',\n",
              " 'Hostel',\n",
              " 'Hotel',\n",
              " 'House',\n",
              " 'Houseboat',\n",
              " 'Island',\n",
              " 'Loft',\n",
              " 'Other',\n",
              " 'Resort',\n",
              " 'Serviced apartment',\n",
              " 'Tent',\n",
              " 'Tiny house',\n",
              " 'Townhouse',\n",
              " 'Villa',\n",
              " 'Yurt'}"
            ]
          },
          "metadata": {
            "tags": []
          },
          "execution_count": 214
        }
      ]
    },
    {
      "cell_type": "code",
      "metadata": {
        "id": "kHf8cDsgAniS",
        "colab_type": "code",
        "colab": {}
      },
      "source": [
        "# Replacing categories that are types of houses or apartments\n",
        "df.property_type.replace({\n",
        "    'Townhouse': 'House',\n",
        "    'Serviced apartment': 'Apartment',\n",
        "    'Loft': 'Apartment',\n",
        "    'Bungalow': 'House',\n",
        "    'Cottage': 'House',\n",
        "    'Villa': 'House',\n",
        "    'Tiny house': 'House',\n",
        "    'Earth house': 'House',\n",
        "    'Chalet': 'House'  \n",
        "    }, inplace=True)\n",
        "\n",
        "# Replacing other categories with 'other'\n",
        "df.loc[~df.property_type.isin(['House', 'Apartment']), 'property_type'] = 'Other'"
      ],
      "execution_count": 0,
      "outputs": []
    },
    {
      "cell_type": "code",
      "metadata": {
        "id": "JrHA73QsAo_3",
        "colab_type": "code",
        "colab": {}
      },
      "source": [
        "for col in ['bathrooms', 'bedrooms', 'beds']:\n",
        "    df[col].fillna(df[col].median(), inplace=True)"
      ],
      "execution_count": 0,
      "outputs": []
    },
    {
      "cell_type": "code",
      "metadata": {
        "id": "J5LSJJYTAp_W",
        "colab_type": "code",
        "colab": {}
      },
      "source": [
        "df.drop('bed_type', axis=1, inplace=True)"
      ],
      "execution_count": 0,
      "outputs": []
    },
    {
      "cell_type": "markdown",
      "metadata": {
        "id": "UcXEycifKU8K",
        "colab_type": "text"
      },
      "source": [
        "**Amenities** <br>\n",
        "Doing a lot of cleaning in this column"
      ]
    },
    {
      "cell_type": "code",
      "metadata": {
        "id": "alvVm-t8ArLw",
        "colab_type": "code",
        "outputId": "5409ed58-8c70-4090-b3d6-fc63329246cb",
        "colab": {
          "base_uri": "https://localhost:8080/",
          "height": 1000
        }
      },
      "source": [
        "# Creating a set of all possible amenities\n",
        "amenities_list = list(df.amenities)\n",
        "amenities_list_string = \" \".join(amenities_list)\n",
        "amenities_list_string = amenities_list_string.replace('{', '')\n",
        "amenities_list_string = amenities_list_string.replace('}', ',')\n",
        "amenities_list_string = amenities_list_string.replace('\"', '')\n",
        "amenities_set = [x.strip() for x in amenities_list_string.split(',')]\n",
        "amenities_set = set(amenities_set)\n",
        "amenities_set"
      ],
      "execution_count": 0,
      "outputs": [
        {
          "output_type": "execute_result",
          "data": {
            "text/plain": [
              "{'',\n",
              " '24-hour check-in',\n",
              " 'Accessible-height bed',\n",
              " 'Accessible-height toilet',\n",
              " 'Air conditioning',\n",
              " 'Air purifier',\n",
              " 'BBQ grill',\n",
              " 'Baby bath',\n",
              " 'Baby monitor',\n",
              " 'Babysitter recommendations',\n",
              " 'Bathtub',\n",
              " 'Bathtub with bath chair',\n",
              " 'Beach essentials',\n",
              " 'Beachfront',\n",
              " 'Bed linens',\n",
              " 'Breakfast',\n",
              " 'Building staff',\n",
              " 'Buzzer/wireless intercom',\n",
              " 'Cable TV',\n",
              " 'Carbon monoxide detector',\n",
              " 'Cat(s)',\n",
              " 'Ceiling hoist',\n",
              " 'Changing table',\n",
              " 'Children’s books and toys',\n",
              " 'Children’s dinnerware',\n",
              " 'Cleaning before checkout',\n",
              " 'Coffee maker',\n",
              " 'Cooking basics',\n",
              " 'Crib',\n",
              " 'Disabled parking spot',\n",
              " 'Dishes and silverware',\n",
              " 'Dishwasher',\n",
              " 'Dog(s)',\n",
              " 'Doorman',\n",
              " 'Dryer',\n",
              " 'EV charger',\n",
              " 'Electric profiling bed',\n",
              " 'Elevator',\n",
              " 'Essentials',\n",
              " 'Ethernet connection',\n",
              " 'Extra pillows and blankets',\n",
              " 'Extra space around bed',\n",
              " 'Family/kid friendly',\n",
              " 'Fire extinguisher',\n",
              " 'Fireplace guards',\n",
              " 'Firm mattress',\n",
              " 'First aid kit',\n",
              " 'Fixed grab bars for shower',\n",
              " 'Fixed grab bars for toilet',\n",
              " 'Flat path to guest entrance',\n",
              " 'Free parking on premises',\n",
              " 'Free street parking',\n",
              " 'Full kitchen',\n",
              " 'Game console',\n",
              " 'Garden or backyard',\n",
              " 'Ground floor access',\n",
              " 'Gym',\n",
              " 'Hair dryer',\n",
              " 'Handheld shower head',\n",
              " 'Hangers',\n",
              " 'Heating',\n",
              " 'High chair',\n",
              " 'Host greets you',\n",
              " 'Hot tub',\n",
              " 'Hot water',\n",
              " 'Hot water kettle',\n",
              " 'Indoor fireplace',\n",
              " 'Internet',\n",
              " 'Iron',\n",
              " 'Keypad',\n",
              " 'Kitchen',\n",
              " 'Kitchenette',\n",
              " 'Lake access',\n",
              " 'Laptop friendly workspace',\n",
              " 'Lock on bedroom door',\n",
              " 'Lockbox',\n",
              " 'Long term stays allowed',\n",
              " 'Luggage dropoff allowed',\n",
              " 'Microwave',\n",
              " 'Mobile hoist',\n",
              " 'No stairs or steps to enter',\n",
              " 'Other',\n",
              " 'Other pet(s)',\n",
              " 'Outlet covers',\n",
              " 'Oven',\n",
              " 'Pack ’n Play/travel crib',\n",
              " 'Paid parking off premises',\n",
              " 'Paid parking on premises',\n",
              " 'Patio or balcony',\n",
              " 'Pets allowed',\n",
              " 'Pets live on this property',\n",
              " 'Pocket wifi',\n",
              " 'Pool',\n",
              " 'Pool with pool hoist',\n",
              " 'Private bathroom',\n",
              " 'Private entrance',\n",
              " 'Private living room',\n",
              " 'Refrigerator',\n",
              " 'Room-darkening shades',\n",
              " 'Safety card',\n",
              " 'Self check-in',\n",
              " 'Shampoo',\n",
              " 'Shower chair',\n",
              " 'Single level home',\n",
              " 'Ski-in/Ski-out',\n",
              " 'Smart lock',\n",
              " 'Smoke detector',\n",
              " 'Smoking allowed',\n",
              " 'Stair gates',\n",
              " 'Step-free shower',\n",
              " 'Stove',\n",
              " 'Suitable for events',\n",
              " 'TV',\n",
              " 'Table corner guards',\n",
              " 'Washer',\n",
              " 'Washer / Dryer',\n",
              " 'Waterfront',\n",
              " 'Well-lit path to entrance',\n",
              " 'Wheelchair accessible',\n",
              " 'Wide clearance to shower',\n",
              " 'Wide doorway to guest bathroom',\n",
              " 'Wide entrance',\n",
              " 'Wide entrance for guests',\n",
              " 'Wide entryway',\n",
              " 'Wide hallways',\n",
              " 'Wifi',\n",
              " 'Window guards',\n",
              " 'toilet',\n",
              " 'translation missing: en.hosting_amenity_49',\n",
              " 'translation missing: en.hosting_amenity_50'}"
            ]
          },
          "metadata": {
            "tags": []
          },
          "execution_count": 218
        }
      ]
    },
    {
      "cell_type": "code",
      "metadata": {
        "id": "jhDT-D4-AstM",
        "colab_type": "code",
        "outputId": "50009fd3-05a7-4a9a-ff47-3558d0e522f9",
        "colab": {
          "base_uri": "https://localhost:8080/",
          "height": 52
        }
      },
      "source": [
        "df.loc[df['amenities'].str.contains('24-hour check-in'), 'check_in_24h'] = 1\n",
        "df.loc[df['amenities'].str.contains('Air conditioning|Central air conditioning'), 'air_conditioning'] = 1\n",
        "df.loc[df['amenities'].str.contains('Amazon Echo|Apple TV|Game console|Netflix|Projector and screen|Smart TV'), 'high_end_electronics'] = 1\n",
        "df.loc[df['amenities'].str.contains('BBQ grill|Fire pit|Propane barbeque'), 'bbq'] = 1\n",
        "df.loc[df['amenities'].str.contains('Balcony|Patio'), 'balcony'] = 1\n",
        "df.loc[df['amenities'].str.contains('Beach view|Beachfront|Lake access|Mountain view|Ski-in/Ski-out|Waterfront'), 'nature_and_views'] = 1\n",
        "df.loc[df['amenities'].str.contains('Bed linens'), 'bed_linen'] = 1\n",
        "df.loc[df['amenities'].str.contains('Breakfast'), 'breakfast'] = 1\n",
        "df.loc[df['amenities'].str.contains('TV'), 'tv'] = 1\n",
        "df.loc[df['amenities'].str.contains('Coffee maker|Espresso machine'), 'coffee_machine'] = 1\n",
        "df.loc[df['amenities'].str.contains('Cooking basics'), 'cooking_basics'] = 1\n",
        "df.loc[df['amenities'].str.contains('Dishwasher|Dryer|Washer'), 'white_goods'] = 1\n",
        "df.loc[df['amenities'].str.contains('Elevator'), 'elevator'] = 1\n",
        "df.loc[df['amenities'].str.contains('Exercise equipment|Gym|gym'), 'gym'] = 1\n",
        "df.loc[df['amenities'].str.contains('Family/kid friendly|Children|children'), 'child_friendly'] = 1\n",
        "df.loc[df['amenities'].str.contains('parking'), 'parking'] = 1\n",
        "df.loc[df['amenities'].str.contains('Garden|Outdoor|Sun loungers|Terrace'), 'outdoor_space'] = 1\n",
        "df.loc[df['amenities'].str.contains('Host greets you'), 'host_greeting'] = 1\n",
        "df.loc[df['amenities'].str.contains('Hot tub|Jetted tub|hot tub|Sauna|Pool|pool'), 'hot_tub_sauna_or_pool'] = 1\n",
        "df.loc[df['amenities'].str.contains('Internet|Pocket wifi|Wifi'), 'internet'] = 1\n",
        "df.loc[df['amenities'].str.contains('Long term stays allowed'), 'long_term_stays'] = 1\n",
        "df.loc[df['amenities'].str.contains('Pets|pet|Cat(s)|Dog(s)'), 'pets_allowed'] = 1\n",
        "df.loc[df['amenities'].str.contains('Private entrance'), 'private_entrance'] = 1\n",
        "df.loc[df['amenities'].str.contains('Safe|Security system'), 'secure'] = 1\n",
        "df.loc[df['amenities'].str.contains('Self check-in'), 'self_check_in'] = 1\n",
        "df.loc[df['amenities'].str.contains('Smoking allowed'), 'smoking_allowed'] = 1\n",
        "df.loc[df['amenities'].str.contains('Step-free access|Wheelchair|Accessible'), 'accessible'] = 1\n",
        "df.loc[df['amenities'].str.contains('Suitable for events'), 'event_suitable'] = 1"
      ],
      "execution_count": 0,
      "outputs": [
        {
          "output_type": "stream",
          "text": [
            "/usr/local/lib/python3.6/dist-packages/pandas/core/strings.py:1843: UserWarning: This pattern has match groups. To actually get the groups, use str.extract.\n",
            "  return func(self, *args, **kwargs)\n"
          ],
          "name": "stderr"
        }
      ]
    },
    {
      "cell_type": "code",
      "metadata": {
        "id": "VjRl_U7hAu2K",
        "colab_type": "code",
        "outputId": "42fbce20-6450-4272-83fc-bc215779f16c",
        "colab": {
          "base_uri": "https://localhost:8080/",
          "height": 34
        }
      },
      "source": [
        "# Replacing nulls with zeros for new columns\n",
        "cols_to_replace_nulls = df.iloc[:,41:].columns\n",
        "df[cols_to_replace_nulls] = df[cols_to_replace_nulls].fillna(0)\n",
        "\n",
        "# Produces a list of amenity features where one category (true or false) contains fewer than 10% of listings\n",
        "infrequent_amenities = []\n",
        "for col in df.iloc[:,41:].columns:\n",
        "    if df[col].sum() < len(df)/10:\n",
        "        infrequent_amenities.append(col)\n",
        "print(infrequent_amenities)\n",
        "\n",
        "# Dropping infrequent amenity features\n",
        "df.drop(infrequent_amenities, axis=1, inplace=True)\n",
        "\n",
        "# Dropping the original amenity feature\n",
        "df.drop('amenities', axis=1, inplace=True)"
      ],
      "execution_count": 0,
      "outputs": [
        {
          "output_type": "stream",
          "text": [
            "['check_in_24h', 'high_end_electronics', 'bbq', 'balcony', 'nature_and_views', 'breakfast', 'outdoor_space', 'hot_tub_sauna_or_pool', 'secure', 'smoking_allowed', 'accessible', 'event_suitable']\n"
          ],
          "name": "stdout"
        }
      ]
    },
    {
      "cell_type": "markdown",
      "metadata": {
        "id": "ex4sQCaSLiOa",
        "colab_type": "text"
      },
      "source": [
        "**Price** <br>\n",
        "The price was in a string format with the currency symbol."
      ]
    },
    {
      "cell_type": "code",
      "metadata": {
        "id": "j_85i-HyAzwB",
        "colab_type": "code",
        "colab": {}
      },
      "source": [
        "df.price = df.price.str[1:-3]\n",
        "df.price = df.price.str.replace(\",\", \"\")\n",
        "df.price = df.price.astype('int64')"
      ],
      "execution_count": 0,
      "outputs": []
    },
    {
      "cell_type": "code",
      "metadata": {
        "id": "dX9PLfqL0FHD",
        "colab_type": "code",
        "outputId": "85b0bc41-4420-4a8c-ac6a-4abedbd3c88e",
        "colab": {
          "base_uri": "https://localhost:8080/",
          "height": 282
        }
      },
      "source": [
        "# Plotting the price distribution to assess if we have values to drop like those very high\n",
        "df.price.hist()"
      ],
      "execution_count": 0,
      "outputs": [
        {
          "output_type": "execute_result",
          "data": {
            "text/plain": [
              "<matplotlib.axes._subplots.AxesSubplot at 0x7f72381c95c0>"
            ]
          },
          "metadata": {
            "tags": []
          },
          "execution_count": 222
        },
        {
          "output_type": "display_data",
          "data": {
            "image/png": "[encoded data removed]",
            "text/plain": [
              "<Figure size 432x288 with 1 Axes>"
            ]
          },
          "metadata": {
            "tags": []
          }
        }
      ]
    },
    {
      "cell_type": "markdown",
      "metadata": {
        "id": "HhDp1R8WNRs6",
        "colab_type": "text"
      },
      "source": [
        " **Security deposit** <br>\n",
        "Same in this case"
      ]
    },
    {
      "cell_type": "code",
      "metadata": {
        "id": "LyRvv45yA1ue",
        "colab_type": "code",
        "colab": {}
      },
      "source": [
        "df.security_deposit = df.security_deposit.str[1:-3]\n",
        "df.security_deposit = df.security_deposit.str.replace(\",\", \"\")\n",
        "df.security_deposit.fillna(0, inplace=True)\n",
        "df.security_deposit = df.security_deposit.astype('int64')"
      ],
      "execution_count": 0,
      "outputs": []
    },
    {
      "cell_type": "markdown",
      "metadata": {
        "id": "UdsKVpgTTFYq",
        "colab_type": "text"
      },
      "source": [
        "**Cleaning fee** <br>\n",
        "Same in this case"
      ]
    },
    {
      "cell_type": "code",
      "metadata": {
        "id": "Hz7PYJhHA3hV",
        "colab_type": "code",
        "colab": {}
      },
      "source": [
        "df.cleaning_fee = df.cleaning_fee.str[1:-3]\n",
        "df.cleaning_fee = df.cleaning_fee.str.replace(\",\", \"\")\n",
        "df.cleaning_fee.fillna(0, inplace=True)\n",
        "df.cleaning_fee = df.cleaning_fee.astype('int64')"
      ],
      "execution_count": 0,
      "outputs": []
    },
    {
      "cell_type": "markdown",
      "metadata": {
        "id": "tYOzwarQTJzk",
        "colab_type": "text"
      },
      "source": [
        "**Extra people** <br>\n",
        "Same situation in this case, converting to integer and dropping the unnecessary elements of the string"
      ]
    },
    {
      "cell_type": "code",
      "metadata": {
        "id": "duSPSPWHA5ah",
        "colab_type": "code",
        "colab": {}
      },
      "source": [
        "df.extra_people = df.extra_people.str[1:-3]\n",
        "df.extra_people = df.extra_people.str.replace(\",\", \"\")\n",
        "df.extra_people.fillna(0, inplace=True)\n",
        "df.extra_people = df.extra_people.astype('int64')"
      ],
      "execution_count": 0,
      "outputs": []
    },
    {
      "cell_type": "markdown",
      "metadata": {
        "id": "pgjimqRteSQN",
        "colab_type": "text"
      },
      "source": [
        "**calendar updated, availability 30, availability 60, availability 365** <br>\n",
        "Dropping some more columns"
      ]
    },
    {
      "cell_type": "code",
      "metadata": {
        "id": "2MSJDjDEA9TB",
        "colab_type": "code",
        "colab": {}
      },
      "source": [
        "df.drop(['calendar_updated', 'availability_30', 'availability_60', 'availability_365'], axis=1, inplace=True)"
      ],
      "execution_count": 0,
      "outputs": []
    },
    {
      "cell_type": "markdown",
      "metadata": {
        "id": "wzejGZAjehzp",
        "colab_type": "text"
      },
      "source": [
        "**First review** <br>\n"
      ]
    },
    {
      "cell_type": "code",
      "metadata": {
        "id": "engTuj80A-fv",
        "colab_type": "code",
        "colab": {}
      },
      "source": [
        "df.first_review = pd.to_datetime(df.first_review) # Converting to datetime\n",
        "\n",
        "# Calculating the number of days between the first review and the date the data was scraped\n",
        "df['time_since_first_review'] = (datetime(2019, 12, 29) - df.first_review).astype('timedelta64[D]')"
      ],
      "execution_count": 0,
      "outputs": []
    },
    {
      "cell_type": "markdown",
      "metadata": {
        "id": "g8fG3gpXx3oh",
        "colab_type": "text"
      },
      "source": [
        "Creating a binning function to rescale the data of the columns and create groups instead on numbers"
      ]
    },
    {
      "cell_type": "code",
      "metadata": {
        "id": "8bdNMAJmBA1X",
        "colab_type": "code",
        "colab": {}
      },
      "source": [
        "def bin_column(col, bins, labels, na_label='unknown'):\n",
        "    \"\"\"\n",
        "    Takes in a column name, bin cut points and labels, replaces the original column with a\n",
        "    binned version, and replaces nulls (with 'unknown' if unspecified).\n",
        "    \"\"\"\n",
        "    df[col] = pd.cut(df[col], bins=bins, labels=labels, include_lowest=True)\n",
        "    df[col] = df[col].astype('str')\n",
        "    df[col].fillna(na_label, inplace=True)"
      ],
      "execution_count": 0,
      "outputs": []
    },
    {
      "cell_type": "code",
      "metadata": {
        "id": "B8-4RZYMBDXc",
        "colab_type": "code",
        "colab": {}
      },
      "source": [
        "# Binning time since first review\n",
        "bin_column('time_since_first_review',\n",
        "           bins=[0, 182, 365, 730, 1460, max(df.time_since_first_review)],\n",
        "           labels=['0-6 months',\n",
        "                   '6-12 months',\n",
        "                   '1-2 years',\n",
        "                   '2-3 years',\n",
        "                   '4+ years'],\n",
        "           na_label='no reviews')"
      ],
      "execution_count": 0,
      "outputs": []
    },
    {
      "cell_type": "code",
      "metadata": {
        "id": "yg8o0YlZBFts",
        "colab_type": "code",
        "colab": {}
      },
      "source": [
        "df.last_review = pd.to_datetime(df.last_review) # Converting to datetime\n",
        "\n",
        "# Calculating the number of days between the most recent review and the date the data was scraped\n",
        "df['time_since_last_review'] = (datetime(2019, 4, 9) - df.last_review).astype('timedelta64[D]')"
      ],
      "execution_count": 0,
      "outputs": []
    },
    {
      "cell_type": "code",
      "metadata": {
        "id": "KGntwQWKBIJJ",
        "colab_type": "code",
        "colab": {}
      },
      "source": [
        "# Binning time since last review\n",
        "bin_column('time_since_last_review',\n",
        "           bins=[0, 14, 60, 182, 365, max(df.time_since_last_review)],\n",
        "           labels=['0-2 weeks',\n",
        "                   '2-8 weeks',\n",
        "                   '2-6 months',\n",
        "                   '6-12 months',\n",
        "                   '1+ year'],\n",
        "           na_label='no reviews')"
      ],
      "execution_count": 0,
      "outputs": []
    },
    {
      "cell_type": "markdown",
      "metadata": {
        "id": "Gq9nFvYzzaWc",
        "colab_type": "text"
      },
      "source": [
        "Dropping the column now that we have done all the necessary operations on it"
      ]
    },
    {
      "cell_type": "code",
      "metadata": {
        "id": "abVrUoXJBKaq",
        "colab_type": "code",
        "colab": {}
      },
      "source": [
        "# Dropping last_review - first_review will be kept for EDA and dropped later\n",
        "df.drop('last_review', axis=1, inplace=True)"
      ],
      "execution_count": 0,
      "outputs": []
    },
    {
      "cell_type": "code",
      "metadata": {
        "id": "thMn8oFxBNOc",
        "colab_type": "code",
        "colab": {}
      },
      "source": [
        "# Checking the distributions of the review ratings columns\n",
        "variables_to_plot = list(df.columns[df.columns.str.startswith(\"review_scores\") == True])"
      ],
      "execution_count": 0,
      "outputs": []
    },
    {
      "cell_type": "code",
      "metadata": {
        "id": "dyTKvWBABO-9",
        "colab_type": "code",
        "outputId": "8deb86c6-5f0b-4b7d-bc50-52cac1bdc4ba",
        "colab": {
          "base_uri": "https://localhost:8080/",
          "height": 34
        }
      },
      "source": [
        "variables_to_plot.pop(0)"
      ],
      "execution_count": 0,
      "outputs": [
        {
          "output_type": "execute_result",
          "data": {
            "text/plain": [
              "'review_scores_rating'"
            ]
          },
          "metadata": {
            "tags": []
          },
          "execution_count": 234
        }
      ]
    },
    {
      "cell_type": "code",
      "metadata": {
        "id": "JsCqeVIdBajK",
        "colab_type": "code",
        "colab": {}
      },
      "source": [
        "# Binning for all columns scored out of 10\n",
        "for col in variables_to_plot:\n",
        "    bin_column(col,\n",
        "               bins=[0, 8, 9, 10],\n",
        "               labels=['0-8/10', '9/10', '10/10'],\n",
        "               na_label='no reviews')"
      ],
      "execution_count": 0,
      "outputs": []
    },
    {
      "cell_type": "code",
      "metadata": {
        "id": "zPhnCPdeBcfP",
        "colab_type": "code",
        "colab": {}
      },
      "source": [
        "# Binning column scored out of 100\n",
        "bin_column('review_scores_rating',\n",
        "           bins=[0, 80, 95, 100],\n",
        "           labels=['0-79/100', '80-94/100', '95-100/100'],\n",
        "           na_label='no reviews')"
      ],
      "execution_count": 0,
      "outputs": []
    },
    {
      "cell_type": "code",
      "metadata": {
        "id": "QbIxB2HJBeLO",
        "colab_type": "code",
        "colab": {}
      },
      "source": [
        "# Replacing categories\n",
        "df.cancellation_policy.replace({\n",
        "    'super_strict_30': 'strict_14_with_grace_period',\n",
        "    'super_strict_60': 'strict_14_with_grace_period',\n",
        "    'strict': 'strict_14_with_grace_period',\n",
        "    'luxury_moderate': 'moderate'\n",
        "    }, inplace=True)"
      ],
      "execution_count": 0,
      "outputs": []
    },
    {
      "cell_type": "code",
      "metadata": {
        "id": "8dH_GxrABfzP",
        "colab_type": "code",
        "colab": {}
      },
      "source": [
        "df.drop(['number_of_reviews_ltm', 'reviews_per_month'], axis=1, inplace=True)"
      ],
      "execution_count": 0,
      "outputs": []
    },
    {
      "cell_type": "markdown",
      "metadata": {
        "id": "YMmxjfKuzzhi",
        "colab_type": "text"
      },
      "source": [
        "Now doing a little bit of data visualization to understand if we have a regional influence on the price to get a first view of the dataset"
      ]
    },
    {
      "cell_type": "code",
      "metadata": {
        "id": "52E0oXBIBhHp",
        "colab_type": "code",
        "outputId": "f7b0c404-96c9-4c65-90b7-e74ea4b6109f",
        "colab": {
          "base_uri": "https://localhost:8080/",
          "height": 472
        }
      },
      "source": [
        "import urllib\n",
        "\n",
        "lat_long2 = pd.merge(lat_long, df.price, left_index=True, right_index=True)\n",
        "\n",
        "\n",
        "#initializing the figure size\n",
        "plt.figure(figsize=(10,8))\n",
        "#loading the png NYC image found on Google and saving to my local folder along with the project\n",
        "i=urllib.request.urlopen('https://upload.wikimedia.org/wikipedia/commons/e/ec/Neighbourhoods_New_York_City_Map.PNG')\n",
        "nyc_img=plt.imread(i)\n",
        "#scaling the image based on the latitude and longitude max and mins for proper output\n",
        "plt.imshow(nyc_img,zorder=0,extent=[-74.258, -73.7, 40.49,40.92])\n",
        "ax=plt.gca()\n",
        "#using scatterplot again\n",
        "lat_long2[lat_long2.price<500].plot(kind='scatter', x='longitude', y='latitude', label='availability_365', c='price', ax=ax, \n",
        "           cmap=plt.get_cmap('jet'), colorbar=True, alpha=0.4, zorder=5)\n",
        "plt.legend()\n",
        "plt.show()"
      ],
      "execution_count": 0,
      "outputs": [
        {
          "output_type": "display_data",
          "data": {
            "image/png": "[encoded data removed]",
            "text/plain": [
              "<Figure size 720x576 with 2 Axes>"
            ]
          },
          "metadata": {
            "tags": []
          }
        }
      ]
    },
    {
      "cell_type": "markdown",
      "metadata": {
        "id": "TjhmIyKDz84e",
        "colab_type": "text"
      },
      "source": [
        "We clearly see that Lower Manhattan is a region where prices are relatively high. The Brooklyn area is also an area with high prices, for the rest of the areas, nothing particular to notice yet."
      ]
    },
    {
      "cell_type": "code",
      "metadata": {
        "id": "ms4cmmyJCYKS",
        "colab_type": "code",
        "colab": {}
      },
      "source": [
        ""
      ],
      "execution_count": 0,
      "outputs": []
    },
    {
      "cell_type": "markdown",
      "metadata": {
        "id": "uk10cisRvi9a",
        "colab_type": "text"
      },
      "source": [
        "Looking at the number of hosts joining AirBnB and those getting a first review"
      ]
    },
    {
      "cell_type": "code",
      "metadata": {
        "id": "3v_A2pXrvtpf",
        "colab_type": "code",
        "outputId": "e7182148-9287-4163-edd1-57ecfcc2d156",
        "colab": {
          "base_uri": "https://localhost:8080/",
          "height": 335
        }
      },
      "source": [
        "plt.figure(figsize=(15,5))\n",
        "df.set_index('host_since').resample('MS').size().plot(label='Hosts joining AirBnB', color='orange')\n",
        "df.set_index('first_review').resample('MS').size().plot(label='Listings getting their first review', color='green')\n",
        "plt.title('New York City hosts joining AirBnB and listings getting their first review in each month')\n",
        "plt.legend()\n",
        "plt.xlim('2008-08-01', '2019-11-30')\n",
        "plt.xlabel('')\n",
        "plt.ylabel('')\n",
        "plt.show()"
      ],
      "execution_count": 0,
      "outputs": [
        {
          "output_type": "display_data",
          "data": {
            "image/png": "[encoded data removed]",
            "text/plain": [
              "<Figure size 1080x360 with 1 Axes>"
            ]
          },
          "metadata": {
            "tags": []
          }
        }
      ]
    },
    {
      "cell_type": "markdown",
      "metadata": {
        "id": "Ec3g6IEGw4N_",
        "colab_type": "text"
      },
      "source": [
        "Nightly prices "
      ]
    },
    {
      "cell_type": "code",
      "metadata": {
        "id": "rsk2DPLlvuln",
        "colab_type": "code",
        "outputId": "baa21195-a6a7-47bb-f667-ea6b815ead59",
        "colab": {
          "base_uri": "https://localhost:8080/",
          "height": 296
        }
      },
      "source": [
        "plt.figure(figsize=(20,4))\n",
        "df.price.hist(bins=100, range=(0,1000))\n",
        "plt.margins(x=0)\n",
        "plt.axvline(500, color='orange', linestyle='--')\n",
        "plt.title(\"AirBnB advertised nightly prices in New York City up to $1000\", fontsize=16)\n",
        "plt.xlabel(\"Price ($)\")\n",
        "plt.ylabel(\"Number of listings\")\n",
        "plt.show()"
      ],
      "execution_count": 0,
      "outputs": [
        {
          "output_type": "display_data",
          "data": {
            "image/png": "[encoded data removed]",
            "text/plain": [
              "<Figure size 1440x288 with 1 Axes>"
            ]
          },
          "metadata": {
            "tags": []
          }
        }
      ]
    },
    {
      "cell_type": "markdown",
      "metadata": {
        "id": "6x8lcLwJxl7j",
        "colab_type": "text"
      },
      "source": [
        "Median prices of listings according to the number of people being accomodated"
      ]
    },
    {
      "cell_type": "code",
      "metadata": {
        "id": "QZXKKaVGxk59",
        "colab_type": "code",
        "outputId": "447c41a4-1330-40c9-a24d-acfef2c7db8f",
        "colab": {
          "base_uri": "https://localhost:8080/",
          "height": 354
        }
      },
      "source": [
        "plt.figure(figsize=(10,5))\n",
        "df.groupby('accommodates').price.median().plot(kind='bar')\n",
        "plt.title('Median price of AirBnB accommodating different number of guests', fontsize=14)\n",
        "plt.xlabel('Number of guests accommodated', fontsize=13)\n",
        "plt.ylabel('Median price ($)', fontsize=13)\n",
        "plt.xticks(rotation=0)\n",
        "plt.xlim(left=0.5)\n",
        "plt.show()"
      ],
      "execution_count": 0,
      "outputs": [
        {
          "output_type": "display_data",
          "data": {
            "image/png": "[encoded data removed]",
            "text/plain": [
              "<Figure size 720x360 with 1 Axes>"
            ]
          },
          "metadata": {
            "tags": []
          }
        }
      ]
    },
    {
      "cell_type": "code",
      "metadata": {
        "id": "FiBJTSNMTnkY",
        "colab_type": "code",
        "colab": {}
      },
      "source": [
        "df.drop(['host_since', 'first_review'], axis=1, inplace=True)"
      ],
      "execution_count": 0,
      "outputs": []
    },
    {
      "cell_type": "markdown",
      "metadata": {
        "id": "qCWN0dxZo-GA",
        "colab_type": "text"
      },
      "source": [
        "# Preparing data for modelling"
      ]
    },
    {
      "cell_type": "code",
      "metadata": {
        "id": "p8_JQxC-BpRc",
        "colab_type": "code",
        "colab": {}
      },
      "source": [
        "transformed_df = pd.get_dummies(df[df.price<500])"
      ],
      "execution_count": 0,
      "outputs": []
    },
    {
      "cell_type": "code",
      "metadata": {
        "id": "mmgp5Q93BrfT",
        "colab_type": "code",
        "colab": {}
      },
      "source": [
        "# Dropping collinear features\n",
        "to_drop = ['beds',\n",
        "           'bedrooms',\n",
        "           'guests_included', \n",
        "           'host_response_rate_unknown',\n",
        "           'host_response_rate_0-49%',\n",
        "           'property_type_Apartment',\n",
        "           'room_type_Private room']\n",
        "to_drop.extend(list(transformed_df.columns[transformed_df.columns.str.endswith('nan')]))\n",
        "\n",
        "transformed_df.drop(to_drop, axis=1, inplace=True)"
      ],
      "execution_count": 0,
      "outputs": []
    },
    {
      "cell_type": "code",
      "metadata": {
        "id": "A0EwhJUvBuxO",
        "colab_type": "code",
        "colab": {}
      },
      "source": [
        "numerical_columns = ['accommodates', 'availability_90', 'bathrooms', 'cleaning_fee', 'extra_people', 'host_days_active', 'host_listings_count', 'maximum_nights', 'minimum_nights', 'number_of_reviews', 'price', 'security_deposit']\n",
        "\n",
        "# Log transforming columns\n",
        "numerical_columns = [i for i in numerical_columns if i not in ['availability_90', 'host_days_active']] # Removing items not to be transformed\n",
        "\n",
        "for col in numerical_columns:\n",
        "    transformed_df[col] = transformed_df[col].astype('float64').replace(0.0, 0.01) # Replacing 0s with 0.01\n",
        "    transformed_df[col] = np.log(transformed_df[col])"
      ],
      "execution_count": 0,
      "outputs": []
    },
    {
      "cell_type": "code",
      "metadata": {
        "id": "qkUFSqq_Bzkw",
        "colab_type": "code",
        "colab": {}
      },
      "source": [
        "# Separating X and y\n",
        "X = transformed_df.drop('price', axis=1)\n",
        "y = transformed_df.price\n",
        "\n",
        "# Scaling\n",
        "scaler = StandardScaler()\n",
        "X = pd.DataFrame(scaler.fit_transform(X), columns=list(X.columns))"
      ],
      "execution_count": 0,
      "outputs": []
    },
    {
      "cell_type": "code",
      "metadata": {
        "id": "794yi3-WB1tn",
        "colab_type": "code",
        "colab": {}
      },
      "source": [
        "# Splitting into train and test sets\n",
        "X_train, X_test, y_train, y_test = train_test_split(X, y, test_size=0.2, random_state=123)"
      ],
      "execution_count": 0,
      "outputs": []
    },
    {
      "cell_type": "markdown",
      "metadata": {
        "id": "UDfjHPgjvpyW",
        "colab_type": "text"
      },
      "source": [
        "Creating a function to evaluate the performance of our different neural networks"
      ]
    },
    {
      "cell_type": "code",
      "metadata": {
        "id": "D66fET-0vo2L",
        "colab_type": "code",
        "colab": {}
      },
      "source": [
        "def nn_model_evaluation(model, skip_epochs=0, X_train=X_train, X_test=X_test, y_train=y_train, y_test=y_test):\n",
        "    \"\"\"\n",
        "    For a given neural network model that has already been fit, prints for the train and tests sets the MSE and r squared\n",
        "    values, a line graph of the loss in each epoch, and a scatterplot of predicted vs. actual values with a line\n",
        "    representing where predicted = actual values. Optionally, a value for skip_epoch can be provided, which skips that\n",
        "    number of epochs in the line graph of losses (useful in cases where the loss in the first epoch is orders of magnitude\n",
        "    larger than subsequent epochs). Training and test sets can also optionally be specified.\n",
        "    \"\"\"\n",
        "\n",
        "    # MSE and r squared values\n",
        "    y_test_pred = model.predict(X_test)\n",
        "    y_train_pred = model.predict(X_train)\n",
        "    print(\"Training MSE:\", round(mean_squared_error(y_train, y_train_pred),4))\n",
        "    print(\"Validation MSE:\", round(mean_squared_error(y_test, y_test_pred),4))\n",
        "    print(\"\\nTraining r2:\", round(r2_score(y_train, y_train_pred),4))\n",
        "    print(\"Validation r2:\", round(r2_score(y_test, y_test_pred),4))\n",
        "    \n",
        "    # Line graph of losses\n",
        "    model_results = model.history.history\n",
        "    plt.plot(list(range((skip_epochs+1),len(model_results['loss'])+1)), model_results['loss'][skip_epochs:], label='Train')\n",
        "    plt.plot(list(range((skip_epochs+1),len(model_results['val_loss'])+1)), model_results['val_loss'][skip_epochs:], label='Test', color='green')\n",
        "    plt.legend()\n",
        "    plt.title('Training and test loss at each epoch', fontsize=14)\n",
        "    plt.show()\n",
        "    \n",
        "    # Scatterplot of predicted vs. actual values\n",
        "    fig, (ax1, ax2) = plt.subplots(1, 2, figsize=(12, 4))\n",
        "    fig.suptitle('Predicted vs. actual values', fontsize=14, y=1)\n",
        "    plt.subplots_adjust(top=0.93, wspace=0)\n",
        "    \n",
        "    ax1.scatter(y_test, y_test_pred, s=2, alpha=0.7)\n",
        "    ax1.plot(list(range(2,8)), list(range(2,8)), color='black', linestyle='--')\n",
        "    ax1.set_title('Test set')\n",
        "    ax1.set_xlabel('Actual values')\n",
        "    ax1.set_ylabel('Predicted values')\n",
        "    \n",
        "    ax2.scatter(y_train, y_train_pred, s=2, alpha=0.7)\n",
        "    ax2.plot(list(range(2,8)), list(range(2,8)), color='black', linestyle='--')\n",
        "    ax2.set_title('Train set')\n",
        "    ax2.set_xlabel('Actual values')\n",
        "    ax2.set_ylabel('')\n",
        "    ax2.set_yticklabels(labels='')\n",
        "    \n",
        "    plt.show()"
      ],
      "execution_count": 0,
      "outputs": []
    },
    {
      "cell_type": "markdown",
      "metadata": {
        "id": "HBsikv1u-scJ",
        "colab_type": "text"
      },
      "source": [
        "Linear regression"
      ]
    },
    {
      "cell_type": "code",
      "metadata": {
        "id": "o857Z1HE-rxa",
        "colab_type": "code",
        "outputId": "5c37b278-3710-47cb-d219-01575e0f4516",
        "colab": {
          "base_uri": "https://localhost:8080/",
          "height": 1000
        }
      },
      "source": [
        "import statsmodels.api as sm\n",
        "\n",
        "X1 = X_train.copy()\n",
        "X1 = sm.add_constant(X1) ## let's add an intercept (beta_0) to our model\n",
        "X1 = np.array(X1)\n",
        "\n",
        "model = sm.OLS(y_train, X1).fit()\n",
        "predictions = model.predict(X_test)\n",
        "\n",
        "model.summary()"
      ],
      "execution_count": 0,
      "outputs": [
        {
          "output_type": "stream",
          "text": [
            "/usr/local/lib/python3.6/dist-packages/numpy/core/fromnumeric.py:2495: FutureWarning: Method .ptp is deprecated and will be removed in a future version. Use numpy.ptp instead.\n",
            "  return ptp(axis=axis, out=out, **kwargs)\n"
          ],
          "name": "stderr"
        },
        {
          "output_type": "execute_result",
          "data": {
            "text/html": [
              "<table class=\"simpletable\">\n",
              "<caption>OLS Regression Results</caption>\n",
              "<tr>\n",
              "  <th>Dep. Variable:</th>          <td>price</td>      <th>  R-squared:         </th> <td>   0.648</td> \n",
              "</tr>\n",
              "<tr>\n",
              "  <th>Model:</th>                   <td>OLS</td>       <th>  Adj. R-squared:    </th> <td>   0.645</td> \n",
              "</tr>\n",
              "<tr>\n",
              "  <th>Method:</th>             <td>Least Squares</td>  <th>  F-statistic:       </th> <td>   242.4</td> \n",
              "</tr>\n",
              "<tr>\n",
              "  <th>Date:</th>             <td>Thu, 09 Jan 2020</td> <th>  Prob (F-statistic):</th>  <td>  0.00</td>  \n",
              "</tr>\n",
              "<tr>\n",
              "  <th>Time:</th>                 <td>11:15:53</td>     <th>  Log-Likelihood:    </th> <td> -18034.</td> \n",
              "</tr>\n",
              "<tr>\n",
              "  <th>No. Observations:</th>      <td> 39024</td>      <th>  AIC:               </th> <td>3.666e+04</td>\n",
              "</tr>\n",
              "<tr>\n",
              "  <th>Df Residuals:</th>          <td> 38729</td>      <th>  BIC:               </th> <td>3.919e+04</td>\n",
              "</tr>\n",
              "<tr>\n",
              "  <th>Df Model:</th>              <td>   294</td>      <th>                     </th>     <td> </td>    \n",
              "</tr>\n",
              "<tr>\n",
              "  <th>Covariance Type:</th>      <td>nonrobust</td>    <th>                     </th>     <td> </td>    \n",
              "</tr>\n",
              "</table>\n",
              "<table class=\"simpletable\">\n",
              "<tr>\n",
              "    <td></td>      <th>coef</th>     <th>std err</th>      <th>t</th>      <th>P>|t|</th>  <th>[0.025</th>    <th>0.975]</th>  \n",
              "</tr>\n",
              "<tr>\n",
              "  <th>x1</th>   <td>    0.0102</td> <td>    0.002</td> <td>    4.131</td> <td> 0.000</td> <td>    0.005</td> <td>    0.015</td>\n",
              "</tr>\n",
              "<tr>\n",
              "  <th>x2</th>   <td>   -0.0123</td> <td>    0.002</td> <td>   -5.073</td> <td> 0.000</td> <td>   -0.017</td> <td>   -0.008</td>\n",
              "</tr>\n",
              "<tr>\n",
              "  <th>x3</th>   <td>   -0.0050</td> <td>    0.002</td> <td>   -2.184</td> <td> 0.029</td> <td>   -0.010</td> <td>   -0.001</td>\n",
              "</tr>\n",
              "<tr>\n",
              "  <th>x4</th>   <td>    0.1822</td> <td>    0.003</td> <td>   67.116</td> <td> 0.000</td> <td>    0.177</td> <td>    0.187</td>\n",
              "</tr>\n",
              "<tr>\n",
              "  <th>x5</th>   <td>    0.0200</td> <td>    0.002</td> <td>    9.566</td> <td> 0.000</td> <td>    0.016</td> <td>    0.024</td>\n",
              "</tr>\n",
              "<tr>\n",
              "  <th>x6</th>   <td>    0.0131</td> <td>    0.002</td> <td>    5.857</td> <td> 0.000</td> <td>    0.009</td> <td>    0.017</td>\n",
              "</tr>\n",
              "<tr>\n",
              "  <th>x7</th>   <td>    0.0130</td> <td>    0.002</td> <td>    5.481</td> <td> 0.000</td> <td>    0.008</td> <td>    0.018</td>\n",
              "</tr>\n",
              "<tr>\n",
              "  <th>x8</th>   <td>   -0.0213</td> <td>    0.002</td> <td>   -9.445</td> <td> 0.000</td> <td>   -0.026</td> <td>   -0.017</td>\n",
              "</tr>\n",
              "<tr>\n",
              "  <th>x9</th>   <td>   -0.0672</td> <td>    0.002</td> <td>  -28.785</td> <td> 0.000</td> <td>   -0.072</td> <td>   -0.063</td>\n",
              "</tr>\n",
              "<tr>\n",
              "  <th>x10</th>  <td>   -0.0064</td> <td>    0.002</td> <td>   -3.093</td> <td> 0.002</td> <td>   -0.010</td> <td>   -0.002</td>\n",
              "</tr>\n",
              "<tr>\n",
              "  <th>x11</th>  <td>    0.0577</td> <td>    0.003</td> <td>   23.066</td> <td> 0.000</td> <td>    0.053</td> <td>    0.063</td>\n",
              "</tr>\n",
              "<tr>\n",
              "  <th>x12</th>  <td>   -0.0922</td> <td>    0.008</td> <td>  -11.714</td> <td> 0.000</td> <td>   -0.108</td> <td>   -0.077</td>\n",
              "</tr>\n",
              "<tr>\n",
              "  <th>x13</th>  <td>    0.0077</td> <td>    0.002</td> <td>    3.577</td> <td> 0.000</td> <td>    0.003</td> <td>    0.012</td>\n",
              "</tr>\n",
              "<tr>\n",
              "  <th>x14</th>  <td>    0.0180</td> <td>    0.003</td> <td>    6.960</td> <td> 0.000</td> <td>    0.013</td> <td>    0.023</td>\n",
              "</tr>\n",
              "<tr>\n",
              "  <th>x15</th>  <td>    0.0148</td> <td>    0.002</td> <td>    7.017</td> <td> 0.000</td> <td>    0.011</td> <td>    0.019</td>\n",
              "</tr>\n",
              "<tr>\n",
              "  <th>x16</th>  <td>   -0.0041</td> <td>    0.003</td> <td>   -1.643</td> <td> 0.100</td> <td>   -0.009</td> <td>    0.001</td>\n",
              "</tr>\n",
              "<tr>\n",
              "  <th>x17</th>  <td>    0.0281</td> <td>    0.002</td> <td>   13.098</td> <td> 0.000</td> <td>    0.024</td> <td>    0.032</td>\n",
              "</tr>\n",
              "<tr>\n",
              "  <th>x18</th>  <td>    0.0074</td> <td>    0.003</td> <td>    2.578</td> <td> 0.010</td> <td>    0.002</td> <td>    0.013</td>\n",
              "</tr>\n",
              "<tr>\n",
              "  <th>x19</th>  <td>   -0.0092</td> <td>    0.003</td> <td>   -3.096</td> <td> 0.002</td> <td>   -0.015</td> <td>   -0.003</td>\n",
              "</tr>\n",
              "<tr>\n",
              "  <th>x20</th>  <td>    0.0345</td> <td>    0.002</td> <td>   15.113</td> <td> 0.000</td> <td>    0.030</td> <td>    0.039</td>\n",
              "</tr>\n",
              "<tr>\n",
              "  <th>x21</th>  <td>    0.0240</td> <td>    0.002</td> <td>    9.592</td> <td> 0.000</td> <td>    0.019</td> <td>    0.029</td>\n",
              "</tr>\n",
              "<tr>\n",
              "  <th>x22</th>  <td>    0.0236</td> <td>    0.002</td> <td>    9.939</td> <td> 0.000</td> <td>    0.019</td> <td>    0.028</td>\n",
              "</tr>\n",
              "<tr>\n",
              "  <th>x23</th>  <td>    0.0119</td> <td>    0.002</td> <td>    5.239</td> <td> 0.000</td> <td>    0.007</td> <td>    0.016</td>\n",
              "</tr>\n",
              "<tr>\n",
              "  <th>x24</th>  <td>   -0.0074</td> <td>    0.003</td> <td>   -2.920</td> <td> 0.003</td> <td>   -0.012</td> <td>   -0.002</td>\n",
              "</tr>\n",
              "<tr>\n",
              "  <th>x25</th>  <td>    0.0074</td> <td>    0.002</td> <td>    3.277</td> <td> 0.001</td> <td>    0.003</td> <td>    0.012</td>\n",
              "</tr>\n",
              "<tr>\n",
              "  <th>x26</th>  <td>   -0.0076</td> <td>    0.002</td> <td>   -3.717</td> <td> 0.000</td> <td>   -0.012</td> <td>   -0.004</td>\n",
              "</tr>\n",
              "<tr>\n",
              "  <th>x27</th>  <td>    0.0035</td> <td>    0.002</td> <td>    1.460</td> <td> 0.144</td> <td>   -0.001</td> <td>    0.008</td>\n",
              "</tr>\n",
              "<tr>\n",
              "  <th>x28</th>  <td>    0.0028</td> <td>    0.002</td> <td>    1.369</td> <td> 0.171</td> <td>   -0.001</td> <td>    0.007</td>\n",
              "</tr>\n",
              "<tr>\n",
              "  <th>x29</th>  <td>    0.0121</td> <td>    0.002</td> <td>    5.507</td> <td> 0.000</td> <td>    0.008</td> <td>    0.016</td>\n",
              "</tr>\n",
              "<tr>\n",
              "  <th>x30</th>  <td>    0.0106</td> <td>    0.002</td> <td>    4.468</td> <td> 0.000</td> <td>    0.006</td> <td>    0.015</td>\n",
              "</tr>\n",
              "<tr>\n",
              "  <th>x31</th>  <td>    0.0065</td> <td>    0.003</td> <td>    2.439</td> <td> 0.015</td> <td>    0.001</td> <td>    0.012</td>\n",
              "</tr>\n",
              "<tr>\n",
              "  <th>x32</th>  <td>   -0.0008</td> <td>    0.007</td> <td>   -0.110</td> <td> 0.912</td> <td>   -0.014</td> <td>    0.013</td>\n",
              "</tr>\n",
              "<tr>\n",
              "  <th>x33</th>  <td>    0.0055</td> <td>    0.002</td> <td>    2.238</td> <td> 0.025</td> <td>    0.001</td> <td>    0.010</td>\n",
              "</tr>\n",
              "<tr>\n",
              "  <th>x34</th>  <td> 6.634e-05</td> <td>    0.003</td> <td>    0.020</td> <td> 0.984</td> <td>   -0.006</td> <td>    0.007</td>\n",
              "</tr>\n",
              "<tr>\n",
              "  <th>x35</th>  <td>   -0.0043</td> <td>    0.004</td> <td>   -1.001</td> <td> 0.317</td> <td>   -0.013</td> <td>    0.004</td>\n",
              "</tr>\n",
              "<tr>\n",
              "  <th>x36</th>  <td>    0.0063</td> <td>    0.011</td> <td>    0.576</td> <td> 0.565</td> <td>   -0.015</td> <td>    0.028</td>\n",
              "</tr>\n",
              "<tr>\n",
              "  <th>x37</th>  <td>   -0.0044</td> <td>    0.007</td> <td>   -0.627</td> <td> 0.531</td> <td>   -0.018</td> <td>    0.009</td>\n",
              "</tr>\n",
              "<tr>\n",
              "  <th>x38</th>  <td>   -0.0173</td> <td>    0.006</td> <td>   -2.820</td> <td> 0.005</td> <td>   -0.029</td> <td>   -0.005</td>\n",
              "</tr>\n",
              "<tr>\n",
              "  <th>x39</th>  <td>    0.1328</td> <td>    0.002</td> <td>   66.682</td> <td> 0.000</td> <td>    0.129</td> <td>    0.137</td>\n",
              "</tr>\n",
              "<tr>\n",
              "  <th>x40</th>  <td>    0.0424</td> <td>    0.003</td> <td>   15.338</td> <td> 0.000</td> <td>    0.037</td> <td>    0.048</td>\n",
              "</tr>\n",
              "<tr>\n",
              "  <th>x41</th>  <td>    0.0881</td> <td>    0.002</td> <td>   47.620</td> <td> 0.000</td> <td>    0.084</td> <td>    0.092</td>\n",
              "</tr>\n",
              "<tr>\n",
              "  <th>x42</th>  <td>    0.1849</td> <td>    0.002</td> <td>   95.031</td> <td> 0.000</td> <td>    0.181</td> <td>    0.189</td>\n",
              "</tr>\n",
              "<tr>\n",
              "  <th>x43</th>  <td>    0.6341</td> <td>    0.002</td> <td>  329.542</td> <td> 0.000</td> <td>    0.630</td> <td>    0.638</td>\n",
              "</tr>\n",
              "<tr>\n",
              "  <th>x44</th>  <td>    0.1097</td> <td>    0.002</td> <td>   60.449</td> <td> 0.000</td> <td>    0.106</td> <td>    0.113</td>\n",
              "</tr>\n",
              "<tr>\n",
              "  <th>x45</th>  <td>    0.1883</td> <td>    0.002</td> <td>   95.689</td> <td> 0.000</td> <td>    0.184</td> <td>    0.192</td>\n",
              "</tr>\n",
              "<tr>\n",
              "  <th>x46</th>  <td>    0.2499</td> <td>    0.002</td> <td>  124.106</td> <td> 0.000</td> <td>    0.246</td> <td>    0.254</td>\n",
              "</tr>\n",
              "<tr>\n",
              "  <th>x47</th>  <td>    0.0489</td> <td>    0.002</td> <td>   25.003</td> <td> 0.000</td> <td>    0.045</td> <td>    0.053</td>\n",
              "</tr>\n",
              "<tr>\n",
              "  <th>x48</th>  <td>    0.0197</td> <td>    0.002</td> <td>   11.280</td> <td> 0.000</td> <td>    0.016</td> <td>    0.023</td>\n",
              "</tr>\n",
              "<tr>\n",
              "  <th>x49</th>  <td>    0.0572</td> <td>    0.002</td> <td>   28.325</td> <td> 0.000</td> <td>    0.053</td> <td>    0.061</td>\n",
              "</tr>\n",
              "<tr>\n",
              "  <th>x50</th>  <td>    0.1406</td> <td>    0.002</td> <td>   71.462</td> <td> 0.000</td> <td>    0.137</td> <td>    0.144</td>\n",
              "</tr>\n",
              "<tr>\n",
              "  <th>x51</th>  <td>    0.0735</td> <td>    0.002</td> <td>   38.661</td> <td> 0.000</td> <td>    0.070</td> <td>    0.077</td>\n",
              "</tr>\n",
              "<tr>\n",
              "  <th>x52</th>  <td>    1.2538</td> <td>    0.002</td> <td>  639.534</td> <td> 0.000</td> <td>    1.250</td> <td>    1.258</td>\n",
              "</tr>\n",
              "<tr>\n",
              "  <th>x53</th>  <td>    0.0577</td> <td>    0.002</td> <td>   24.959</td> <td> 0.000</td> <td>    0.053</td> <td>    0.062</td>\n",
              "</tr>\n",
              "<tr>\n",
              "  <th>x54</th>  <td>    0.0754</td> <td>    0.002</td> <td>   39.665</td> <td> 0.000</td> <td>    0.072</td> <td>    0.079</td>\n",
              "</tr>\n",
              "<tr>\n",
              "  <th>x55</th>  <td>    0.1158</td> <td>    0.002</td> <td>   58.525</td> <td> 0.000</td> <td>    0.112</td> <td>    0.120</td>\n",
              "</tr>\n",
              "<tr>\n",
              "  <th>x56</th>  <td>    0.1805</td> <td>    0.002</td> <td>   90.255</td> <td> 0.000</td> <td>    0.177</td> <td>    0.184</td>\n",
              "</tr>\n",
              "<tr>\n",
              "  <th>x57</th>  <td>    0.0832</td> <td>    0.002</td> <td>   41.596</td> <td> 0.000</td> <td>    0.079</td> <td>    0.087</td>\n",
              "</tr>\n",
              "<tr>\n",
              "  <th>x58</th>  <td>    0.2907</td> <td>    0.002</td> <td>  149.662</td> <td> 0.000</td> <td>    0.287</td> <td>    0.295</td>\n",
              "</tr>\n",
              "<tr>\n",
              "  <th>x59</th>  <td>    0.2438</td> <td>    0.002</td> <td>  127.312</td> <td> 0.000</td> <td>    0.240</td> <td>    0.248</td>\n",
              "</tr>\n",
              "<tr>\n",
              "  <th>x60</th>  <td>    0.0436</td> <td>    0.002</td> <td>   24.914</td> <td> 0.000</td> <td>    0.040</td> <td>    0.047</td>\n",
              "</tr>\n",
              "<tr>\n",
              "  <th>x61</th>  <td>    0.1428</td> <td>    0.002</td> <td>   70.373</td> <td> 0.000</td> <td>    0.139</td> <td>    0.147</td>\n",
              "</tr>\n",
              "<tr>\n",
              "  <th>x62</th>  <td>    0.1745</td> <td>    0.002</td> <td>   86.822</td> <td> 0.000</td> <td>    0.171</td> <td>    0.178</td>\n",
              "</tr>\n",
              "<tr>\n",
              "  <th>x63</th>  <td>    0.0819</td> <td>    0.002</td> <td>   46.795</td> <td> 0.000</td> <td>    0.078</td> <td>    0.085</td>\n",
              "</tr>\n",
              "<tr>\n",
              "  <th>x64</th>  <td>    0.2718</td> <td>    0.002</td> <td>  139.908</td> <td> 0.000</td> <td>    0.268</td> <td>    0.276</td>\n",
              "</tr>\n",
              "<tr>\n",
              "  <th>x65</th>  <td>    0.1747</td> <td>    0.002</td> <td>   87.338</td> <td> 0.000</td> <td>    0.171</td> <td>    0.179</td>\n",
              "</tr>\n",
              "<tr>\n",
              "  <th>x66</th>  <td>    0.0288</td> <td>    0.003</td> <td>    9.512</td> <td> 0.000</td> <td>    0.023</td> <td>    0.035</td>\n",
              "</tr>\n",
              "<tr>\n",
              "  <th>x67</th>  <td>    1.0025</td> <td>    0.002</td> <td>  511.441</td> <td> 0.000</td> <td>    0.999</td> <td>    1.006</td>\n",
              "</tr>\n",
              "<tr>\n",
              "  <th>x68</th>  <td>    0.1148</td> <td>    0.002</td> <td>   59.029</td> <td> 0.000</td> <td>    0.111</td> <td>    0.119</td>\n",
              "</tr>\n",
              "<tr>\n",
              "  <th>x69</th>  <td>    0.2638</td> <td>    0.002</td> <td>  131.839</td> <td> 0.000</td> <td>    0.260</td> <td>    0.268</td>\n",
              "</tr>\n",
              "<tr>\n",
              "  <th>x70</th>  <td>    0.3372</td> <td>    0.002</td> <td>  174.178</td> <td> 0.000</td> <td>    0.333</td> <td>    0.341</td>\n",
              "</tr>\n",
              "<tr>\n",
              "  <th>x71</th>  <td>    0.0331</td> <td>    0.002</td> <td>   18.919</td> <td> 0.000</td> <td>    0.030</td> <td>    0.036</td>\n",
              "</tr>\n",
              "<tr>\n",
              "  <th>x72</th>  <td>    0.0413</td> <td>    0.002</td> <td>   23.653</td> <td> 0.000</td> <td>    0.038</td> <td>    0.045</td>\n",
              "</tr>\n",
              "<tr>\n",
              "  <th>x73</th>  <td>    0.7630</td> <td>    0.002</td> <td>  385.968</td> <td> 0.000</td> <td>    0.759</td> <td>    0.767</td>\n",
              "</tr>\n",
              "<tr>\n",
              "  <th>x74</th>  <td>    0.4326</td> <td>    0.002</td> <td>  220.350</td> <td> 0.000</td> <td>    0.429</td> <td>    0.436</td>\n",
              "</tr>\n",
              "<tr>\n",
              "  <th>x75</th>  <td>    0.0864</td> <td>    0.002</td> <td>   41.985</td> <td> 0.000</td> <td>    0.082</td> <td>    0.090</td>\n",
              "</tr>\n",
              "<tr>\n",
              "  <th>x76</th>  <td>    0.1487</td> <td>    0.002</td> <td>   78.794</td> <td> 0.000</td> <td>    0.145</td> <td>    0.152</td>\n",
              "</tr>\n",
              "<tr>\n",
              "  <th>x77</th>  <td>    0.1052</td> <td>    0.002</td> <td>   53.311</td> <td> 0.000</td> <td>    0.101</td> <td>    0.109</td>\n",
              "</tr>\n",
              "<tr>\n",
              "  <th>x78</th>  <td>    0.1027</td> <td>    0.002</td> <td>   54.332</td> <td> 0.000</td> <td>    0.099</td> <td>    0.106</td>\n",
              "</tr>\n",
              "<tr>\n",
              "  <th>x79</th>  <td>    0.0816</td> <td>    0.002</td> <td>   40.773</td> <td> 0.000</td> <td>    0.078</td> <td>    0.085</td>\n",
              "</tr>\n",
              "<tr>\n",
              "  <th>x80</th>  <td>    0.5138</td> <td>    0.002</td> <td>  267.529</td> <td> 0.000</td> <td>    0.510</td> <td>    0.518</td>\n",
              "</tr>\n",
              "<tr>\n",
              "  <th>x81</th>  <td>    0.0383</td> <td>    0.002</td> <td>   21.918</td> <td> 0.000</td> <td>    0.035</td> <td>    0.042</td>\n",
              "</tr>\n",
              "<tr>\n",
              "  <th>x82</th>  <td>    0.2195</td> <td>    0.002</td> <td>  112.755</td> <td> 0.000</td> <td>    0.216</td> <td>    0.223</td>\n",
              "</tr>\n",
              "<tr>\n",
              "  <th>x83</th>  <td>    0.0976</td> <td>    0.002</td> <td>   52.206</td> <td> 0.000</td> <td>    0.094</td> <td>    0.101</td>\n",
              "</tr>\n",
              "<tr>\n",
              "  <th>x84</th>  <td>    0.1384</td> <td>    0.002</td> <td>   70.844</td> <td> 0.000</td> <td>    0.135</td> <td>    0.142</td>\n",
              "</tr>\n",
              "<tr>\n",
              "  <th>x85</th>  <td>    0.0879</td> <td>    0.002</td> <td>   46.101</td> <td> 0.000</td> <td>    0.084</td> <td>    0.092</td>\n",
              "</tr>\n",
              "<tr>\n",
              "  <th>x86</th>  <td>    0.1395</td> <td>    0.002</td> <td>   68.438</td> <td> 0.000</td> <td>    0.136</td> <td>    0.144</td>\n",
              "</tr>\n",
              "<tr>\n",
              "  <th>x87</th>  <td>    0.1201</td> <td>    0.002</td> <td>   63.454</td> <td> 0.000</td> <td>    0.116</td> <td>    0.124</td>\n",
              "</tr>\n",
              "<tr>\n",
              "  <th>x88</th>  <td>    0.0811</td> <td>    0.002</td> <td>   39.238</td> <td> 0.000</td> <td>    0.077</td> <td>    0.085</td>\n",
              "</tr>\n",
              "<tr>\n",
              "  <th>x89</th>  <td>    0.1839</td> <td>    0.002</td> <td>   93.755</td> <td> 0.000</td> <td>    0.180</td> <td>    0.188</td>\n",
              "</tr>\n",
              "<tr>\n",
              "  <th>x90</th>  <td>    0.0171</td> <td>    0.002</td> <td>    9.797</td> <td> 0.000</td> <td>    0.014</td> <td>    0.021</td>\n",
              "</tr>\n",
              "<tr>\n",
              "  <th>x91</th>  <td>    0.8258</td> <td>    0.002</td> <td>  421.175</td> <td> 0.000</td> <td>    0.822</td> <td>    0.830</td>\n",
              "</tr>\n",
              "<tr>\n",
              "  <th>x92</th>  <td>    0.2610</td> <td>    0.002</td> <td>  134.423</td> <td> 0.000</td> <td>    0.257</td> <td>    0.265</td>\n",
              "</tr>\n",
              "<tr>\n",
              "  <th>x93</th>  <td>    0.1437</td> <td>    0.002</td> <td>   75.422</td> <td> 0.000</td> <td>    0.140</td> <td>    0.147</td>\n",
              "</tr>\n",
              "<tr>\n",
              "  <th>x94</th>  <td>    0.3625</td> <td>    0.002</td> <td>  187.186</td> <td> 0.000</td> <td>    0.359</td> <td>    0.366</td>\n",
              "</tr>\n",
              "<tr>\n",
              "  <th>x95</th>  <td>    0.0508</td> <td>    0.002</td> <td>   26.902</td> <td> 0.000</td> <td>    0.047</td> <td>    0.054</td>\n",
              "</tr>\n",
              "<tr>\n",
              "  <th>x96</th>  <td>    0.0555</td> <td>    0.002</td> <td>   27.498</td> <td> 0.000</td> <td>    0.052</td> <td>    0.059</td>\n",
              "</tr>\n",
              "<tr>\n",
              "  <th>x97</th>  <td>    0.2001</td> <td>    0.002</td> <td>  105.896</td> <td> 0.000</td> <td>    0.196</td> <td>    0.204</td>\n",
              "</tr>\n",
              "<tr>\n",
              "  <th>x98</th>  <td>    0.0855</td> <td>    0.002</td> <td>   44.646</td> <td> 0.000</td> <td>    0.082</td> <td>    0.089</td>\n",
              "</tr>\n",
              "<tr>\n",
              "  <th>x99</th>  <td>    0.3055</td> <td>    0.002</td> <td>  157.283</td> <td> 0.000</td> <td>    0.302</td> <td>    0.309</td>\n",
              "</tr>\n",
              "<tr>\n",
              "  <th>x100</th> <td>    0.4641</td> <td>    0.002</td> <td>  235.722</td> <td> 0.000</td> <td>    0.460</td> <td>    0.468</td>\n",
              "</tr>\n",
              "<tr>\n",
              "  <th>x101</th> <td>    0.7264</td> <td>    0.002</td> <td>  371.984</td> <td> 0.000</td> <td>    0.723</td> <td>    0.730</td>\n",
              "</tr>\n",
              "<tr>\n",
              "  <th>x102</th> <td>    0.0791</td> <td>    0.002</td> <td>   43.731</td> <td> 0.000</td> <td>    0.076</td> <td>    0.083</td>\n",
              "</tr>\n",
              "<tr>\n",
              "  <th>x103</th> <td>    0.3109</td> <td>    0.002</td> <td>  154.911</td> <td> 0.000</td> <td>    0.307</td> <td>    0.315</td>\n",
              "</tr>\n",
              "<tr>\n",
              "  <th>x104</th> <td>    0.9719</td> <td>    0.002</td> <td>  499.998</td> <td> 0.000</td> <td>    0.968</td> <td>    0.976</td>\n",
              "</tr>\n",
              "<tr>\n",
              "  <th>x105</th> <td>    0.0743</td> <td>    0.002</td> <td>   42.400</td> <td> 0.000</td> <td>    0.071</td> <td>    0.078</td>\n",
              "</tr>\n",
              "<tr>\n",
              "  <th>x106</th> <td>    0.0849</td> <td>    0.002</td> <td>   40.163</td> <td> 0.000</td> <td>    0.081</td> <td>    0.089</td>\n",
              "</tr>\n",
              "<tr>\n",
              "  <th>x107</th> <td>    0.0705</td> <td>    0.002</td> <td>   36.831</td> <td> 0.000</td> <td>    0.067</td> <td>    0.074</td>\n",
              "</tr>\n",
              "<tr>\n",
              "  <th>x108</th> <td>    0.3423</td> <td>    0.002</td> <td>  169.466</td> <td> 0.000</td> <td>    0.338</td> <td>    0.346</td>\n",
              "</tr>\n",
              "<tr>\n",
              "  <th>x109</th> <td>    0.0359</td> <td>    0.002</td> <td>   20.570</td> <td> 0.000</td> <td>    0.033</td> <td>    0.039</td>\n",
              "</tr>\n",
              "<tr>\n",
              "  <th>x110</th> <td>    0.0460</td> <td>    0.002</td> <td>   20.370</td> <td> 0.000</td> <td>    0.042</td> <td>    0.050</td>\n",
              "</tr>\n",
              "<tr>\n",
              "  <th>x111</th> <td>    0.1148</td> <td>    0.002</td> <td>   58.215</td> <td> 0.000</td> <td>    0.111</td> <td>    0.119</td>\n",
              "</tr>\n",
              "<tr>\n",
              "  <th>x112</th> <td>    0.0705</td> <td>    0.002</td> <td>   34.916</td> <td> 0.000</td> <td>    0.066</td> <td>    0.074</td>\n",
              "</tr>\n",
              "<tr>\n",
              "  <th>x113</th> <td>    0.6020</td> <td>    0.002</td> <td>  286.798</td> <td> 0.000</td> <td>    0.598</td> <td>    0.606</td>\n",
              "</tr>\n",
              "<tr>\n",
              "  <th>x114</th> <td>    0.5103</td> <td>    0.002</td> <td>  266.478</td> <td> 0.000</td> <td>    0.507</td> <td>    0.514</td>\n",
              "</tr>\n",
              "<tr>\n",
              "  <th>x115</th> <td>    0.1880</td> <td>    0.002</td> <td>   90.474</td> <td> 0.000</td> <td>    0.184</td> <td>    0.192</td>\n",
              "</tr>\n",
              "<tr>\n",
              "  <th>x116</th> <td>    0.1752</td> <td>    0.002</td> <td>   91.712</td> <td> 0.000</td> <td>    0.171</td> <td>    0.179</td>\n",
              "</tr>\n",
              "<tr>\n",
              "  <th>x117</th> <td>    0.4520</td> <td>    0.002</td> <td>  224.162</td> <td> 0.000</td> <td>    0.448</td> <td>    0.456</td>\n",
              "</tr>\n",
              "<tr>\n",
              "  <th>x118</th> <td>    0.1530</td> <td>    0.002</td> <td>   80.938</td> <td> 0.000</td> <td>    0.149</td> <td>    0.157</td>\n",
              "</tr>\n",
              "<tr>\n",
              "  <th>x119</th> <td>    0.2346</td> <td>    0.002</td> <td>  120.507</td> <td> 0.000</td> <td>    0.231</td> <td>    0.238</td>\n",
              "</tr>\n",
              "<tr>\n",
              "  <th>x120</th> <td>    0.4779</td> <td>    0.002</td> <td>  245.813</td> <td> 0.000</td> <td>    0.474</td> <td>    0.482</td>\n",
              "</tr>\n",
              "<tr>\n",
              "  <th>x121</th> <td>    0.1541</td> <td>    0.002</td> <td>   79.923</td> <td> 0.000</td> <td>    0.150</td> <td>    0.158</td>\n",
              "</tr>\n",
              "<tr>\n",
              "  <th>x122</th> <td>    0.1202</td> <td>    0.002</td> <td>   61.403</td> <td> 0.000</td> <td>    0.116</td> <td>    0.124</td>\n",
              "</tr>\n",
              "<tr>\n",
              "  <th>x123</th> <td>    0.0284</td> <td>    0.002</td> <td>   16.271</td> <td> 0.000</td> <td>    0.025</td> <td>    0.032</td>\n",
              "</tr>\n",
              "<tr>\n",
              "  <th>x124</th> <td>    0.1657</td> <td>    0.002</td> <td>   80.331</td> <td> 0.000</td> <td>    0.162</td> <td>    0.170</td>\n",
              "</tr>\n",
              "<tr>\n",
              "  <th>x125</th> <td>    0.3358</td> <td>    0.002</td> <td>  167.841</td> <td> 0.000</td> <td>    0.332</td> <td>    0.340</td>\n",
              "</tr>\n",
              "<tr>\n",
              "  <th>x126</th> <td>    0.4219</td> <td>    0.002</td> <td>  217.751</td> <td> 0.000</td> <td>    0.418</td> <td>    0.426</td>\n",
              "</tr>\n",
              "<tr>\n",
              "  <th>x127</th> <td>    0.0277</td> <td>    0.002</td> <td>   11.201</td> <td> 0.000</td> <td>    0.023</td> <td>    0.033</td>\n",
              "</tr>\n",
              "<tr>\n",
              "  <th>x128</th> <td>    0.0565</td> <td>    0.002</td> <td>   24.075</td> <td> 0.000</td> <td>    0.052</td> <td>    0.061</td>\n",
              "</tr>\n",
              "<tr>\n",
              "  <th>x129</th> <td>    0.1916</td> <td>    0.002</td> <td>  100.580</td> <td> 0.000</td> <td>    0.188</td> <td>    0.195</td>\n",
              "</tr>\n",
              "<tr>\n",
              "  <th>x130</th> <td>    0.0555</td> <td>    0.002</td> <td>   25.078</td> <td> 0.000</td> <td>    0.051</td> <td>    0.060</td>\n",
              "</tr>\n",
              "<tr>\n",
              "  <th>x131</th> <td>    0.7145</td> <td>    0.002</td> <td>  368.457</td> <td> 0.000</td> <td>    0.711</td> <td>    0.718</td>\n",
              "</tr>\n",
              "<tr>\n",
              "  <th>x132</th> <td>    0.4373</td> <td>    0.002</td> <td>  221.662</td> <td> 0.000</td> <td>    0.433</td> <td>    0.441</td>\n",
              "</tr>\n",
              "<tr>\n",
              "  <th>x133</th> <td>    0.0601</td> <td>    0.002</td> <td>   32.083</td> <td> 0.000</td> <td>    0.056</td> <td>    0.064</td>\n",
              "</tr>\n",
              "<tr>\n",
              "  <th>x134</th> <td>    1.0826</td> <td>    0.002</td> <td>  557.799</td> <td> 0.000</td> <td>    1.079</td> <td>    1.086</td>\n",
              "</tr>\n",
              "<tr>\n",
              "  <th>x135</th> <td>    1.0093</td> <td>    0.002</td> <td>  513.144</td> <td> 0.000</td> <td>    1.005</td> <td>    1.013</td>\n",
              "</tr>\n",
              "<tr>\n",
              "  <th>x136</th> <td>    0.1113</td> <td>    0.002</td> <td>   50.639</td> <td> 0.000</td> <td>    0.107</td> <td>    0.116</td>\n",
              "</tr>\n",
              "<tr>\n",
              "  <th>x137</th> <td>    0.1003</td> <td>    0.002</td> <td>   47.665</td> <td> 0.000</td> <td>    0.096</td> <td>    0.104</td>\n",
              "</tr>\n",
              "<tr>\n",
              "  <th>x138</th> <td>    0.0458</td> <td>    0.002</td> <td>   22.689</td> <td> 0.000</td> <td>    0.042</td> <td>    0.050</td>\n",
              "</tr>\n",
              "<tr>\n",
              "  <th>x139</th> <td>    0.1030</td> <td>    0.002</td> <td>   55.111</td> <td> 0.000</td> <td>    0.099</td> <td>    0.107</td>\n",
              "</tr>\n",
              "<tr>\n",
              "  <th>x140</th> <td>    0.0283</td> <td>    0.002</td> <td>   11.456</td> <td> 0.000</td> <td>    0.023</td> <td>    0.033</td>\n",
              "</tr>\n",
              "<tr>\n",
              "  <th>x141</th> <td>    0.0309</td> <td>    0.002</td> <td>   12.524</td> <td> 0.000</td> <td>    0.026</td> <td>    0.036</td>\n",
              "</tr>\n",
              "<tr>\n",
              "  <th>x142</th> <td>    0.0877</td> <td>    0.002</td> <td>   44.758</td> <td> 0.000</td> <td>    0.084</td> <td>    0.092</td>\n",
              "</tr>\n",
              "<tr>\n",
              "  <th>x143</th> <td>    0.3253</td> <td>    0.002</td> <td>  165.981</td> <td> 0.000</td> <td>    0.322</td> <td>    0.329</td>\n",
              "</tr>\n",
              "<tr>\n",
              "  <th>x144</th> <td>    0.2774</td> <td>    0.002</td> <td>  142.206</td> <td> 0.000</td> <td>    0.274</td> <td>    0.281</td>\n",
              "</tr>\n",
              "<tr>\n",
              "  <th>x145</th> <td>    0.3230</td> <td>    0.002</td> <td>  163.967</td> <td> 0.000</td> <td>    0.319</td> <td>    0.327</td>\n",
              "</tr>\n",
              "<tr>\n",
              "  <th>x146</th> <td>    0.0705</td> <td>    0.002</td> <td>   28.528</td> <td> 0.000</td> <td>    0.066</td> <td>    0.075</td>\n",
              "</tr>\n",
              "<tr>\n",
              "  <th>x147</th> <td>    0.0818</td> <td>    0.002</td> <td>   39.281</td> <td> 0.000</td> <td>    0.078</td> <td>    0.086</td>\n",
              "</tr>\n",
              "<tr>\n",
              "  <th>x148</th> <td>    0.2640</td> <td>    0.002</td> <td>  139.647</td> <td> 0.000</td> <td>    0.260</td> <td>    0.268</td>\n",
              "</tr>\n",
              "<tr>\n",
              "  <th>x149</th> <td>    0.1420</td> <td>    0.002</td> <td>   70.599</td> <td> 0.000</td> <td>    0.138</td> <td>    0.146</td>\n",
              "</tr>\n",
              "<tr>\n",
              "  <th>x150</th> <td>    0.1097</td> <td>    0.002</td> <td>   53.405</td> <td> 0.000</td> <td>    0.106</td> <td>    0.114</td>\n",
              "</tr>\n",
              "<tr>\n",
              "  <th>x151</th> <td>    0.1736</td> <td>    0.002</td> <td>   90.554</td> <td> 0.000</td> <td>    0.170</td> <td>    0.177</td>\n",
              "</tr>\n",
              "<tr>\n",
              "  <th>x152</th> <td>    0.4667</td> <td>    0.002</td> <td>  236.115</td> <td> 0.000</td> <td>    0.463</td> <td>    0.471</td>\n",
              "</tr>\n",
              "<tr>\n",
              "  <th>x153</th> <td>    0.0987</td> <td>    0.002</td> <td>   52.828</td> <td> 0.000</td> <td>    0.095</td> <td>    0.102</td>\n",
              "</tr>\n",
              "<tr>\n",
              "  <th>x154</th> <td>    0.0314</td> <td>    0.002</td> <td>   17.991</td> <td> 0.000</td> <td>    0.028</td> <td>    0.035</td>\n",
              "</tr>\n",
              "<tr>\n",
              "  <th>x155</th> <td>    0.2293</td> <td>    0.002</td> <td>  116.486</td> <td> 0.000</td> <td>    0.225</td> <td>    0.233</td>\n",
              "</tr>\n",
              "<tr>\n",
              "  <th>x156</th> <td>    0.0416</td> <td>    0.002</td> <td>   18.416</td> <td> 0.000</td> <td>    0.037</td> <td>    0.046</td>\n",
              "</tr>\n",
              "<tr>\n",
              "  <th>x157</th> <td>    0.5038</td> <td>    0.002</td> <td>  261.426</td> <td> 0.000</td> <td>    0.500</td> <td>    0.508</td>\n",
              "</tr>\n",
              "<tr>\n",
              "  <th>x158</th> <td>    0.1606</td> <td>    0.002</td> <td>   82.259</td> <td> 0.000</td> <td>    0.157</td> <td>    0.164</td>\n",
              "</tr>\n",
              "<tr>\n",
              "  <th>x159</th> <td>    0.6853</td> <td>    0.002</td> <td>  350.431</td> <td> 0.000</td> <td>    0.681</td> <td>    0.689</td>\n",
              "</tr>\n",
              "<tr>\n",
              "  <th>x160</th> <td>    0.0614</td> <td>    0.002</td> <td>   30.971</td> <td> 0.000</td> <td>    0.057</td> <td>    0.065</td>\n",
              "</tr>\n",
              "<tr>\n",
              "  <th>x161</th> <td>    0.0678</td> <td>    0.002</td> <td>   34.739</td> <td> 0.000</td> <td>    0.064</td> <td>    0.072</td>\n",
              "</tr>\n",
              "<tr>\n",
              "  <th>x162</th> <td>    0.0660</td> <td>    0.002</td> <td>   35.971</td> <td> 0.000</td> <td>    0.062</td> <td>    0.070</td>\n",
              "</tr>\n",
              "<tr>\n",
              "  <th>x163</th> <td>    0.2318</td> <td>    0.002</td> <td>  122.044</td> <td> 0.000</td> <td>    0.228</td> <td>    0.235</td>\n",
              "</tr>\n",
              "<tr>\n",
              "  <th>x164</th> <td>    0.0673</td> <td>    0.002</td> <td>   31.417</td> <td> 0.000</td> <td>    0.063</td> <td>    0.071</td>\n",
              "</tr>\n",
              "<tr>\n",
              "  <th>x165</th> <td>    0.1248</td> <td>    0.002</td> <td>   68.376</td> <td> 0.000</td> <td>    0.121</td> <td>    0.128</td>\n",
              "</tr>\n",
              "<tr>\n",
              "  <th>x166</th> <td>    0.0566</td> <td>    0.002</td> <td>   28.053</td> <td> 0.000</td> <td>    0.053</td> <td>    0.061</td>\n",
              "</tr>\n",
              "<tr>\n",
              "  <th>x167</th> <td>    0.8502</td> <td>    0.002</td> <td>  423.386</td> <td> 0.000</td> <td>    0.846</td> <td>    0.854</td>\n",
              "</tr>\n",
              "<tr>\n",
              "  <th>x168</th> <td>    0.2190</td> <td>    0.002</td> <td>  113.391</td> <td> 0.000</td> <td>    0.215</td> <td>    0.223</td>\n",
              "</tr>\n",
              "<tr>\n",
              "  <th>x169</th> <td>    0.0610</td> <td>    0.002</td> <td>   28.486</td> <td> 0.000</td> <td>    0.057</td> <td>    0.065</td>\n",
              "</tr>\n",
              "<tr>\n",
              "  <th>x170</th> <td>    0.3922</td> <td>    0.002</td> <td>  200.801</td> <td> 0.000</td> <td>    0.388</td> <td>    0.396</td>\n",
              "</tr>\n",
              "<tr>\n",
              "  <th>x171</th> <td>    0.0831</td> <td>    0.002</td> <td>   44.798</td> <td> 0.000</td> <td>    0.079</td> <td>    0.087</td>\n",
              "</tr>\n",
              "<tr>\n",
              "  <th>x172</th> <td>    0.0872</td> <td>    0.002</td> <td>   42.780</td> <td> 0.000</td> <td>    0.083</td> <td>    0.091</td>\n",
              "</tr>\n",
              "<tr>\n",
              "  <th>x173</th> <td>    0.1006</td> <td>    0.002</td> <td>   52.733</td> <td> 0.000</td> <td>    0.097</td> <td>    0.104</td>\n",
              "</tr>\n",
              "<tr>\n",
              "  <th>x174</th> <td>    0.1625</td> <td>    0.002</td> <td>   78.764</td> <td> 0.000</td> <td>    0.159</td> <td>    0.167</td>\n",
              "</tr>\n",
              "<tr>\n",
              "  <th>x175</th> <td>    0.0529</td> <td>    0.002</td> <td>   28.338</td> <td> 0.000</td> <td>    0.049</td> <td>    0.057</td>\n",
              "</tr>\n",
              "<tr>\n",
              "  <th>x176</th> <td>    0.0956</td> <td>    0.002</td> <td>   46.391</td> <td> 0.000</td> <td>    0.092</td> <td>    0.100</td>\n",
              "</tr>\n",
              "<tr>\n",
              "  <th>x177</th> <td>    0.5027</td> <td>    0.002</td> <td>  252.181</td> <td> 0.000</td> <td>    0.499</td> <td>    0.507</td>\n",
              "</tr>\n",
              "<tr>\n",
              "  <th>x178</th> <td>    0.0883</td> <td>    0.002</td> <td>   48.797</td> <td> 0.000</td> <td>    0.085</td> <td>    0.092</td>\n",
              "</tr>\n",
              "<tr>\n",
              "  <th>x179</th> <td>    0.0390</td> <td>    0.002</td> <td>   22.337</td> <td> 0.000</td> <td>    0.036</td> <td>    0.042</td>\n",
              "</tr>\n",
              "<tr>\n",
              "  <th>x180</th> <td>    0.0399</td> <td>    0.002</td> <td>   22.831</td> <td> 0.000</td> <td>    0.036</td> <td>    0.043</td>\n",
              "</tr>\n",
              "<tr>\n",
              "  <th>x181</th> <td>    0.0176</td> <td>    0.002</td> <td>   10.082</td> <td> 0.000</td> <td>    0.014</td> <td>    0.021</td>\n",
              "</tr>\n",
              "<tr>\n",
              "  <th>x182</th> <td>    0.0405</td> <td>    0.002</td> <td>   17.953</td> <td> 0.000</td> <td>    0.036</td> <td>    0.045</td>\n",
              "</tr>\n",
              "<tr>\n",
              "  <th>x183</th> <td>    0.0396</td> <td>    0.002</td> <td>   19.645</td> <td> 0.000</td> <td>    0.036</td> <td>    0.044</td>\n",
              "</tr>\n",
              "<tr>\n",
              "  <th>x184</th> <td>    0.1897</td> <td>    0.002</td> <td>   94.906</td> <td> 0.000</td> <td>    0.186</td> <td>    0.194</td>\n",
              "</tr>\n",
              "<tr>\n",
              "  <th>x185</th> <td>    0.3869</td> <td>    0.002</td> <td>  199.666</td> <td> 0.000</td> <td>    0.383</td> <td>    0.391</td>\n",
              "</tr>\n",
              "<tr>\n",
              "  <th>x186</th> <td>    0.0633</td> <td>    0.002</td> <td>   34.382</td> <td> 0.000</td> <td>    0.060</td> <td>    0.067</td>\n",
              "</tr>\n",
              "<tr>\n",
              "  <th>x187</th> <td>    0.1247</td> <td>    0.002</td> <td>   60.930</td> <td> 0.000</td> <td>    0.121</td> <td>    0.129</td>\n",
              "</tr>\n",
              "<tr>\n",
              "  <th>x188</th> <td>    0.0341</td> <td>    0.002</td> <td>   15.942</td> <td> 0.000</td> <td>    0.030</td> <td>    0.038</td>\n",
              "</tr>\n",
              "<tr>\n",
              "  <th>x189</th> <td>    0.0517</td> <td>    0.002</td> <td>   29.555</td> <td> 0.000</td> <td>    0.048</td> <td>    0.055</td>\n",
              "</tr>\n",
              "<tr>\n",
              "  <th>x190</th> <td>    0.1606</td> <td>    0.002</td> <td>   80.451</td> <td> 0.000</td> <td>    0.157</td> <td>    0.164</td>\n",
              "</tr>\n",
              "<tr>\n",
              "  <th>x191</th> <td>    0.4881</td> <td>    0.002</td> <td>  251.414</td> <td> 0.000</td> <td>    0.484</td> <td>    0.492</td>\n",
              "</tr>\n",
              "<tr>\n",
              "  <th>x192</th> <td>    0.1377</td> <td>    0.002</td> <td>   66.878</td> <td> 0.000</td> <td>    0.134</td> <td>    0.142</td>\n",
              "</tr>\n",
              "<tr>\n",
              "  <th>x193</th> <td>    0.0813</td> <td>    0.002</td> <td>   38.544</td> <td> 0.000</td> <td>    0.077</td> <td>    0.085</td>\n",
              "</tr>\n",
              "<tr>\n",
              "  <th>x194</th> <td>    0.1168</td> <td>    0.002</td> <td>   62.660</td> <td> 0.000</td> <td>    0.113</td> <td>    0.120</td>\n",
              "</tr>\n",
              "<tr>\n",
              "  <th>x195</th> <td>    0.1405</td> <td>    0.002</td> <td>   72.983</td> <td> 0.000</td> <td>    0.137</td> <td>    0.144</td>\n",
              "</tr>\n",
              "<tr>\n",
              "  <th>x196</th> <td>    0.0575</td> <td>    0.002</td> <td>   28.984</td> <td> 0.000</td> <td>    0.054</td> <td>    0.061</td>\n",
              "</tr>\n",
              "<tr>\n",
              "  <th>x197</th> <td>    0.0331</td> <td>    0.002</td> <td>   13.379</td> <td> 0.000</td> <td>    0.028</td> <td>    0.038</td>\n",
              "</tr>\n",
              "<tr>\n",
              "  <th>x198</th> <td>    0.4011</td> <td>    0.002</td> <td>  207.092</td> <td> 0.000</td> <td>    0.397</td> <td>    0.405</td>\n",
              "</tr>\n",
              "<tr>\n",
              "  <th>x199</th> <td>    0.4716</td> <td>    0.002</td> <td>  243.652</td> <td> 0.000</td> <td>    0.468</td> <td>    0.475</td>\n",
              "</tr>\n",
              "<tr>\n",
              "  <th>x200</th> <td>    0.1616</td> <td>    0.002</td> <td>   81.979</td> <td> 0.000</td> <td>    0.158</td> <td>    0.165</td>\n",
              "</tr>\n",
              "<tr>\n",
              "  <th>x201</th> <td>    0.0781</td> <td>    0.002</td> <td>   44.637</td> <td> 0.000</td> <td>    0.075</td> <td>    0.082</td>\n",
              "</tr>\n",
              "<tr>\n",
              "  <th>x202</th> <td>    0.1906</td> <td>    0.002</td> <td>   97.912</td> <td> 0.000</td> <td>    0.187</td> <td>    0.194</td>\n",
              "</tr>\n",
              "<tr>\n",
              "  <th>x203</th> <td>    0.1845</td> <td>    0.002</td> <td>  100.354</td> <td> 0.000</td> <td>    0.181</td> <td>    0.188</td>\n",
              "</tr>\n",
              "<tr>\n",
              "  <th>x204</th> <td>    0.2157</td> <td>    0.002</td> <td>  111.779</td> <td> 0.000</td> <td>    0.212</td> <td>    0.219</td>\n",
              "</tr>\n",
              "<tr>\n",
              "  <th>x205</th> <td>    0.0300</td> <td>    0.002</td> <td>   17.177</td> <td> 0.000</td> <td>    0.027</td> <td>    0.033</td>\n",
              "</tr>\n",
              "<tr>\n",
              "  <th>x206</th> <td>    0.4281</td> <td>    0.002</td> <td>  219.445</td> <td> 0.000</td> <td>    0.424</td> <td>    0.432</td>\n",
              "</tr>\n",
              "<tr>\n",
              "  <th>x207</th> <td>    0.0544</td> <td>    0.002</td> <td>   26.274</td> <td> 0.000</td> <td>    0.050</td> <td>    0.058</td>\n",
              "</tr>\n",
              "<tr>\n",
              "  <th>x208</th> <td>    0.1781</td> <td>    0.002</td> <td>   87.370</td> <td> 0.000</td> <td>    0.174</td> <td>    0.182</td>\n",
              "</tr>\n",
              "<tr>\n",
              "  <th>x209</th> <td>    0.1927</td> <td>    0.002</td> <td>   95.052</td> <td> 0.000</td> <td>    0.189</td> <td>    0.197</td>\n",
              "</tr>\n",
              "<tr>\n",
              "  <th>x210</th> <td>    0.0568</td> <td>    0.002</td> <td>   28.114</td> <td> 0.000</td> <td>    0.053</td> <td>    0.061</td>\n",
              "</tr>\n",
              "<tr>\n",
              "  <th>x211</th> <td>    0.1720</td> <td>    0.002</td> <td>   86.745</td> <td> 0.000</td> <td>    0.168</td> <td>    0.176</td>\n",
              "</tr>\n",
              "<tr>\n",
              "  <th>x212</th> <td>    0.0256</td> <td>    0.002</td> <td>   14.633</td> <td> 0.000</td> <td>    0.022</td> <td>    0.029</td>\n",
              "</tr>\n",
              "<tr>\n",
              "  <th>x213</th> <td>    0.0681</td> <td>    0.002</td> <td>   31.784</td> <td> 0.000</td> <td>    0.064</td> <td>    0.072</td>\n",
              "</tr>\n",
              "<tr>\n",
              "  <th>x214</th> <td>    0.0461</td> <td>    0.002</td> <td>   23.586</td> <td> 0.000</td> <td>    0.042</td> <td>    0.050</td>\n",
              "</tr>\n",
              "<tr>\n",
              "  <th>x215</th> <td>    0.2625</td> <td>    0.002</td> <td>  134.853</td> <td> 0.000</td> <td>    0.259</td> <td>    0.266</td>\n",
              "</tr>\n",
              "<tr>\n",
              "  <th>x216</th> <td>    0.0700</td> <td>    0.002</td> <td>   35.781</td> <td> 0.000</td> <td>    0.066</td> <td>    0.074</td>\n",
              "</tr>\n",
              "<tr>\n",
              "  <th>x217</th> <td>    0.0280</td> <td>    0.002</td> <td>   16.025</td> <td> 0.000</td> <td>    0.025</td> <td>    0.031</td>\n",
              "</tr>\n",
              "<tr>\n",
              "  <th>x218</th> <td>    0.4084</td> <td>    0.002</td> <td>  206.923</td> <td> 0.000</td> <td>    0.405</td> <td>    0.412</td>\n",
              "</tr>\n",
              "<tr>\n",
              "  <th>x219</th> <td>    0.0787</td> <td>    0.002</td> <td>   39.360</td> <td> 0.000</td> <td>    0.075</td> <td>    0.083</td>\n",
              "</tr>\n",
              "<tr>\n",
              "  <th>x220</th> <td>    0.0530</td> <td>    0.002</td> <td>   25.600</td> <td> 0.000</td> <td>    0.049</td> <td>    0.057</td>\n",
              "</tr>\n",
              "<tr>\n",
              "  <th>x221</th> <td>    0.1280</td> <td>    0.002</td> <td>   69.294</td> <td> 0.000</td> <td>    0.124</td> <td>    0.132</td>\n",
              "</tr>\n",
              "<tr>\n",
              "  <th>x222</th> <td>    0.3584</td> <td>    0.002</td> <td>  181.162</td> <td> 0.000</td> <td>    0.355</td> <td>    0.362</td>\n",
              "</tr>\n",
              "<tr>\n",
              "  <th>x223</th> <td>    0.2052</td> <td>    0.002</td> <td>   99.036</td> <td> 0.000</td> <td>    0.201</td> <td>    0.209</td>\n",
              "</tr>\n",
              "<tr>\n",
              "  <th>x224</th> <td>    0.0387</td> <td>    0.002</td> <td>   19.171</td> <td> 0.000</td> <td>    0.035</td> <td>    0.043</td>\n",
              "</tr>\n",
              "<tr>\n",
              "  <th>x225</th> <td>    0.1823</td> <td>    0.002</td> <td>   89.771</td> <td> 0.000</td> <td>    0.178</td> <td>    0.186</td>\n",
              "</tr>\n",
              "<tr>\n",
              "  <th>x226</th> <td>    0.1460</td> <td>    0.002</td> <td>   70.109</td> <td> 0.000</td> <td>    0.142</td> <td>    0.150</td>\n",
              "</tr>\n",
              "<tr>\n",
              "  <th>x227</th> <td>    0.0963</td> <td>    0.002</td> <td>   51.487</td> <td> 0.000</td> <td>    0.093</td> <td>    0.100</td>\n",
              "</tr>\n",
              "<tr>\n",
              "  <th>x228</th> <td>    0.1400</td> <td>    0.002</td> <td>   69.019</td> <td> 0.000</td> <td>    0.136</td> <td>    0.144</td>\n",
              "</tr>\n",
              "<tr>\n",
              "  <th>x229</th> <td>    0.3920</td> <td>    0.002</td> <td>  202.093</td> <td> 0.000</td> <td>    0.388</td> <td>    0.396</td>\n",
              "</tr>\n",
              "<tr>\n",
              "  <th>x230</th> <td>    0.4204</td> <td>    0.002</td> <td>  216.811</td> <td> 0.000</td> <td>    0.417</td> <td>    0.424</td>\n",
              "</tr>\n",
              "<tr>\n",
              "  <th>x231</th> <td>    0.3897</td> <td>    0.002</td> <td>  191.667</td> <td> 0.000</td> <td>    0.386</td> <td>    0.394</td>\n",
              "</tr>\n",
              "<tr>\n",
              "  <th>x232</th> <td>    0.1129</td> <td>    0.002</td> <td>   55.223</td> <td> 0.000</td> <td>    0.109</td> <td>    0.117</td>\n",
              "</tr>\n",
              "<tr>\n",
              "  <th>x233</th> <td>    0.0419</td> <td>    0.002</td> <td>   20.724</td> <td> 0.000</td> <td>    0.038</td> <td>    0.046</td>\n",
              "</tr>\n",
              "<tr>\n",
              "  <th>x234</th> <td>    0.1217</td> <td>    0.002</td> <td>   59.996</td> <td> 0.000</td> <td>    0.118</td> <td>    0.126</td>\n",
              "</tr>\n",
              "<tr>\n",
              "  <th>x235</th> <td>    0.0533</td> <td>    0.002</td> <td>   25.791</td> <td> 0.000</td> <td>    0.049</td> <td>    0.057</td>\n",
              "</tr>\n",
              "<tr>\n",
              "  <th>x236</th> <td>    0.0781</td> <td>    0.002</td> <td>   39.928</td> <td> 0.000</td> <td>    0.074</td> <td>    0.082</td>\n",
              "</tr>\n",
              "<tr>\n",
              "  <th>x237</th> <td>    0.3068</td> <td>    0.002</td> <td>  158.009</td> <td> 0.000</td> <td>    0.303</td> <td>    0.311</td>\n",
              "</tr>\n",
              "<tr>\n",
              "  <th>x238</th> <td>    0.2016</td> <td>    0.002</td> <td>  103.346</td> <td> 0.000</td> <td>    0.198</td> <td>    0.205</td>\n",
              "</tr>\n",
              "<tr>\n",
              "  <th>x239</th> <td>    0.0750</td> <td>    0.002</td> <td>   39.458</td> <td> 0.000</td> <td>    0.071</td> <td>    0.079</td>\n",
              "</tr>\n",
              "<tr>\n",
              "  <th>x240</th> <td>    0.0902</td> <td>    0.002</td> <td>   44.643</td> <td> 0.000</td> <td>    0.086</td> <td>    0.094</td>\n",
              "</tr>\n",
              "<tr>\n",
              "  <th>x241</th> <td>    0.9269</td> <td>    0.002</td> <td>  473.771</td> <td> 0.000</td> <td>    0.923</td> <td>    0.931</td>\n",
              "</tr>\n",
              "<tr>\n",
              "  <th>x242</th> <td>    0.9655</td> <td>    0.002</td> <td>  494.275</td> <td> 0.000</td> <td>    0.962</td> <td>    0.969</td>\n",
              "</tr>\n",
              "<tr>\n",
              "  <th>x243</th> <td>    0.0755</td> <td>    0.002</td> <td>   38.242</td> <td> 0.000</td> <td>    0.072</td> <td>    0.079</td>\n",
              "</tr>\n",
              "<tr>\n",
              "  <th>x244</th> <td>    0.1290</td> <td>    0.002</td> <td>   66.532</td> <td> 0.000</td> <td>    0.125</td> <td>    0.133</td>\n",
              "</tr>\n",
              "<tr>\n",
              "  <th>x245</th> <td>    0.1619</td> <td>    0.002</td> <td>   79.139</td> <td> 0.000</td> <td>    0.158</td> <td>    0.166</td>\n",
              "</tr>\n",
              "<tr>\n",
              "  <th>x246</th> <td>    0.6275</td> <td>    0.002</td> <td>  320.029</td> <td> 0.000</td> <td>    0.624</td> <td>    0.631</td>\n",
              "</tr>\n",
              "<tr>\n",
              "  <th>x247</th> <td>    0.0973</td> <td>    0.002</td> <td>   51.652</td> <td> 0.000</td> <td>    0.094</td> <td>    0.101</td>\n",
              "</tr>\n",
              "<tr>\n",
              "  <th>x248</th> <td> -729.1188</td> <td>    0.305</td> <td>-2390.214</td> <td> 0.000</td> <td> -729.717</td> <td> -728.521</td>\n",
              "</tr>\n",
              "<tr>\n",
              "  <th>x249</th> <td>    0.6323</td> <td>    0.002</td> <td>  319.393</td> <td> 0.000</td> <td>    0.628</td> <td>    0.636</td>\n",
              "</tr>\n",
              "<tr>\n",
              "  <th>x250</th> <td>    0.0588</td> <td>    0.002</td> <td>   31.695</td> <td> 0.000</td> <td>    0.055</td> <td>    0.062</td>\n",
              "</tr>\n",
              "<tr>\n",
              "  <th>x251</th> <td>    0.0386</td> <td>    0.002</td> <td>   19.120</td> <td> 0.000</td> <td>    0.035</td> <td>    0.043</td>\n",
              "</tr>\n",
              "<tr>\n",
              "  <th>x252</th> <td>    0.0951</td> <td>    0.002</td> <td>   50.264</td> <td> 0.000</td> <td>    0.091</td> <td>    0.099</td>\n",
              "</tr>\n",
              "<tr>\n",
              "  <th>x253</th> <td>    0.1327</td> <td>    0.002</td> <td>   69.489</td> <td> 0.000</td> <td>    0.129</td> <td>    0.136</td>\n",
              "</tr>\n",
              "<tr>\n",
              "  <th>x254</th> <td>    1.3231</td> <td>    0.002</td> <td>  687.702</td> <td> 0.000</td> <td>    1.319</td> <td>    1.327</td>\n",
              "</tr>\n",
              "<tr>\n",
              "  <th>x255</th> <td>    0.0229</td> <td>    0.002</td> <td>   13.097</td> <td> 0.000</td> <td>    0.019</td> <td>    0.026</td>\n",
              "</tr>\n",
              "<tr>\n",
              "  <th>x256</th> <td>    0.2580</td> <td>    0.002</td> <td>  127.858</td> <td> 0.000</td> <td>    0.254</td> <td>    0.262</td>\n",
              "</tr>\n",
              "<tr>\n",
              "  <th>x257</th> <td>    0.1957</td> <td>    0.002</td> <td>   97.159</td> <td> 0.000</td> <td>    0.192</td> <td>    0.200</td>\n",
              "</tr>\n",
              "<tr>\n",
              "  <th>x258</th> <td>    0.0634</td> <td>    0.002</td> <td>   30.962</td> <td> 0.000</td> <td>    0.059</td> <td>    0.067</td>\n",
              "</tr>\n",
              "<tr>\n",
              "  <th>x259</th> <td>    0.3294</td> <td>    0.002</td> <td>  168.447</td> <td> 0.000</td> <td>    0.326</td> <td>    0.333</td>\n",
              "</tr>\n",
              "<tr>\n",
              "  <th>x260</th> <td>    0.0174</td> <td>    0.002</td> <td>    7.488</td> <td> 0.000</td> <td>    0.013</td> <td>    0.022</td>\n",
              "</tr>\n",
              "<tr>\n",
              "  <th>x261</th> <td>    0.0180</td> <td>    0.002</td> <td>    8.431</td> <td> 0.000</td> <td>    0.014</td> <td>    0.022</td>\n",
              "</tr>\n",
              "<tr>\n",
              "  <th>x262</th> <td>    0.2194</td> <td>    0.003</td> <td>   77.790</td> <td> 0.000</td> <td>    0.214</td> <td>    0.225</td>\n",
              "</tr>\n",
              "<tr>\n",
              "  <th>x263</th> <td>    0.0192</td> <td>    0.002</td> <td>    8.680</td> <td> 0.000</td> <td>    0.015</td> <td>    0.023</td>\n",
              "</tr>\n",
              "<tr>\n",
              "  <th>x264</th> <td>   -0.0558</td> <td>    0.002</td> <td>  -27.456</td> <td> 0.000</td> <td>   -0.060</td> <td>   -0.052</td>\n",
              "</tr>\n",
              "<tr>\n",
              "  <th>x265</th> <td> 8.088e-05</td> <td>    0.021</td> <td>    0.004</td> <td> 0.997</td> <td>   -0.040</td> <td>    0.041</td>\n",
              "</tr>\n",
              "<tr>\n",
              "  <th>x266</th> <td>    0.0132</td> <td>    0.040</td> <td>    0.334</td> <td> 0.739</td> <td>   -0.064</td> <td>    0.091</td>\n",
              "</tr>\n",
              "<tr>\n",
              "  <th>x267</th> <td>    0.0405</td> <td>    0.043</td> <td>    0.941</td> <td> 0.347</td> <td>   -0.044</td> <td>    0.125</td>\n",
              "</tr>\n",
              "<tr>\n",
              "  <th>x268</th> <td>    0.0074</td> <td>    0.028</td> <td>    0.267</td> <td> 0.789</td> <td>   -0.047</td> <td>    0.062</td>\n",
              "</tr>\n",
              "<tr>\n",
              "  <th>x269</th> <td>    0.0112</td> <td>    0.062</td> <td>    0.181</td> <td> 0.857</td> <td>   -0.111</td> <td>    0.133</td>\n",
              "</tr>\n",
              "<tr>\n",
              "  <th>x270</th> <td>    0.0105</td> <td>    0.046</td> <td>    0.229</td> <td> 0.819</td> <td>   -0.079</td> <td>    0.100</td>\n",
              "</tr>\n",
              "<tr>\n",
              "  <th>x271</th> <td>   -0.0484</td> <td>    0.045</td> <td>   -1.087</td> <td> 0.277</td> <td>   -0.136</td> <td>    0.039</td>\n",
              "</tr>\n",
              "<tr>\n",
              "  <th>x272</th> <td>   -0.0302</td> <td>    0.067</td> <td>   -0.453</td> <td> 0.651</td> <td>   -0.161</td> <td>    0.100</td>\n",
              "</tr>\n",
              "<tr>\n",
              "  <th>x273</th> <td>   -0.0441</td> <td>    0.058</td> <td>   -0.765</td> <td> 0.444</td> <td>   -0.157</td> <td>    0.069</td>\n",
              "</tr>\n",
              "<tr>\n",
              "  <th>x274</th> <td>    0.0220</td> <td>    0.027</td> <td>    0.824</td> <td> 0.410</td> <td>   -0.030</td> <td>    0.074</td>\n",
              "</tr>\n",
              "<tr>\n",
              "  <th>x275</th> <td>    0.0667</td> <td>    0.071</td> <td>    0.941</td> <td> 0.347</td> <td>   -0.072</td> <td>    0.206</td>\n",
              "</tr>\n",
              "<tr>\n",
              "  <th>x276</th> <td>    0.0431</td> <td>    0.046</td> <td>    0.945</td> <td> 0.345</td> <td>   -0.046</td> <td>    0.133</td>\n",
              "</tr>\n",
              "<tr>\n",
              "  <th>x277</th> <td>   -0.0081</td> <td>    0.020</td> <td>   -0.410</td> <td> 0.682</td> <td>   -0.047</td> <td>    0.031</td>\n",
              "</tr>\n",
              "<tr>\n",
              "  <th>x278</th> <td>   -0.0140</td> <td>    0.052</td> <td>   -0.270</td> <td> 0.788</td> <td>   -0.116</td> <td>    0.088</td>\n",
              "</tr>\n",
              "<tr>\n",
              "  <th>x279</th> <td>   -0.0128</td> <td>    0.033</td> <td>   -0.390</td> <td> 0.696</td> <td>   -0.077</td> <td>    0.051</td>\n",
              "</tr>\n",
              "<tr>\n",
              "  <th>x280</th> <td>   -0.0377</td> <td>    0.028</td> <td>   -1.338</td> <td> 0.181</td> <td>   -0.093</td> <td>    0.018</td>\n",
              "</tr>\n",
              "<tr>\n",
              "  <th>x281</th> <td>   -0.0708</td> <td>    0.065</td> <td>   -1.096</td> <td> 0.273</td> <td>   -0.197</td> <td>    0.056</td>\n",
              "</tr>\n",
              "<tr>\n",
              "  <th>x282</th> <td>   -0.0704</td> <td>    0.052</td> <td>   -1.347</td> <td> 0.178</td> <td>   -0.173</td> <td>    0.032</td>\n",
              "</tr>\n",
              "<tr>\n",
              "  <th>x283</th> <td>    0.0354</td> <td>    0.041</td> <td>    0.865</td> <td> 0.387</td> <td>   -0.045</td> <td>    0.115</td>\n",
              "</tr>\n",
              "<tr>\n",
              "  <th>x284</th> <td>    0.0272</td> <td>    0.075</td> <td>    0.364</td> <td> 0.716</td> <td>   -0.119</td> <td>    0.174</td>\n",
              "</tr>\n",
              "<tr>\n",
              "  <th>x285</th> <td>    0.0517</td> <td>    0.067</td> <td>    0.771</td> <td> 0.441</td> <td>   -0.080</td> <td>    0.183</td>\n",
              "</tr>\n",
              "<tr>\n",
              "  <th>x286</th> <td>    0.0025</td> <td>    0.002</td> <td>    1.670</td> <td> 0.095</td> <td>   -0.000</td> <td>    0.006</td>\n",
              "</tr>\n",
              "<tr>\n",
              "  <th>x287</th> <td>   -0.0015</td> <td>    0.001</td> <td>   -1.044</td> <td> 0.296</td> <td>   -0.004</td> <td>    0.001</td>\n",
              "</tr>\n",
              "<tr>\n",
              "  <th>x288</th> <td>   -0.0011</td> <td>    0.001</td> <td>   -0.789</td> <td> 0.430</td> <td>   -0.004</td> <td>    0.002</td>\n",
              "</tr>\n",
              "<tr>\n",
              "  <th>x289</th> <td>    0.0133</td> <td>    0.007</td> <td>    1.987</td> <td> 0.047</td> <td>    0.000</td> <td>    0.026</td>\n",
              "</tr>\n",
              "<tr>\n",
              "  <th>x290</th> <td>    0.0240</td> <td>    0.008</td> <td>    2.956</td> <td> 0.003</td> <td>    0.008</td> <td>    0.040</td>\n",
              "</tr>\n",
              "<tr>\n",
              "  <th>x291</th> <td>    0.0272</td> <td>    0.010</td> <td>    2.711</td> <td> 0.007</td> <td>    0.008</td> <td>    0.047</td>\n",
              "</tr>\n",
              "<tr>\n",
              "  <th>x292</th> <td>    0.0503</td> <td>    0.009</td> <td>    5.520</td> <td> 0.000</td> <td>    0.032</td> <td>    0.068</td>\n",
              "</tr>\n",
              "<tr>\n",
              "  <th>x293</th> <td>    0.0193</td> <td>    0.006</td> <td>    3.028</td> <td> 0.002</td> <td>    0.007</td> <td>    0.032</td>\n",
              "</tr>\n",
              "<tr>\n",
              "  <th>x294</th> <td>   -0.0024</td> <td>    0.002</td> <td>   -1.180</td> <td> 0.238</td> <td>   -0.006</td> <td>    0.002</td>\n",
              "</tr>\n",
              "<tr>\n",
              "  <th>x295</th> <td>   -0.0168</td> <td>    0.003</td> <td>   -4.897</td> <td> 0.000</td> <td>   -0.024</td> <td>   -0.010</td>\n",
              "</tr>\n",
              "<tr>\n",
              "  <th>x296</th> <td>    0.0015</td> <td>    0.002</td> <td>    0.676</td> <td> 0.499</td> <td>   -0.003</td> <td>    0.006</td>\n",
              "</tr>\n",
              "<tr>\n",
              "  <th>x297</th> <td>   -0.0065</td> <td>    0.002</td> <td>   -3.211</td> <td> 0.001</td> <td>   -0.011</td> <td>   -0.003</td>\n",
              "</tr>\n",
              "<tr>\n",
              "  <th>x298</th> <td>   -0.0006</td> <td>    0.002</td> <td>   -0.256</td> <td> 0.798</td> <td>   -0.005</td> <td>    0.004</td>\n",
              "</tr>\n",
              "</table>\n",
              "<table class=\"simpletable\">\n",
              "<tr>\n",
              "  <th>Omnibus:</th>       <td>42784.462</td> <th>  Durbin-Watson:     </th>   <td>   1.978</td>  \n",
              "</tr>\n",
              "<tr>\n",
              "  <th>Prob(Omnibus):</th>  <td> 0.000</td>   <th>  Jarque-Bera (JB):  </th> <td>25396133.470</td>\n",
              "</tr>\n",
              "<tr>\n",
              "  <th>Skew:</th>           <td>-4.891</td>   <th>  Prob(JB):          </th>   <td>    0.00</td>  \n",
              "</tr>\n",
              "<tr>\n",
              "  <th>Kurtosis:</th>       <td>127.592</td>  <th>  Cond. No.          </th>   <td>7.15e+15</td>  \n",
              "</tr>\n",
              "</table><br/><br/>Warnings:<br/>[1] Standard Errors assume that the covariance matrix of the errors is correctly specified.<br/>[2] The smallest eigenvalue is 5.51e-27. This might indicate that there are<br/>strong multicollinearity problems or that the design matrix is singular."
            ],
            "text/plain": [
              "<class 'statsmodels.iolib.summary.Summary'>\n",
              "\"\"\"\n",
              "                            OLS Regression Results                            \n",
              "==============================================================================\n",
              "Dep. Variable:                  price   R-squared:                       0.648\n",
              "Model:                            OLS   Adj. R-squared:                  0.645\n",
              "Method:                 Least Squares   F-statistic:                     242.4\n",
              "Date:                Thu, 09 Jan 2020   Prob (F-statistic):               0.00\n",
              "Time:                        11:15:53   Log-Likelihood:                -18034.\n",
              "No. Observations:               39024   AIC:                         3.666e+04\n",
              "Df Residuals:                   38729   BIC:                         3.919e+04\n",
              "Df Model:                         294                                         \n",
              "Covariance Type:            nonrobust                                         \n",
              "==============================================================================\n",
              "                 coef    std err          t      P>|t|      [0.025      0.975]\n",
              "------------------------------------------------------------------------------\n",
              "x1             0.0102      0.002      4.131      0.000       0.005       0.015\n",
              "x2            -0.0123      0.002     -5.073      0.000      -0.017      -0.008\n",
              "x3            -0.0050      0.002     -2.184      0.029      -0.010      -0.001\n",
              "x4             0.1822      0.003     67.116      0.000       0.177       0.187\n",
              "x5             0.0200      0.002      9.566      0.000       0.016       0.024\n",
              "x6             0.0131      0.002      5.857      0.000       0.009       0.017\n",
              "x7             0.0130      0.002      5.481      0.000       0.008       0.018\n",
              "x8            -0.0213      0.002     -9.445      0.000      -0.026      -0.017\n",
              "x9            -0.0672      0.002    -28.785      0.000      -0.072      -0.063\n",
              "x10           -0.0064      0.002     -3.093      0.002      -0.010      -0.002\n",
              "x11            0.0577      0.003     23.066      0.000       0.053       0.063\n",
              "x12           -0.0922      0.008    -11.714      0.000      -0.108      -0.077\n",
              "x13            0.0077      0.002      3.577      0.000       0.003       0.012\n",
              "x14            0.0180      0.003      6.960      0.000       0.013       0.023\n",
              "x15            0.0148      0.002      7.017      0.000       0.011       0.019\n",
              "x16           -0.0041      0.003     -1.643      0.100      -0.009       0.001\n",
              "x17            0.0281      0.002     13.098      0.000       0.024       0.032\n",
              "x18            0.0074      0.003      2.578      0.010       0.002       0.013\n",
              "x19           -0.0092      0.003     -3.096      0.002      -0.015      -0.003\n",
              "x20            0.0345      0.002     15.113      0.000       0.030       0.039\n",
              "x21            0.0240      0.002      9.592      0.000       0.019       0.029\n",
              "x22            0.0236      0.002      9.939      0.000       0.019       0.028\n",
              "x23            0.0119      0.002      5.239      0.000       0.007       0.016\n",
              "x24           -0.0074      0.003     -2.920      0.003      -0.012      -0.002\n",
              "x25            0.0074      0.002      3.277      0.001       0.003       0.012\n",
              "x26           -0.0076      0.002     -3.717      0.000      -0.012      -0.004\n",
              "x27            0.0035      0.002      1.460      0.144      -0.001       0.008\n",
              "x28            0.0028      0.002      1.369      0.171      -0.001       0.007\n",
              "x29            0.0121      0.002      5.507      0.000       0.008       0.016\n",
              "x30            0.0106      0.002      4.468      0.000       0.006       0.015\n",
              "x31            0.0065      0.003      2.439      0.015       0.001       0.012\n",
              "x32           -0.0008      0.007     -0.110      0.912      -0.014       0.013\n",
              "x33            0.0055      0.002      2.238      0.025       0.001       0.010\n",
              "x34         6.634e-05      0.003      0.020      0.984      -0.006       0.007\n",
              "x35           -0.0043      0.004     -1.001      0.317      -0.013       0.004\n",
              "x36            0.0063      0.011      0.576      0.565      -0.015       0.028\n",
              "x37           -0.0044      0.007     -0.627      0.531      -0.018       0.009\n",
              "x38           -0.0173      0.006     -2.820      0.005      -0.029      -0.005\n",
              "x39            0.1328      0.002     66.682      0.000       0.129       0.137\n",
              "x40            0.0424      0.003     15.338      0.000       0.037       0.048\n",
              "x41            0.0881      0.002     47.620      0.000       0.084       0.092\n",
              "x42            0.1849      0.002     95.031      0.000       0.181       0.189\n",
              "x43            0.6341      0.002    329.542      0.000       0.630       0.638\n",
              "x44            0.1097      0.002     60.449      0.000       0.106       0.113\n",
              "x45            0.1883      0.002     95.689      0.000       0.184       0.192\n",
              "x46            0.2499      0.002    124.106      0.000       0.246       0.254\n",
              "x47            0.0489      0.002     25.003      0.000       0.045       0.053\n",
              "x48            0.0197      0.002     11.280      0.000       0.016       0.023\n",
              "x49            0.0572      0.002     28.325      0.000       0.053       0.061\n",
              "x50            0.1406      0.002     71.462      0.000       0.137       0.144\n",
              "x51            0.0735      0.002     38.661      0.000       0.070       0.077\n",
              "x52            1.2538      0.002    639.534      0.000       1.250       1.258\n",
              "x53            0.0577      0.002     24.959      0.000       0.053       0.062\n",
              "x54            0.0754      0.002     39.665      0.000       0.072       0.079\n",
              "x55            0.1158      0.002     58.525      0.000       0.112       0.120\n",
              "x56            0.1805      0.002     90.255      0.000       0.177       0.184\n",
              "x57            0.0832      0.002     41.596      0.000       0.079       0.087\n",
              "x58            0.2907      0.002    149.662      0.000       0.287       0.295\n",
              "x59            0.2438      0.002    127.312      0.000       0.240       0.248\n",
              "x60            0.0436      0.002     24.914      0.000       0.040       0.047\n",
              "x61            0.1428      0.002     70.373      0.000       0.139       0.147\n",
              "x62            0.1745      0.002     86.822      0.000       0.171       0.178\n",
              "x63            0.0819      0.002     46.795      0.000       0.078       0.085\n",
              "x64            0.2718      0.002    139.908      0.000       0.268       0.276\n",
              "x65            0.1747      0.002     87.338      0.000       0.171       0.179\n",
              "x66            0.0288      0.003      9.512      0.000       0.023       0.035\n",
              "x67            1.0025      0.002    511.441      0.000       0.999       1.006\n",
              "x68            0.1148      0.002     59.029      0.000       0.111       0.119\n",
              "x69            0.2638      0.002    131.839      0.000       0.260       0.268\n",
              "x70            0.3372      0.002    174.178      0.000       0.333       0.341\n",
              "x71            0.0331      0.002     18.919      0.000       0.030       0.036\n",
              "x72            0.0413      0.002     23.653      0.000       0.038       0.045\n",
              "x73            0.7630      0.002    385.968      0.000       0.759       0.767\n",
              "x74            0.4326      0.002    220.350      0.000       0.429       0.436\n",
              "x75            0.0864      0.002     41.985      0.000       0.082       0.090\n",
              "x76            0.1487      0.002     78.794      0.000       0.145       0.152\n",
              "x77            0.1052      0.002     53.311      0.000       0.101       0.109\n",
              "x78            0.1027      0.002     54.332      0.000       0.099       0.106\n",
              "x79            0.0816      0.002     40.773      0.000       0.078       0.085\n",
              "x80            0.5138      0.002    267.529      0.000       0.510       0.518\n",
              "x81            0.0383      0.002     21.918      0.000       0.035       0.042\n",
              "x82            0.2195      0.002    112.755      0.000       0.216       0.223\n",
              "x83            0.0976      0.002     52.206      0.000       0.094       0.101\n",
              "x84            0.1384      0.002     70.844      0.000       0.135       0.142\n",
              "x85            0.0879      0.002     46.101      0.000       0.084       0.092\n",
              "x86            0.1395      0.002     68.438      0.000       0.136       0.144\n",
              "x87            0.1201      0.002     63.454      0.000       0.116       0.124\n",
              "x88            0.0811      0.002     39.238      0.000       0.077       0.085\n",
              "x89            0.1839      0.002     93.755      0.000       0.180       0.188\n",
              "x90            0.0171      0.002      9.797      0.000       0.014       0.021\n",
              "x91            0.8258      0.002    421.175      0.000       0.822       0.830\n",
              "x92            0.2610      0.002    134.423      0.000       0.257       0.265\n",
              "x93            0.1437      0.002     75.422      0.000       0.140       0.147\n",
              "x94            0.3625      0.002    187.186      0.000       0.359       0.366\n",
              "x95            0.0508      0.002     26.902      0.000       0.047       0.054\n",
              "x96            0.0555      0.002     27.498      0.000       0.052       0.059\n",
              "x97            0.2001      0.002    105.896      0.000       0.196       0.204\n",
              "x98            0.0855      0.002     44.646      0.000       0.082       0.089\n",
              "x99            0.3055      0.002    157.283      0.000       0.302       0.309\n",
              "x100           0.4641      0.002    235.722      0.000       0.460       0.468\n",
              "x101           0.7264      0.002    371.984      0.000       0.723       0.730\n",
              "x102           0.0791      0.002     43.731      0.000       0.076       0.083\n",
              "x103           0.3109      0.002    154.911      0.000       0.307       0.315\n",
              "x104           0.9719      0.002    499.998      0.000       0.968       0.976\n",
              "x105           0.0743      0.002     42.400      0.000       0.071       0.078\n",
              "x106           0.0849      0.002     40.163      0.000       0.081       0.089\n",
              "x107           0.0705      0.002     36.831      0.000       0.067       0.074\n",
              "x108           0.3423      0.002    169.466      0.000       0.338       0.346\n",
              "x109           0.0359      0.002     20.570      0.000       0.033       0.039\n",
              "x110           0.0460      0.002     20.370      0.000       0.042       0.050\n",
              "x111           0.1148      0.002     58.215      0.000       0.111       0.119\n",
              "x112           0.0705      0.002     34.916      0.000       0.066       0.074\n",
              "x113           0.6020      0.002    286.798      0.000       0.598       0.606\n",
              "x114           0.5103      0.002    266.478      0.000       0.507       0.514\n",
              "x115           0.1880      0.002     90.474      0.000       0.184       0.192\n",
              "x116           0.1752      0.002     91.712      0.000       0.171       0.179\n",
              "x117           0.4520      0.002    224.162      0.000       0.448       0.456\n",
              "x118           0.1530      0.002     80.938      0.000       0.149       0.157\n",
              "x119           0.2346      0.002    120.507      0.000       0.231       0.238\n",
              "x120           0.4779      0.002    245.813      0.000       0.474       0.482\n",
              "x121           0.1541      0.002     79.923      0.000       0.150       0.158\n",
              "x122           0.1202      0.002     61.403      0.000       0.116       0.124\n",
              "x123           0.0284      0.002     16.271      0.000       0.025       0.032\n",
              "x124           0.1657      0.002     80.331      0.000       0.162       0.170\n",
              "x125           0.3358      0.002    167.841      0.000       0.332       0.340\n",
              "x126           0.4219      0.002    217.751      0.000       0.418       0.426\n",
              "x127           0.0277      0.002     11.201      0.000       0.023       0.033\n",
              "x128           0.0565      0.002     24.075      0.000       0.052       0.061\n",
              "x129           0.1916      0.002    100.580      0.000       0.188       0.195\n",
              "x130           0.0555      0.002     25.078      0.000       0.051       0.060\n",
              "x131           0.7145      0.002    368.457      0.000       0.711       0.718\n",
              "x132           0.4373      0.002    221.662      0.000       0.433       0.441\n",
              "x133           0.0601      0.002     32.083      0.000       0.056       0.064\n",
              "x134           1.0826      0.002    557.799      0.000       1.079       1.086\n",
              "x135           1.0093      0.002    513.144      0.000       1.005       1.013\n",
              "x136           0.1113      0.002     50.639      0.000       0.107       0.116\n",
              "x137           0.1003      0.002     47.665      0.000       0.096       0.104\n",
              "x138           0.0458      0.002     22.689      0.000       0.042       0.050\n",
              "x139           0.1030      0.002     55.111      0.000       0.099       0.107\n",
              "x140           0.0283      0.002     11.456      0.000       0.023       0.033\n",
              "x141           0.0309      0.002     12.524      0.000       0.026       0.036\n",
              "x142           0.0877      0.002     44.758      0.000       0.084       0.092\n",
              "x143           0.3253      0.002    165.981      0.000       0.322       0.329\n",
              "x144           0.2774      0.002    142.206      0.000       0.274       0.281\n",
              "x145           0.3230      0.002    163.967      0.000       0.319       0.327\n",
              "x146           0.0705      0.002     28.528      0.000       0.066       0.075\n",
              "x147           0.0818      0.002     39.281      0.000       0.078       0.086\n",
              "x148           0.2640      0.002    139.647      0.000       0.260       0.268\n",
              "x149           0.1420      0.002     70.599      0.000       0.138       0.146\n",
              "x150           0.1097      0.002     53.405      0.000       0.106       0.114\n",
              "x151           0.1736      0.002     90.554      0.000       0.170       0.177\n",
              "x152           0.4667      0.002    236.115      0.000       0.463       0.471\n",
              "x153           0.0987      0.002     52.828      0.000       0.095       0.102\n",
              "x154           0.0314      0.002     17.991      0.000       0.028       0.035\n",
              "x155           0.2293      0.002    116.486      0.000       0.225       0.233\n",
              "x156           0.0416      0.002     18.416      0.000       0.037       0.046\n",
              "x157           0.5038      0.002    261.426      0.000       0.500       0.508\n",
              "x158           0.1606      0.002     82.259      0.000       0.157       0.164\n",
              "x159           0.6853      0.002    350.431      0.000       0.681       0.689\n",
              "x160           0.0614      0.002     30.971      0.000       0.057       0.065\n",
              "x161           0.0678      0.002     34.739      0.000       0.064       0.072\n",
              "x162           0.0660      0.002     35.971      0.000       0.062       0.070\n",
              "x163           0.2318      0.002    122.044      0.000       0.228       0.235\n",
              "x164           0.0673      0.002     31.417      0.000       0.063       0.071\n",
              "x165           0.1248      0.002     68.376      0.000       0.121       0.128\n",
              "x166           0.0566      0.002     28.053      0.000       0.053       0.061\n",
              "x167           0.8502      0.002    423.386      0.000       0.846       0.854\n",
              "x168           0.2190      0.002    113.391      0.000       0.215       0.223\n",
              "x169           0.0610      0.002     28.486      0.000       0.057       0.065\n",
              "x170           0.3922      0.002    200.801      0.000       0.388       0.396\n",
              "x171           0.0831      0.002     44.798      0.000       0.079       0.087\n",
              "x172           0.0872      0.002     42.780      0.000       0.083       0.091\n",
              "x173           0.1006      0.002     52.733      0.000       0.097       0.104\n",
              "x174           0.1625      0.002     78.764      0.000       0.159       0.167\n",
              "x175           0.0529      0.002     28.338      0.000       0.049       0.057\n",
              "x176           0.0956      0.002     46.391      0.000       0.092       0.100\n",
              "x177           0.5027      0.002    252.181      0.000       0.499       0.507\n",
              "x178           0.0883      0.002     48.797      0.000       0.085       0.092\n",
              "x179           0.0390      0.002     22.337      0.000       0.036       0.042\n",
              "x180           0.0399      0.002     22.831      0.000       0.036       0.043\n",
              "x181           0.0176      0.002     10.082      0.000       0.014       0.021\n",
              "x182           0.0405      0.002     17.953      0.000       0.036       0.045\n",
              "x183           0.0396      0.002     19.645      0.000       0.036       0.044\n",
              "x184           0.1897      0.002     94.906      0.000       0.186       0.194\n",
              "x185           0.3869      0.002    199.666      0.000       0.383       0.391\n",
              "x186           0.0633      0.002     34.382      0.000       0.060       0.067\n",
              "x187           0.1247      0.002     60.930      0.000       0.121       0.129\n",
              "x188           0.0341      0.002     15.942      0.000       0.030       0.038\n",
              "x189           0.0517      0.002     29.555      0.000       0.048       0.055\n",
              "x190           0.1606      0.002     80.451      0.000       0.157       0.164\n",
              "x191           0.4881      0.002    251.414      0.000       0.484       0.492\n",
              "x192           0.1377      0.002     66.878      0.000       0.134       0.142\n",
              "x193           0.0813      0.002     38.544      0.000       0.077       0.085\n",
              "x194           0.1168      0.002     62.660      0.000       0.113       0.120\n",
              "x195           0.1405      0.002     72.983      0.000       0.137       0.144\n",
              "x196           0.0575      0.002     28.984      0.000       0.054       0.061\n",
              "x197           0.0331      0.002     13.379      0.000       0.028       0.038\n",
              "x198           0.4011      0.002    207.092      0.000       0.397       0.405\n",
              "x199           0.4716      0.002    243.652      0.000       0.468       0.475\n",
              "x200           0.1616      0.002     81.979      0.000       0.158       0.165\n",
              "x201           0.0781      0.002     44.637      0.000       0.075       0.082\n",
              "x202           0.1906      0.002     97.912      0.000       0.187       0.194\n",
              "x203           0.1845      0.002    100.354      0.000       0.181       0.188\n",
              "x204           0.2157      0.002    111.779      0.000       0.212       0.219\n",
              "x205           0.0300      0.002     17.177      0.000       0.027       0.033\n",
              "x206           0.4281      0.002    219.445      0.000       0.424       0.432\n",
              "x207           0.0544      0.002     26.274      0.000       0.050       0.058\n",
              "x208           0.1781      0.002     87.370      0.000       0.174       0.182\n",
              "x209           0.1927      0.002     95.052      0.000       0.189       0.197\n",
              "x210           0.0568      0.002     28.114      0.000       0.053       0.061\n",
              "x211           0.1720      0.002     86.745      0.000       0.168       0.176\n",
              "x212           0.0256      0.002     14.633      0.000       0.022       0.029\n",
              "x213           0.0681      0.002     31.784      0.000       0.064       0.072\n",
              "x214           0.0461      0.002     23.586      0.000       0.042       0.050\n",
              "x215           0.2625      0.002    134.853      0.000       0.259       0.266\n",
              "x216           0.0700      0.002     35.781      0.000       0.066       0.074\n",
              "x217           0.0280      0.002     16.025      0.000       0.025       0.031\n",
              "x218           0.4084      0.002    206.923      0.000       0.405       0.412\n",
              "x219           0.0787      0.002     39.360      0.000       0.075       0.083\n",
              "x220           0.0530      0.002     25.600      0.000       0.049       0.057\n",
              "x221           0.1280      0.002     69.294      0.000       0.124       0.132\n",
              "x222           0.3584      0.002    181.162      0.000       0.355       0.362\n",
              "x223           0.2052      0.002     99.036      0.000       0.201       0.209\n",
              "x224           0.0387      0.002     19.171      0.000       0.035       0.043\n",
              "x225           0.1823      0.002     89.771      0.000       0.178       0.186\n",
              "x226           0.1460      0.002     70.109      0.000       0.142       0.150\n",
              "x227           0.0963      0.002     51.487      0.000       0.093       0.100\n",
              "x228           0.1400      0.002     69.019      0.000       0.136       0.144\n",
              "x229           0.3920      0.002    202.093      0.000       0.388       0.396\n",
              "x230           0.4204      0.002    216.811      0.000       0.417       0.424\n",
              "x231           0.3897      0.002    191.667      0.000       0.386       0.394\n",
              "x232           0.1129      0.002     55.223      0.000       0.109       0.117\n",
              "x233           0.0419      0.002     20.724      0.000       0.038       0.046\n",
              "x234           0.1217      0.002     59.996      0.000       0.118       0.126\n",
              "x235           0.0533      0.002     25.791      0.000       0.049       0.057\n",
              "x236           0.0781      0.002     39.928      0.000       0.074       0.082\n",
              "x237           0.3068      0.002    158.009      0.000       0.303       0.311\n",
              "x238           0.2016      0.002    103.346      0.000       0.198       0.205\n",
              "x239           0.0750      0.002     39.458      0.000       0.071       0.079\n",
              "x240           0.0902      0.002     44.643      0.000       0.086       0.094\n",
              "x241           0.9269      0.002    473.771      0.000       0.923       0.931\n",
              "x242           0.9655      0.002    494.275      0.000       0.962       0.969\n",
              "x243           0.0755      0.002     38.242      0.000       0.072       0.079\n",
              "x244           0.1290      0.002     66.532      0.000       0.125       0.133\n",
              "x245           0.1619      0.002     79.139      0.000       0.158       0.166\n",
              "x246           0.6275      0.002    320.029      0.000       0.624       0.631\n",
              "x247           0.0973      0.002     51.652      0.000       0.094       0.101\n",
              "x248        -729.1188      0.305  -2390.214      0.000    -729.717    -728.521\n",
              "x249           0.6323      0.002    319.393      0.000       0.628       0.636\n",
              "x250           0.0588      0.002     31.695      0.000       0.055       0.062\n",
              "x251           0.0386      0.002     19.120      0.000       0.035       0.043\n",
              "x252           0.0951      0.002     50.264      0.000       0.091       0.099\n",
              "x253           0.1327      0.002     69.489      0.000       0.129       0.136\n",
              "x254           1.3231      0.002    687.702      0.000       1.319       1.327\n",
              "x255           0.0229      0.002     13.097      0.000       0.019       0.026\n",
              "x256           0.2580      0.002    127.858      0.000       0.254       0.262\n",
              "x257           0.1957      0.002     97.159      0.000       0.192       0.200\n",
              "x258           0.0634      0.002     30.962      0.000       0.059       0.067\n",
              "x259           0.3294      0.002    168.447      0.000       0.326       0.333\n",
              "x260           0.0174      0.002      7.488      0.000       0.013       0.022\n",
              "x261           0.0180      0.002      8.431      0.000       0.014       0.022\n",
              "x262           0.2194      0.003     77.790      0.000       0.214       0.225\n",
              "x263           0.0192      0.002      8.680      0.000       0.015       0.023\n",
              "x264          -0.0558      0.002    -27.456      0.000      -0.060      -0.052\n",
              "x265        8.088e-05      0.021      0.004      0.997      -0.040       0.041\n",
              "x266           0.0132      0.040      0.334      0.739      -0.064       0.091\n",
              "x267           0.0405      0.043      0.941      0.347      -0.044       0.125\n",
              "x268           0.0074      0.028      0.267      0.789      -0.047       0.062\n",
              "x269           0.0112      0.062      0.181      0.857      -0.111       0.133\n",
              "x270           0.0105      0.046      0.229      0.819      -0.079       0.100\n",
              "x271          -0.0484      0.045     -1.087      0.277      -0.136       0.039\n",
              "x272          -0.0302      0.067     -0.453      0.651      -0.161       0.100\n",
              "x273          -0.0441      0.058     -0.765      0.444      -0.157       0.069\n",
              "x274           0.0220      0.027      0.824      0.410      -0.030       0.074\n",
              "x275           0.0667      0.071      0.941      0.347      -0.072       0.206\n",
              "x276           0.0431      0.046      0.945      0.345      -0.046       0.133\n",
              "x277          -0.0081      0.020     -0.410      0.682      -0.047       0.031\n",
              "x278          -0.0140      0.052     -0.270      0.788      -0.116       0.088\n",
              "x279          -0.0128      0.033     -0.390      0.696      -0.077       0.051\n",
              "x280          -0.0377      0.028     -1.338      0.181      -0.093       0.018\n",
              "x281          -0.0708      0.065     -1.096      0.273      -0.197       0.056\n",
              "x282          -0.0704      0.052     -1.347      0.178      -0.173       0.032\n",
              "x283           0.0354      0.041      0.865      0.387      -0.045       0.115\n",
              "x284           0.0272      0.075      0.364      0.716      -0.119       0.174\n",
              "x285           0.0517      0.067      0.771      0.441      -0.080       0.183\n",
              "x286           0.0025      0.002      1.670      0.095      -0.000       0.006\n",
              "x287          -0.0015      0.001     -1.044      0.296      -0.004       0.001\n",
              "x288          -0.0011      0.001     -0.789      0.430      -0.004       0.002\n",
              "x289           0.0133      0.007      1.987      0.047       0.000       0.026\n",
              "x290           0.0240      0.008      2.956      0.003       0.008       0.040\n",
              "x291           0.0272      0.010      2.711      0.007       0.008       0.047\n",
              "x292           0.0503      0.009      5.520      0.000       0.032       0.068\n",
              "x293           0.0193      0.006      3.028      0.002       0.007       0.032\n",
              "x294          -0.0024      0.002     -1.180      0.238      -0.006       0.002\n",
              "x295          -0.0168      0.003     -4.897      0.000      -0.024      -0.010\n",
              "x296           0.0015      0.002      0.676      0.499      -0.003       0.006\n",
              "x297          -0.0065      0.002     -3.211      0.001      -0.011      -0.003\n",
              "x298          -0.0006      0.002     -0.256      0.798      -0.005       0.004\n",
              "==============================================================================\n",
              "Omnibus:                    42784.462   Durbin-Watson:                   1.978\n",
              "Prob(Omnibus):                  0.000   Jarque-Bera (JB):         25396133.470\n",
              "Skew:                          -4.891   Prob(JB):                         0.00\n",
              "Kurtosis:                     127.592   Cond. No.                     7.15e+15\n",
              "==============================================================================\n",
              "\n",
              "Warnings:\n",
              "[1] Standard Errors assume that the covariance matrix of the errors is correctly specified.\n",
              "[2] The smallest eigenvalue is 5.51e-27. This might indicate that there are\n",
              "strong multicollinearity problems or that the design matrix is singular.\n",
              "\"\"\""
            ]
          },
          "metadata": {
            "tags": []
          },
          "execution_count": 180
        }
      ]
    },
    {
      "cell_type": "code",
      "metadata": {
        "id": "MHfmkQP0AcbL",
        "colab_type": "code",
        "outputId": "4da2bfee-0256-47d0-c315-580dd3855555",
        "colab": {
          "base_uri": "https://localhost:8080/",
          "height": 52
        }
      },
      "source": [
        "from sklearn.metrics import mean_squared_error\n",
        "\n",
        "print(mean_squared_error(y_test, predictions))\n",
        "print(mean_squared_error(y_train, model.predict(X_train)))\n"
      ],
      "execution_count": 0,
      "outputs": [
        {
          "output_type": "stream",
          "text": [
            "2658184.5346343503\n",
            "0.14754751448867012\n"
          ],
          "name": "stdout"
        }
      ]
    },
    {
      "cell_type": "code",
      "metadata": {
        "id": "2G2g7nPLfXd0",
        "colab_type": "code",
        "colab": {}
      },
      "source": [
        "print(r2_score(y_test, model.predict(X_test)))"
      ],
      "execution_count": 0,
      "outputs": []
    },
    {
      "cell_type": "markdown",
      "metadata": {
        "id": "KsR2-xQRpGbh",
        "colab_type": "text"
      },
      "source": [
        "# First model\n",
        "XGBoost"
      ]
    },
    {
      "cell_type": "code",
      "metadata": {
        "id": "SBZlvv4KCyTP",
        "colab_type": "code",
        "outputId": "9c821166-43c6-4729-818b-fb551b017e71",
        "colab": {
          "base_uri": "https://localhost:8080/",
          "height": 194
        }
      },
      "source": [
        "xgb_reg_start = time.time()\n",
        "\n",
        "xgb_reg = xgb.XGBRegressor()\n",
        "xgb_reg.fit(X_train, y_train)\n",
        "training_preds_xgb_reg = xgb_reg.predict(X_train)\n",
        "val_preds_xgb_reg = xgb_reg.predict(X_test)\n",
        "\n",
        "xgb_reg_end = time.time()\n",
        "\n",
        "print(f\"Time taken to run: {round((xgb_reg_end - xgb_reg_start)/60,1)} minutes\")\n",
        "print(\"\\nTraining MSE:\", round(mean_squared_error(y_train, training_preds_xgb_reg),4))\n",
        "print(\"Validation MSE:\", round(mean_squared_error(y_test, val_preds_xgb_reg),4))\n",
        "print(\"\\nTraining r2:\", round(r2_score(y_train, training_preds_xgb_reg),4))\n",
        "print(\"Validation r2:\", round(r2_score(y_test, val_preds_xgb_reg),4))"
      ],
      "execution_count": 0,
      "outputs": [
        {
          "output_type": "stream",
          "text": [
            "/usr/local/lib/python3.6/dist-packages/xgboost/core.py:587: FutureWarning: Series.base is deprecated and will be removed in a future version\n",
            "  if getattr(data, 'base', None) is not None and \\\n"
          ],
          "name": "stderr"
        },
        {
          "output_type": "stream",
          "text": [
            "[07:57:41] WARNING: /workspace/src/objective/regression_obj.cu:152: reg:linear is now deprecated in favor of reg:squarederror.\n",
            "Time taken to run: 0.4 minutes\n",
            "\n",
            "Training MSE: 0.1531\n",
            "Validation MSE: 0.1494\n",
            "\n",
            "Training r2: 0.6346\n",
            "Validation r2: 0.6373\n"
          ],
          "name": "stdout"
        }
      ]
    },
    {
      "cell_type": "code",
      "metadata": {
        "id": "ni6oXWFZCzNQ",
        "colab_type": "code",
        "outputId": "05a86186-ae0e-4057-d3ae-8278004c286d",
        "colab": {
          "base_uri": "https://localhost:8080/",
          "height": 406
        }
      },
      "source": [
        "ft_weights_xgb_reg = pd.DataFrame(xgb_reg.feature_importances_, columns=['weight'], index=X_train.columns)\n",
        "ft_weights_xgb_reg.sort_values('weight', inplace=True)\n",
        "ft_weights_xgb_reg"
      ],
      "execution_count": 0,
      "outputs": [
        {
          "output_type": "execute_result",
          "data": {
            "text/html": [
              "<div>\n",
              "<style scoped>\n",
              "    .dataframe tbody tr th:only-of-type {\n",
              "        vertical-align: middle;\n",
              "    }\n",
              "\n",
              "    .dataframe tbody tr th {\n",
              "        vertical-align: top;\n",
              "    }\n",
              "\n",
              "    .dataframe thead th {\n",
              "        text-align: right;\n",
              "    }\n",
              "</style>\n",
              "<table border=\"1\" class=\"dataframe\">\n",
              "  <thead>\n",
              "    <tr style=\"text-align: right;\">\n",
              "      <th></th>\n",
              "      <th>weight</th>\n",
              "    </tr>\n",
              "  </thead>\n",
              "  <tbody>\n",
              "    <tr>\n",
              "      <th>host_is_superhost</th>\n",
              "      <td>0.000000</td>\n",
              "    </tr>\n",
              "    <tr>\n",
              "      <th>neighbourhood_cleansed_Morris Heights</th>\n",
              "      <td>0.000000</td>\n",
              "    </tr>\n",
              "    <tr>\n",
              "      <th>neighbourhood_cleansed_Morris Park</th>\n",
              "      <td>0.000000</td>\n",
              "    </tr>\n",
              "    <tr>\n",
              "      <th>neighbourhood_cleansed_Morrisania</th>\n",
              "      <td>0.000000</td>\n",
              "    </tr>\n",
              "    <tr>\n",
              "      <th>neighbourhood_cleansed_Mott Haven</th>\n",
              "      <td>0.000000</td>\n",
              "    </tr>\n",
              "    <tr>\n",
              "      <th>...</th>\n",
              "      <td>...</td>\n",
              "    </tr>\n",
              "    <tr>\n",
              "      <th>accommodates</th>\n",
              "      <td>0.021803</td>\n",
              "    </tr>\n",
              "    <tr>\n",
              "      <th>bathrooms</th>\n",
              "      <td>0.023676</td>\n",
              "    </tr>\n",
              "    <tr>\n",
              "      <th>elevator</th>\n",
              "      <td>0.023820</td>\n",
              "    </tr>\n",
              "    <tr>\n",
              "      <th>cleaning_fee</th>\n",
              "      <td>0.038347</td>\n",
              "    </tr>\n",
              "    <tr>\n",
              "      <th>room_type_Entire home/apt</th>\n",
              "      <td>0.470891</td>\n",
              "    </tr>\n",
              "  </tbody>\n",
              "</table>\n",
              "<p>298 rows × 1 columns</p>\n",
              "</div>"
            ],
            "text/plain": [
              "                                         weight\n",
              "host_is_superhost                      0.000000\n",
              "neighbourhood_cleansed_Morris Heights  0.000000\n",
              "neighbourhood_cleansed_Morris Park     0.000000\n",
              "neighbourhood_cleansed_Morrisania      0.000000\n",
              "neighbourhood_cleansed_Mott Haven      0.000000\n",
              "...                                         ...\n",
              "accommodates                           0.021803\n",
              "bathrooms                              0.023676\n",
              "elevator                               0.023820\n",
              "cleaning_fee                           0.038347\n",
              "room_type_Entire home/apt              0.470891\n",
              "\n",
              "[298 rows x 1 columns]"
            ]
          },
          "metadata": {
            "tags": []
          },
          "execution_count": 104
        }
      ]
    },
    {
      "cell_type": "code",
      "metadata": {
        "id": "ROvUcoLnIlAY",
        "colab_type": "code",
        "outputId": "8b58a2f2-8ea2-4bd2-a33d-65f4f66c4317",
        "colab": {
          "base_uri": "https://localhost:8080/",
          "height": 194
        }
      },
      "source": [
        "xgb_reg_start = time.time()\n",
        "\n",
        "xgb_reg = xgb.XGBRegressor()\n",
        "xgb_reg.fit(X_train_short, y_train)\n",
        "training_preds_xgb_reg = xgb_reg.predict(X_train_short)\n",
        "val_preds_xgb_reg = xgb_reg.predict(X_test_short)\n",
        "\n",
        "xgb_reg_end = time.time()\n",
        "\n",
        "print(f\"Time taken to run: {round((xgb_reg_end - xgb_reg_start)/60,1)} minutes\")\n",
        "print(\"\\nTraining MSE:\", round(mean_squared_error(y_train, training_preds_xgb_reg),4))\n",
        "print(\"Validation MSE:\", round(mean_squared_error(y_test, val_preds_xgb_reg),4))\n",
        "print(\"\\nTraining r2:\", round(r2_score(y_train, training_preds_xgb_reg),4))\n",
        "print(\"Validation r2:\", round(r2_score(y_test, val_preds_xgb_reg),4))"
      ],
      "execution_count": 0,
      "outputs": [
        {
          "output_type": "stream",
          "text": [
            "/usr/local/lib/python3.6/dist-packages/xgboost/core.py:587: FutureWarning: Series.base is deprecated and will be removed in a future version\n",
            "  if getattr(data, 'base', None) is not None and \\\n"
          ],
          "name": "stderr"
        },
        {
          "output_type": "stream",
          "text": [
            "[11:50:08] WARNING: /workspace/src/objective/regression_obj.cu:152: reg:linear is now deprecated in favor of reg:squarederror.\n",
            "Time taken to run: 0.4 minutes\n",
            "\n",
            "Training MSE: 0.1536\n",
            "Validation MSE: 0.1509\n",
            "\n",
            "Training r2: 0.6334\n",
            "Validation r2: 0.6334\n"
          ],
          "name": "stdout"
        }
      ]
    },
    {
      "cell_type": "markdown",
      "metadata": {
        "id": "rGg9_ojqpKxi",
        "colab_type": "text"
      },
      "source": [
        "# Second model\n",
        "As we are doing a regression, the output layer will be with a linear activation function. We build a three-layer neural network to better "
      ]
    },
    {
      "cell_type": "code",
      "metadata": {
        "id": "ZeriOmXFC1Gm",
        "colab_type": "code",
        "outputId": "afeec7e1-0512-41ed-a963-a3d3ec6163b9",
        "colab": {
          "base_uri": "https://localhost:8080/",
          "height": 1000
        }
      },
      "source": [
        "# Building the model\n",
        "nn1 = models.Sequential()\n",
        "nn1.add(layers.Dense(128, input_shape=(X_train.shape[1],), activation='relu'))\n",
        "nn1.add(layers.Dense(256, activation='relu'))\n",
        "nn1.add(layers.Dense(256, activation='relu'))\n",
        "nn1.add(layers.Dense(1, activation='linear'))\n",
        "\n",
        "# Compiling the model\n",
        "nn1.compile(loss='mean_squared_error',\n",
        "            optimizer='adam',\n",
        "            metrics=['mean_squared_error'])\n",
        "\n",
        "# Model summary\n",
        "print(nn1.summary())\n",
        "\n",
        "# Visualising the neural network\n",
        "SVG(model_to_dot(nn1, show_layer_names=False, show_shapes=True).create(prog='dot', format='svg'))"
      ],
      "execution_count": 0,
      "outputs": [
        {
          "output_type": "stream",
          "text": [
            "WARNING:tensorflow:From /usr/local/lib/python3.6/dist-packages/keras/backend/tensorflow_backend.py:66: The name tf.get_default_graph is deprecated. Please use tf.compat.v1.get_default_graph instead.\n",
            "\n",
            "WARNING:tensorflow:From /usr/local/lib/python3.6/dist-packages/keras/backend/tensorflow_backend.py:541: The name tf.placeholder is deprecated. Please use tf.compat.v1.placeholder instead.\n",
            "\n",
            "WARNING:tensorflow:From /usr/local/lib/python3.6/dist-packages/keras/backend/tensorflow_backend.py:4432: The name tf.random_uniform is deprecated. Please use tf.random.uniform instead.\n",
            "\n",
            "WARNING:tensorflow:From /usr/local/lib/python3.6/dist-packages/keras/optimizers.py:793: The name tf.train.Optimizer is deprecated. Please use tf.compat.v1.train.Optimizer instead.\n",
            "\n",
            "Model: \"sequential_1\"\n",
            "_________________________________________________________________\n",
            "Layer (type)                 Output Shape              Param #   \n",
            "=================================================================\n",
            "dense_1 (Dense)              (None, 128)               38272     \n",
            "_________________________________________________________________\n",
            "dense_2 (Dense)              (None, 256)               33024     \n",
            "_________________________________________________________________\n",
            "dense_3 (Dense)              (None, 256)               65792     \n",
            "_________________________________________________________________\n",
            "dense_4 (Dense)              (None, 1)                 257       \n",
            "=================================================================\n",
            "Total params: 137,345\n",
            "Trainable params: 137,345\n",
            "Non-trainable params: 0\n",
            "_________________________________________________________________\n",
            "None\n"
          ],
          "name": "stdout"
        },
        {
          "output_type": "execute_result",
          "data": {
            "text/plain": [
              "<IPython.core.display.SVG object>"
            ],
            "image/svg+xml": "<svg height=\"516pt\" viewBox=\"0.00 0.00 233.00 387.00\" width=\"311pt\" xmlns=\"http://www.w3.org/2000/svg\" xmlns:xlink=\"http://www.w3.org/1999/xlink\">\n<g class=\"graph\" id=\"graph0\" transform=\"scale(1.3333 1.3333) rotate(0) translate(4 383)\">\n<title>G</title>\n<polygon fill=\"#ffffff\" points=\"-4,4 -4,-383 229,-383 229,4 -4,4\" stroke=\"transparent\"/>\n<!-- 140128760817368 -->\n<g class=\"node\" id=\"node1\">\n<title>140128760817368</title>\n<polygon fill=\"none\" points=\"0,-332.5 0,-378.5 225,-378.5 225,-332.5 0,-332.5\" stroke=\"#000000\"/>\n<text fill=\"#000000\" font-family=\"Times,serif\" font-size=\"14.00\" text-anchor=\"middle\" x=\"40\" y=\"-351.8\">InputLayer</text>\n<polyline fill=\"none\" points=\"80,-332.5 80,-378.5 \" stroke=\"#000000\"/>\n<text fill=\"#000000\" font-family=\"Times,serif\" font-size=\"14.00\" text-anchor=\"middle\" x=\"109\" y=\"-363.3\">input:</text>\n<polyline fill=\"none\" points=\"80,-355.5 138,-355.5 \" stroke=\"#000000\"/>\n<text fill=\"#000000\" font-family=\"Times,serif\" font-size=\"14.00\" text-anchor=\"middle\" x=\"109\" y=\"-340.3\">output:</text>\n<polyline fill=\"none\" points=\"138,-332.5 138,-378.5 \" stroke=\"#000000\"/>\n<text fill=\"#000000\" font-family=\"Times,serif\" font-size=\"14.00\" text-anchor=\"middle\" x=\"181.5\" y=\"-363.3\">(None, 298)</text>\n<polyline fill=\"none\" points=\"138,-355.5 225,-355.5 \" stroke=\"#000000\"/>\n<text fill=\"#000000\" font-family=\"Times,serif\" font-size=\"14.00\" text-anchor=\"middle\" x=\"181.5\" y=\"-340.3\">(None, 298)</text>\n</g>\n<!-- 140128760402608 -->\n<g class=\"node\" id=\"node2\">\n<title>140128760402608</title>\n<polygon fill=\"none\" points=\"14,-249.5 14,-295.5 211,-295.5 211,-249.5 14,-249.5\" stroke=\"#000000\"/>\n<text fill=\"#000000\" font-family=\"Times,serif\" font-size=\"14.00\" text-anchor=\"middle\" x=\"40\" y=\"-268.8\">Dense</text>\n<polyline fill=\"none\" points=\"66,-249.5 66,-295.5 \" stroke=\"#000000\"/>\n<text fill=\"#000000\" font-family=\"Times,serif\" font-size=\"14.00\" text-anchor=\"middle\" x=\"95\" y=\"-280.3\">input:</text>\n<polyline fill=\"none\" points=\"66,-272.5 124,-272.5 \" stroke=\"#000000\"/>\n<text fill=\"#000000\" font-family=\"Times,serif\" font-size=\"14.00\" text-anchor=\"middle\" x=\"95\" y=\"-257.3\">output:</text>\n<polyline fill=\"none\" points=\"124,-249.5 124,-295.5 \" stroke=\"#000000\"/>\n<text fill=\"#000000\" font-family=\"Times,serif\" font-size=\"14.00\" text-anchor=\"middle\" x=\"167.5\" y=\"-280.3\">(None, 298)</text>\n<polyline fill=\"none\" points=\"124,-272.5 211,-272.5 \" stroke=\"#000000\"/>\n<text fill=\"#000000\" font-family=\"Times,serif\" font-size=\"14.00\" text-anchor=\"middle\" x=\"167.5\" y=\"-257.3\">(None, 128)</text>\n</g>\n<!-- 140128760817368&#45;&gt;140128760402608 -->\n<g class=\"edge\" id=\"edge1\">\n<title>140128760817368-&gt;140128760402608</title>\n<path d=\"M112.5,-332.3799C112.5,-324.1745 112.5,-314.7679 112.5,-305.8786\" fill=\"none\" stroke=\"#000000\"/>\n<polygon fill=\"#000000\" points=\"116.0001,-305.784 112.5,-295.784 109.0001,-305.784 116.0001,-305.784\" stroke=\"#000000\"/>\n</g>\n<!-- 140129037777048 -->\n<g class=\"node\" id=\"node3\">\n<title>140129037777048</title>\n<polygon fill=\"none\" points=\"14,-166.5 14,-212.5 211,-212.5 211,-166.5 14,-166.5\" stroke=\"#000000\"/>\n<text fill=\"#000000\" font-family=\"Times,serif\" font-size=\"14.00\" text-anchor=\"middle\" x=\"40\" y=\"-185.8\">Dense</text>\n<polyline fill=\"none\" points=\"66,-166.5 66,-212.5 \" stroke=\"#000000\"/>\n<text fill=\"#000000\" font-family=\"Times,serif\" font-size=\"14.00\" text-anchor=\"middle\" x=\"95\" y=\"-197.3\">input:</text>\n<polyline fill=\"none\" points=\"66,-189.5 124,-189.5 \" stroke=\"#000000\"/>\n<text fill=\"#000000\" font-family=\"Times,serif\" font-size=\"14.00\" text-anchor=\"middle\" x=\"95\" y=\"-174.3\">output:</text>\n<polyline fill=\"none\" points=\"124,-166.5 124,-212.5 \" stroke=\"#000000\"/>\n<text fill=\"#000000\" font-family=\"Times,serif\" font-size=\"14.00\" text-anchor=\"middle\" x=\"167.5\" y=\"-197.3\">(None, 128)</text>\n<polyline fill=\"none\" points=\"124,-189.5 211,-189.5 \" stroke=\"#000000\"/>\n<text fill=\"#000000\" font-family=\"Times,serif\" font-size=\"14.00\" text-anchor=\"middle\" x=\"167.5\" y=\"-174.3\">(None, 256)</text>\n</g>\n<!-- 140128760402608&#45;&gt;140129037777048 -->\n<g class=\"edge\" id=\"edge2\">\n<title>140128760402608-&gt;140129037777048</title>\n<path d=\"M112.5,-249.3799C112.5,-241.1745 112.5,-231.7679 112.5,-222.8786\" fill=\"none\" stroke=\"#000000\"/>\n<polygon fill=\"#000000\" points=\"116.0001,-222.784 112.5,-212.784 109.0001,-222.784 116.0001,-222.784\" stroke=\"#000000\"/>\n</g>\n<!-- 140128760819216 -->\n<g class=\"node\" id=\"node4\">\n<title>140128760819216</title>\n<polygon fill=\"none\" points=\"14,-83.5 14,-129.5 211,-129.5 211,-83.5 14,-83.5\" stroke=\"#000000\"/>\n<text fill=\"#000000\" font-family=\"Times,serif\" font-size=\"14.00\" text-anchor=\"middle\" x=\"40\" y=\"-102.8\">Dense</text>\n<polyline fill=\"none\" points=\"66,-83.5 66,-129.5 \" stroke=\"#000000\"/>\n<text fill=\"#000000\" font-family=\"Times,serif\" font-size=\"14.00\" text-anchor=\"middle\" x=\"95\" y=\"-114.3\">input:</text>\n<polyline fill=\"none\" points=\"66,-106.5 124,-106.5 \" stroke=\"#000000\"/>\n<text fill=\"#000000\" font-family=\"Times,serif\" font-size=\"14.00\" text-anchor=\"middle\" x=\"95\" y=\"-91.3\">output:</text>\n<polyline fill=\"none\" points=\"124,-83.5 124,-129.5 \" stroke=\"#000000\"/>\n<text fill=\"#000000\" font-family=\"Times,serif\" font-size=\"14.00\" text-anchor=\"middle\" x=\"167.5\" y=\"-114.3\">(None, 256)</text>\n<polyline fill=\"none\" points=\"124,-106.5 211,-106.5 \" stroke=\"#000000\"/>\n<text fill=\"#000000\" font-family=\"Times,serif\" font-size=\"14.00\" text-anchor=\"middle\" x=\"167.5\" y=\"-91.3\">(None, 256)</text>\n</g>\n<!-- 140129037777048&#45;&gt;140128760819216 -->\n<g class=\"edge\" id=\"edge3\">\n<title>140129037777048-&gt;140128760819216</title>\n<path d=\"M112.5,-166.3799C112.5,-158.1745 112.5,-148.7679 112.5,-139.8786\" fill=\"none\" stroke=\"#000000\"/>\n<polygon fill=\"#000000\" points=\"116.0001,-139.784 112.5,-129.784 109.0001,-139.784 116.0001,-139.784\" stroke=\"#000000\"/>\n</g>\n<!-- 140128975616320 -->\n<g class=\"node\" id=\"node5\">\n<title>140128975616320</title>\n<polygon fill=\"none\" points=\"14,-.5 14,-46.5 211,-46.5 211,-.5 14,-.5\" stroke=\"#000000\"/>\n<text fill=\"#000000\" font-family=\"Times,serif\" font-size=\"14.00\" text-anchor=\"middle\" x=\"40\" y=\"-19.8\">Dense</text>\n<polyline fill=\"none\" points=\"66,-.5 66,-46.5 \" stroke=\"#000000\"/>\n<text fill=\"#000000\" font-family=\"Times,serif\" font-size=\"14.00\" text-anchor=\"middle\" x=\"95\" y=\"-31.3\">input:</text>\n<polyline fill=\"none\" points=\"66,-23.5 124,-23.5 \" stroke=\"#000000\"/>\n<text fill=\"#000000\" font-family=\"Times,serif\" font-size=\"14.00\" text-anchor=\"middle\" x=\"95\" y=\"-8.3\">output:</text>\n<polyline fill=\"none\" points=\"124,-.5 124,-46.5 \" stroke=\"#000000\"/>\n<text fill=\"#000000\" font-family=\"Times,serif\" font-size=\"14.00\" text-anchor=\"middle\" x=\"167.5\" y=\"-31.3\">(None, 256)</text>\n<polyline fill=\"none\" points=\"124,-23.5 211,-23.5 \" stroke=\"#000000\"/>\n<text fill=\"#000000\" font-family=\"Times,serif\" font-size=\"14.00\" text-anchor=\"middle\" x=\"167.5\" y=\"-8.3\">(None, 1)</text>\n</g>\n<!-- 140128760819216&#45;&gt;140128975616320 -->\n<g class=\"edge\" id=\"edge4\">\n<title>140128760819216-&gt;140128975616320</title>\n<path d=\"M112.5,-83.3799C112.5,-75.1745 112.5,-65.7679 112.5,-56.8786\" fill=\"none\" stroke=\"#000000\"/>\n<polygon fill=\"#000000\" points=\"116.0001,-56.784 112.5,-46.784 109.0001,-56.784 116.0001,-56.784\" stroke=\"#000000\"/>\n</g>\n</g>\n</svg>"
          },
          "metadata": {
            "tags": []
          },
          "execution_count": 105
        }
      ]
    },
    {
      "cell_type": "code",
      "metadata": {
        "id": "-I0q_wAiC4K3",
        "colab_type": "code",
        "outputId": "9cc2de92-e82c-44a3-de9c-5c1d361f17f0",
        "colab": {
          "base_uri": "https://localhost:8080/",
          "height": 1000
        }
      },
      "source": [
        "# Training the model\n",
        "nn1_start = time.time()\n",
        "\n",
        "nn1_history = nn1.fit(X_train,\n",
        "                  y_train,\n",
        "                  epochs=100,\n",
        "                  batch_size=256,\n",
        "                  validation_split = 0.1)\n",
        "\n",
        "nn1_end = time.time()\n",
        "\n",
        "print(f\"Time taken to run: {round((nn1_end - nn1_start)/60,1)} minutes\")"
      ],
      "execution_count": 0,
      "outputs": [
        {
          "output_type": "stream",
          "text": [
            "WARNING:tensorflow:From /usr/local/lib/python3.6/dist-packages/keras/backend/tensorflow_backend.py:1033: The name tf.assign_add is deprecated. Please use tf.compat.v1.assign_add instead.\n",
            "\n",
            "WARNING:tensorflow:From /usr/local/lib/python3.6/dist-packages/keras/backend/tensorflow_backend.py:1020: The name tf.assign is deprecated. Please use tf.compat.v1.assign instead.\n",
            "\n",
            "WARNING:tensorflow:From /usr/local/lib/python3.6/dist-packages/keras/backend/tensorflow_backend.py:3005: The name tf.Session is deprecated. Please use tf.compat.v1.Session instead.\n",
            "\n",
            "Train on 35121 samples, validate on 3903 samples\n",
            "Epoch 1/100\n",
            "WARNING:tensorflow:From /usr/local/lib/python3.6/dist-packages/keras/backend/tensorflow_backend.py:190: The name tf.get_default_session is deprecated. Please use tf.compat.v1.get_default_session instead.\n",
            "\n",
            "WARNING:tensorflow:From /usr/local/lib/python3.6/dist-packages/keras/backend/tensorflow_backend.py:197: The name tf.ConfigProto is deprecated. Please use tf.compat.v1.ConfigProto instead.\n",
            "\n",
            "WARNING:tensorflow:From /usr/local/lib/python3.6/dist-packages/keras/backend/tensorflow_backend.py:207: The name tf.global_variables is deprecated. Please use tf.compat.v1.global_variables instead.\n",
            "\n",
            "WARNING:tensorflow:From /usr/local/lib/python3.6/dist-packages/keras/backend/tensorflow_backend.py:216: The name tf.is_variable_initialized is deprecated. Please use tf.compat.v1.is_variable_initialized instead.\n",
            "\n",
            "WARNING:tensorflow:From /usr/local/lib/python3.6/dist-packages/keras/backend/tensorflow_backend.py:223: The name tf.variables_initializer is deprecated. Please use tf.compat.v1.variables_initializer instead.\n",
            "\n",
            "35121/35121 [==============================] - 1s 43us/step - loss: 1.8117 - mean_squared_error: 1.8117 - val_loss: 0.3092 - val_mean_squared_error: 0.3092\n",
            "Epoch 2/100\n",
            "35121/35121 [==============================] - 1s 28us/step - loss: 0.2290 - mean_squared_error: 0.2290 - val_loss: 0.2219 - val_mean_squared_error: 0.2219\n",
            "Epoch 3/100\n",
            "35121/35121 [==============================] - 1s 28us/step - loss: 0.1784 - mean_squared_error: 0.1784 - val_loss: 0.2068 - val_mean_squared_error: 0.2068\n",
            "Epoch 4/100\n",
            "35121/35121 [==============================] - 1s 27us/step - loss: 0.1598 - mean_squared_error: 0.1598 - val_loss: 0.2003 - val_mean_squared_error: 0.2003\n",
            "Epoch 5/100\n",
            "35121/35121 [==============================] - 1s 28us/step - loss: 0.1477 - mean_squared_error: 0.1477 - val_loss: 0.1966 - val_mean_squared_error: 0.1966\n",
            "Epoch 6/100\n",
            "35121/35121 [==============================] - 1s 28us/step - loss: 0.1407 - mean_squared_error: 0.1407 - val_loss: 0.1905 - val_mean_squared_error: 0.1905\n",
            "Epoch 7/100\n",
            "35121/35121 [==============================] - 1s 28us/step - loss: 0.1343 - mean_squared_error: 0.1343 - val_loss: 0.1855 - val_mean_squared_error: 0.1855\n",
            "Epoch 8/100\n",
            "35121/35121 [==============================] - 1s 27us/step - loss: 0.1294 - mean_squared_error: 0.1294 - val_loss: 0.1942 - val_mean_squared_error: 0.1942\n",
            "Epoch 9/100\n",
            "35121/35121 [==============================] - 1s 28us/step - loss: 0.1259 - mean_squared_error: 0.1259 - val_loss: 0.1905 - val_mean_squared_error: 0.1905\n",
            "Epoch 10/100\n",
            "35121/35121 [==============================] - 1s 27us/step - loss: 0.1211 - mean_squared_error: 0.1211 - val_loss: 0.1964 - val_mean_squared_error: 0.1964\n",
            "Epoch 11/100\n",
            "35121/35121 [==============================] - 1s 28us/step - loss: 0.1196 - mean_squared_error: 0.1196 - val_loss: 0.2102 - val_mean_squared_error: 0.2102\n",
            "Epoch 12/100\n",
            "35121/35121 [==============================] - 1s 28us/step - loss: 0.1126 - mean_squared_error: 0.1126 - val_loss: 0.1813 - val_mean_squared_error: 0.1813\n",
            "Epoch 13/100\n",
            "35121/35121 [==============================] - 1s 28us/step - loss: 0.1096 - mean_squared_error: 0.1096 - val_loss: 0.1870 - val_mean_squared_error: 0.1870\n",
            "Epoch 14/100\n",
            "35121/35121 [==============================] - 1s 29us/step - loss: 0.1072 - mean_squared_error: 0.1072 - val_loss: 0.1882 - val_mean_squared_error: 0.1882\n",
            "Epoch 15/100\n",
            "35121/35121 [==============================] - 1s 28us/step - loss: 0.1038 - mean_squared_error: 0.1038 - val_loss: 0.1873 - val_mean_squared_error: 0.1873\n",
            "Epoch 16/100\n",
            "35121/35121 [==============================] - 1s 28us/step - loss: 0.1066 - mean_squared_error: 0.1066 - val_loss: 0.1846 - val_mean_squared_error: 0.1846\n",
            "Epoch 17/100\n",
            "35121/35121 [==============================] - 1s 28us/step - loss: 0.1032 - mean_squared_error: 0.1032 - val_loss: 0.1873 - val_mean_squared_error: 0.1873\n",
            "Epoch 18/100\n",
            "35121/35121 [==============================] - 1s 28us/step - loss: 0.1018 - mean_squared_error: 0.1018 - val_loss: 0.1926 - val_mean_squared_error: 0.1926\n",
            "Epoch 19/100\n",
            "35121/35121 [==============================] - 1s 28us/step - loss: 0.1033 - mean_squared_error: 0.1033 - val_loss: 0.1932 - val_mean_squared_error: 0.1932\n",
            "Epoch 20/100\n",
            "35121/35121 [==============================] - 1s 28us/step - loss: 0.0961 - mean_squared_error: 0.0961 - val_loss: 0.1861 - val_mean_squared_error: 0.1861\n",
            "Epoch 21/100\n",
            "35121/35121 [==============================] - 1s 27us/step - loss: 0.0927 - mean_squared_error: 0.0927 - val_loss: 0.1951 - val_mean_squared_error: 0.1951\n",
            "Epoch 22/100\n",
            "35121/35121 [==============================] - 1s 28us/step - loss: 0.0981 - mean_squared_error: 0.0981 - val_loss: 0.1978 - val_mean_squared_error: 0.1978\n",
            "Epoch 23/100\n",
            "35121/35121 [==============================] - 1s 28us/step - loss: 0.0885 - mean_squared_error: 0.0885 - val_loss: 0.1876 - val_mean_squared_error: 0.1876\n",
            "Epoch 24/100\n",
            "35121/35121 [==============================] - 1s 27us/step - loss: 0.0835 - mean_squared_error: 0.0835 - val_loss: 0.1894 - val_mean_squared_error: 0.1894\n",
            "Epoch 25/100\n",
            "35121/35121 [==============================] - 1s 27us/step - loss: 0.0828 - mean_squared_error: 0.0828 - val_loss: 0.2100 - val_mean_squared_error: 0.2100\n",
            "Epoch 26/100\n",
            "35121/35121 [==============================] - 1s 28us/step - loss: 0.0798 - mean_squared_error: 0.0798 - val_loss: 0.1872 - val_mean_squared_error: 0.1872\n",
            "Epoch 27/100\n",
            "35121/35121 [==============================] - 1s 31us/step - loss: 0.0748 - mean_squared_error: 0.0748 - val_loss: 0.2026 - val_mean_squared_error: 0.2026\n",
            "Epoch 28/100\n",
            "35121/35121 [==============================] - 1s 31us/step - loss: 0.0736 - mean_squared_error: 0.0736 - val_loss: 0.2300 - val_mean_squared_error: 0.2300\n",
            "Epoch 29/100\n",
            "35121/35121 [==============================] - 1s 31us/step - loss: 0.0702 - mean_squared_error: 0.0702 - val_loss: 0.2008 - val_mean_squared_error: 0.2008\n",
            "Epoch 30/100\n",
            "35121/35121 [==============================] - 1s 31us/step - loss: 0.0664 - mean_squared_error: 0.0664 - val_loss: 0.2049 - val_mean_squared_error: 0.2049\n",
            "Epoch 31/100\n",
            "35121/35121 [==============================] - 1s 30us/step - loss: 0.0668 - mean_squared_error: 0.0668 - val_loss: 0.1954 - val_mean_squared_error: 0.1954\n",
            "Epoch 32/100\n",
            "35121/35121 [==============================] - 1s 31us/step - loss: 0.0614 - mean_squared_error: 0.0614 - val_loss: 0.2008 - val_mean_squared_error: 0.2008\n",
            "Epoch 33/100\n",
            "35121/35121 [==============================] - 1s 31us/step - loss: 0.0596 - mean_squared_error: 0.0596 - val_loss: 0.2045 - val_mean_squared_error: 0.2045\n",
            "Epoch 34/100\n",
            "35121/35121 [==============================] - 1s 31us/step - loss: 0.0570 - mean_squared_error: 0.0570 - val_loss: 0.2116 - val_mean_squared_error: 0.2116\n",
            "Epoch 35/100\n",
            "35121/35121 [==============================] - 1s 31us/step - loss: 0.0546 - mean_squared_error: 0.0546 - val_loss: 0.1967 - val_mean_squared_error: 0.1967\n",
            "Epoch 36/100\n",
            "35121/35121 [==============================] - 1s 30us/step - loss: 0.0540 - mean_squared_error: 0.0540 - val_loss: 0.2086 - val_mean_squared_error: 0.2086\n",
            "Epoch 37/100\n",
            "35121/35121 [==============================] - 1s 28us/step - loss: 0.0490 - mean_squared_error: 0.0490 - val_loss: 0.2019 - val_mean_squared_error: 0.2019\n",
            "Epoch 38/100\n",
            "35121/35121 [==============================] - 1s 28us/step - loss: 0.0445 - mean_squared_error: 0.0445 - val_loss: 0.2044 - val_mean_squared_error: 0.2044\n",
            "Epoch 39/100\n",
            "35121/35121 [==============================] - 1s 28us/step - loss: 0.0416 - mean_squared_error: 0.0416 - val_loss: 0.2025 - val_mean_squared_error: 0.2025\n",
            "Epoch 40/100\n",
            "35121/35121 [==============================] - 1s 28us/step - loss: 0.0411 - mean_squared_error: 0.0411 - val_loss: 0.2150 - val_mean_squared_error: 0.2150\n",
            "Epoch 41/100\n",
            "35121/35121 [==============================] - 1s 28us/step - loss: 0.0408 - mean_squared_error: 0.0408 - val_loss: 0.2211 - val_mean_squared_error: 0.2211\n",
            "Epoch 42/100\n",
            "35121/35121 [==============================] - 1s 28us/step - loss: 0.0401 - mean_squared_error: 0.0401 - val_loss: 0.2215 - val_mean_squared_error: 0.2215\n",
            "Epoch 43/100\n",
            "35121/35121 [==============================] - 1s 28us/step - loss: 0.0382 - mean_squared_error: 0.0382 - val_loss: 0.2122 - val_mean_squared_error: 0.2122\n",
            "Epoch 44/100\n",
            "35121/35121 [==============================] - 1s 28us/step - loss: 0.0497 - mean_squared_error: 0.0497 - val_loss: 0.2107 - val_mean_squared_error: 0.2107\n",
            "Epoch 45/100\n",
            "35121/35121 [==============================] - 1s 28us/step - loss: 0.0417 - mean_squared_error: 0.0417 - val_loss: 0.2118 - val_mean_squared_error: 0.2118\n",
            "Epoch 46/100\n",
            "35121/35121 [==============================] - 1s 29us/step - loss: 0.0343 - mean_squared_error: 0.0343 - val_loss: 0.2093 - val_mean_squared_error: 0.2093\n",
            "Epoch 47/100\n",
            "35121/35121 [==============================] - 1s 29us/step - loss: 0.0327 - mean_squared_error: 0.0327 - val_loss: 0.2127 - val_mean_squared_error: 0.2127\n",
            "Epoch 48/100\n",
            "35121/35121 [==============================] - 1s 28us/step - loss: 0.0295 - mean_squared_error: 0.0295 - val_loss: 0.2273 - val_mean_squared_error: 0.2273\n",
            "Epoch 49/100\n",
            "35121/35121 [==============================] - 1s 28us/step - loss: 0.0318 - mean_squared_error: 0.0318 - val_loss: 0.2124 - val_mean_squared_error: 0.2124\n",
            "Epoch 50/100\n",
            "35121/35121 [==============================] - 1s 28us/step - loss: 0.0282 - mean_squared_error: 0.0282 - val_loss: 0.2128 - val_mean_squared_error: 0.2128\n",
            "Epoch 51/100\n",
            "35121/35121 [==============================] - 1s 28us/step - loss: 0.0265 - mean_squared_error: 0.0265 - val_loss: 0.2134 - val_mean_squared_error: 0.2134\n",
            "Epoch 52/100\n",
            "35121/35121 [==============================] - 1s 28us/step - loss: 0.0247 - mean_squared_error: 0.0247 - val_loss: 0.2132 - val_mean_squared_error: 0.2132\n",
            "Epoch 53/100\n",
            "35121/35121 [==============================] - 1s 28us/step - loss: 0.0243 - mean_squared_error: 0.0243 - val_loss: 0.2143 - val_mean_squared_error: 0.2143\n",
            "Epoch 54/100\n",
            "35121/35121 [==============================] - 1s 28us/step - loss: 0.0262 - mean_squared_error: 0.0262 - val_loss: 0.2206 - val_mean_squared_error: 0.2206\n",
            "Epoch 55/100\n",
            "35121/35121 [==============================] - 1s 29us/step - loss: 0.0252 - mean_squared_error: 0.0252 - val_loss: 0.2170 - val_mean_squared_error: 0.2170\n",
            "Epoch 56/100\n",
            "35121/35121 [==============================] - 1s 28us/step - loss: 0.0233 - mean_squared_error: 0.0233 - val_loss: 0.2182 - val_mean_squared_error: 0.2182\n",
            "Epoch 57/100\n",
            "35121/35121 [==============================] - 1s 28us/step - loss: 0.0227 - mean_squared_error: 0.0227 - val_loss: 0.2146 - val_mean_squared_error: 0.2146\n",
            "Epoch 58/100\n",
            "35121/35121 [==============================] - 1s 29us/step - loss: 0.0258 - mean_squared_error: 0.0258 - val_loss: 0.2208 - val_mean_squared_error: 0.2208\n",
            "Epoch 59/100\n",
            "35121/35121 [==============================] - 1s 28us/step - loss: 0.0232 - mean_squared_error: 0.0232 - val_loss: 0.2283 - val_mean_squared_error: 0.2283\n",
            "Epoch 60/100\n",
            "35121/35121 [==============================] - 1s 28us/step - loss: 0.0228 - mean_squared_error: 0.0228 - val_loss: 0.2148 - val_mean_squared_error: 0.2148\n",
            "Epoch 61/100\n",
            "35121/35121 [==============================] - 1s 28us/step - loss: 0.0235 - mean_squared_error: 0.0235 - val_loss: 0.2242 - val_mean_squared_error: 0.2242\n",
            "Epoch 62/100\n",
            "35121/35121 [==============================] - 1s 28us/step - loss: 0.0232 - mean_squared_error: 0.0232 - val_loss: 0.2231 - val_mean_squared_error: 0.2231\n",
            "Epoch 63/100\n",
            "35121/35121 [==============================] - 1s 28us/step - loss: 0.0210 - mean_squared_error: 0.0210 - val_loss: 0.2218 - val_mean_squared_error: 0.2218\n",
            "Epoch 64/100\n",
            "35121/35121 [==============================] - 1s 28us/step - loss: 0.0223 - mean_squared_error: 0.0223 - val_loss: 0.2171 - val_mean_squared_error: 0.2171\n",
            "Epoch 65/100\n",
            "35121/35121 [==============================] - 1s 28us/step - loss: 0.0232 - mean_squared_error: 0.0232 - val_loss: 0.2139 - val_mean_squared_error: 0.2139\n",
            "Epoch 66/100\n",
            "35121/35121 [==============================] - 1s 28us/step - loss: 0.0227 - mean_squared_error: 0.0227 - val_loss: 0.2262 - val_mean_squared_error: 0.2262\n",
            "Epoch 67/100\n",
            "35121/35121 [==============================] - 1s 28us/step - loss: 0.0271 - mean_squared_error: 0.0271 - val_loss: 0.2261 - val_mean_squared_error: 0.2261\n",
            "Epoch 68/100\n",
            "35121/35121 [==============================] - 1s 28us/step - loss: 0.0381 - mean_squared_error: 0.0381 - val_loss: 0.2249 - val_mean_squared_error: 0.2249\n",
            "Epoch 69/100\n",
            "35121/35121 [==============================] - 1s 28us/step - loss: 0.0459 - mean_squared_error: 0.0459 - val_loss: 0.2206 - val_mean_squared_error: 0.2206\n",
            "Epoch 70/100\n",
            "35121/35121 [==============================] - 1s 28us/step - loss: 0.0373 - mean_squared_error: 0.0373 - val_loss: 0.2170 - val_mean_squared_error: 0.2170\n",
            "Epoch 71/100\n",
            "35121/35121 [==============================] - 1s 29us/step - loss: 0.0839 - mean_squared_error: 0.0839 - val_loss: 0.2251 - val_mean_squared_error: 0.2251\n",
            "Epoch 72/100\n",
            "35121/35121 [==============================] - 1s 28us/step - loss: 0.0316 - mean_squared_error: 0.0316 - val_loss: 0.2261 - val_mean_squared_error: 0.2261\n",
            "Epoch 73/100\n",
            "35121/35121 [==============================] - 1s 28us/step - loss: 0.0356 - mean_squared_error: 0.0356 - val_loss: 0.2273 - val_mean_squared_error: 0.2273\n",
            "Epoch 74/100\n",
            "35121/35121 [==============================] - 1s 27us/step - loss: 0.0349 - mean_squared_error: 0.0349 - val_loss: 0.2268 - val_mean_squared_error: 0.2268\n",
            "Epoch 75/100\n",
            "35121/35121 [==============================] - 1s 29us/step - loss: 0.0268 - mean_squared_error: 0.0268 - val_loss: 0.2187 - val_mean_squared_error: 0.2187\n",
            "Epoch 76/100\n",
            "35121/35121 [==============================] - 1s 28us/step - loss: 0.0226 - mean_squared_error: 0.0226 - val_loss: 0.2315 - val_mean_squared_error: 0.2315\n",
            "Epoch 77/100\n",
            "35121/35121 [==============================] - 1s 29us/step - loss: 0.0193 - mean_squared_error: 0.0193 - val_loss: 0.2283 - val_mean_squared_error: 0.2283\n",
            "Epoch 78/100\n",
            "35121/35121 [==============================] - 1s 28us/step - loss: 0.0131 - mean_squared_error: 0.0131 - val_loss: 0.2216 - val_mean_squared_error: 0.2216\n",
            "Epoch 79/100\n",
            "35121/35121 [==============================] - 1s 28us/step - loss: 0.0129 - mean_squared_error: 0.0129 - val_loss: 0.2278 - val_mean_squared_error: 0.2278\n",
            "Epoch 80/100\n",
            "35121/35121 [==============================] - 1s 28us/step - loss: 0.0123 - mean_squared_error: 0.0123 - val_loss: 0.2255 - val_mean_squared_error: 0.2255\n",
            "Epoch 81/100\n",
            "35121/35121 [==============================] - 1s 28us/step - loss: 0.0148 - mean_squared_error: 0.0148 - val_loss: 0.2247 - val_mean_squared_error: 0.2247\n",
            "Epoch 82/100\n",
            "35121/35121 [==============================] - 1s 29us/step - loss: 0.0130 - mean_squared_error: 0.0130 - val_loss: 0.2219 - val_mean_squared_error: 0.2219\n",
            "Epoch 83/100\n",
            "35121/35121 [==============================] - 1s 28us/step - loss: 0.0126 - mean_squared_error: 0.0126 - val_loss: 0.2232 - val_mean_squared_error: 0.2232\n",
            "Epoch 84/100\n",
            "35121/35121 [==============================] - 1s 28us/step - loss: 0.0129 - mean_squared_error: 0.0129 - val_loss: 0.2336 - val_mean_squared_error: 0.2336\n",
            "Epoch 85/100\n",
            "35121/35121 [==============================] - 1s 28us/step - loss: 0.0227 - mean_squared_error: 0.0227 - val_loss: 0.2323 - val_mean_squared_error: 0.2323\n",
            "Epoch 86/100\n",
            "35121/35121 [==============================] - 1s 28us/step - loss: 0.0285 - mean_squared_error: 0.0285 - val_loss: 0.2321 - val_mean_squared_error: 0.2321\n",
            "Epoch 87/100\n",
            "35121/35121 [==============================] - 1s 28us/step - loss: 0.0163 - mean_squared_error: 0.0163 - val_loss: 0.2330 - val_mean_squared_error: 0.2330\n",
            "Epoch 88/100\n",
            "35121/35121 [==============================] - 1s 28us/step - loss: 0.0136 - mean_squared_error: 0.0136 - val_loss: 0.2252 - val_mean_squared_error: 0.2252\n",
            "Epoch 89/100\n",
            "35121/35121 [==============================] - 1s 28us/step - loss: 0.0141 - mean_squared_error: 0.0141 - val_loss: 0.2332 - val_mean_squared_error: 0.2332\n",
            "Epoch 90/100\n",
            "35121/35121 [==============================] - 1s 28us/step - loss: 0.0138 - mean_squared_error: 0.0138 - val_loss: 0.2328 - val_mean_squared_error: 0.2328\n",
            "Epoch 91/100\n",
            "35121/35121 [==============================] - 1s 28us/step - loss: 0.0129 - mean_squared_error: 0.0129 - val_loss: 0.2299 - val_mean_squared_error: 0.2299\n",
            "Epoch 92/100\n",
            "35121/35121 [==============================] - 1s 28us/step - loss: 0.0112 - mean_squared_error: 0.0112 - val_loss: 0.2348 - val_mean_squared_error: 0.2348\n",
            "Epoch 93/100\n",
            "35121/35121 [==============================] - 1s 28us/step - loss: 0.0114 - mean_squared_error: 0.0114 - val_loss: 0.2376 - val_mean_squared_error: 0.2376\n",
            "Epoch 94/100\n",
            "35121/35121 [==============================] - 1s 28us/step - loss: 0.0111 - mean_squared_error: 0.0111 - val_loss: 0.2489 - val_mean_squared_error: 0.2489\n",
            "Epoch 95/100\n",
            "35121/35121 [==============================] - 1s 28us/step - loss: 0.0112 - mean_squared_error: 0.0112 - val_loss: 0.2371 - val_mean_squared_error: 0.2371\n",
            "Epoch 96/100\n",
            "35121/35121 [==============================] - 1s 27us/step - loss: 0.0121 - mean_squared_error: 0.0121 - val_loss: 0.2434 - val_mean_squared_error: 0.2434\n",
            "Epoch 97/100\n",
            "35121/35121 [==============================] - 1s 29us/step - loss: 0.0142 - mean_squared_error: 0.0142 - val_loss: 0.2426 - val_mean_squared_error: 0.2426\n",
            "Epoch 98/100\n",
            "35121/35121 [==============================] - 1s 28us/step - loss: 0.0130 - mean_squared_error: 0.0130 - val_loss: 0.2335 - val_mean_squared_error: 0.2335\n",
            "Epoch 99/100\n",
            "35121/35121 [==============================] - 1s 28us/step - loss: 0.0119 - mean_squared_error: 0.0119 - val_loss: 0.2404 - val_mean_squared_error: 0.2404\n",
            "Epoch 100/100\n",
            "35121/35121 [==============================] - 1s 27us/step - loss: 0.0131 - mean_squared_error: 0.0131 - val_loss: 0.2482 - val_mean_squared_error: 0.2482\n",
            "Time taken to run: 1.7 minutes\n"
          ],
          "name": "stdout"
        }
      ]
    },
    {
      "cell_type": "code",
      "metadata": {
        "id": "FY_u4QnPC_Hu",
        "colab_type": "code",
        "outputId": "1d015633-50ca-4f8b-ccd5-de0fcb122db2",
        "colab": {
          "base_uri": "https://localhost:8080/",
          "height": 667
        }
      },
      "source": [
        "nn_model_evaluation(nn1)"
      ],
      "execution_count": 0,
      "outputs": [
        {
          "output_type": "stream",
          "text": [
            "Training MSE: 0.0384\n",
            "Validation MSE: 0.2611\n",
            "\n",
            "Training r2: 0.9084\n",
            "Validation r2: 0.3659\n"
          ],
          "name": "stdout"
        },
        {
          "output_type": "display_data",
          "data": {
            "image/png": "[encoded data removed]",
            "text/plain": [
              "<Figure size 432x288 with 1 Axes>"
            ]
          },
          "metadata": {
            "tags": []
          }
        },
        {
          "output_type": "display_data",
          "data": {
            "image/png": "[encoded data removed]",
            "text/plain": [
              "<Figure size 864x288 with 2 Axes>"
            ]
          },
          "metadata": {
            "tags": []
          }
        }
      ]
    },
    {
      "cell_type": "markdown",
      "metadata": {
        "id": "7ZYXUxZtI1S5",
        "colab_type": "text"
      },
      "source": [
        "# Third model\n",
        "Adding another layer and making it a four-layer neural network <br>\n",
        "We also added some regularization to avoid the overfitting we had in the previous model"
      ]
    },
    {
      "cell_type": "code",
      "metadata": {
        "id": "ZvH-kqCxDBo9",
        "colab_type": "code",
        "outputId": "0ec8d730-af13-492f-fd58-5f981bc4e034",
        "colab": {
          "base_uri": "https://localhost:8080/",
          "height": 1000
        }
      },
      "source": [
        "# Building the model\n",
        "nn2 = models.Sequential()\n",
        "nn2.add(layers.Dense(128, input_shape=(X_train.shape[1],), kernel_regularizer=regularizers.l1(0.005), activation='relu'))\n",
        "nn2.add(layers.Dense(256, kernel_regularizer=regularizers.l1(0.005), activation='relu'))\n",
        "nn2.add(layers.Dense(256, kernel_regularizer=regularizers.l1(0.005), activation='relu'))\n",
        "nn2.add(layers.Dense(512, kernel_regularizer=regularizers.l1(0.005), activation='relu'))\n",
        "nn2.add(layers.Dense(1, activation='linear'))\n",
        "\n",
        "# Compiling the model\n",
        "nn2.compile(loss='mean_squared_error',\n",
        "            optimizer='adam',\n",
        "            metrics=['mean_squared_error'])\n",
        "\n",
        "# Model summary\n",
        "print(nn2.summary())\n",
        "\n",
        "# Visualising the neural network\n",
        "SVG(model_to_dot(nn2, show_layer_names=False, show_shapes=True).create(prog='dot', format='svg'))"
      ],
      "execution_count": 0,
      "outputs": [
        {
          "output_type": "stream",
          "text": [
            "Model: \"sequential_2\"\n",
            "_________________________________________________________________\n",
            "Layer (type)                 Output Shape              Param #   \n",
            "=================================================================\n",
            "dense_5 (Dense)              (None, 128)               38272     \n",
            "_________________________________________________________________\n",
            "dense_6 (Dense)              (None, 256)               33024     \n",
            "_________________________________________________________________\n",
            "dense_7 (Dense)              (None, 256)               65792     \n",
            "_________________________________________________________________\n",
            "dense_8 (Dense)              (None, 512)               131584    \n",
            "_________________________________________________________________\n",
            "dense_9 (Dense)              (None, 1)                 513       \n",
            "=================================================================\n",
            "Total params: 269,185\n",
            "Trainable params: 269,185\n",
            "Non-trainable params: 0\n",
            "_________________________________________________________________\n",
            "None\n"
          ],
          "name": "stdout"
        },
        {
          "output_type": "execute_result",
          "data": {
            "text/plain": [
              "<IPython.core.display.SVG object>"
            ],
            "image/svg+xml": "<svg height=\"627pt\" viewBox=\"0.00 0.00 233.00 470.00\" width=\"311pt\" xmlns=\"http://www.w3.org/2000/svg\" xmlns:xlink=\"http://www.w3.org/1999/xlink\">\n<g class=\"graph\" id=\"graph0\" transform=\"scale(1.3333 1.3333) rotate(0) translate(4 466)\">\n<title>G</title>\n<polygon fill=\"#ffffff\" points=\"-4,4 -4,-466 229,-466 229,4 -4,4\" stroke=\"transparent\"/>\n<!-- 140128787457472 -->\n<g class=\"node\" id=\"node1\">\n<title>140128787457472</title>\n<polygon fill=\"none\" points=\"0,-415.5 0,-461.5 225,-461.5 225,-415.5 0,-415.5\" stroke=\"#000000\"/>\n<text fill=\"#000000\" font-family=\"Times,serif\" font-size=\"14.00\" text-anchor=\"middle\" x=\"40\" y=\"-434.8\">InputLayer</text>\n<polyline fill=\"none\" points=\"80,-415.5 80,-461.5 \" stroke=\"#000000\"/>\n<text fill=\"#000000\" font-family=\"Times,serif\" font-size=\"14.00\" text-anchor=\"middle\" x=\"109\" y=\"-446.3\">input:</text>\n<polyline fill=\"none\" points=\"80,-438.5 138,-438.5 \" stroke=\"#000000\"/>\n<text fill=\"#000000\" font-family=\"Times,serif\" font-size=\"14.00\" text-anchor=\"middle\" x=\"109\" y=\"-423.3\">output:</text>\n<polyline fill=\"none\" points=\"138,-415.5 138,-461.5 \" stroke=\"#000000\"/>\n<text fill=\"#000000\" font-family=\"Times,serif\" font-size=\"14.00\" text-anchor=\"middle\" x=\"181.5\" y=\"-446.3\">(None, 298)</text>\n<polyline fill=\"none\" points=\"138,-438.5 225,-438.5 \" stroke=\"#000000\"/>\n<text fill=\"#000000\" font-family=\"Times,serif\" font-size=\"14.00\" text-anchor=\"middle\" x=\"181.5\" y=\"-423.3\">(None, 298)</text>\n</g>\n<!-- 140128910247080 -->\n<g class=\"node\" id=\"node2\">\n<title>140128910247080</title>\n<polygon fill=\"none\" points=\"14,-332.5 14,-378.5 211,-378.5 211,-332.5 14,-332.5\" stroke=\"#000000\"/>\n<text fill=\"#000000\" font-family=\"Times,serif\" font-size=\"14.00\" text-anchor=\"middle\" x=\"40\" y=\"-351.8\">Dense</text>\n<polyline fill=\"none\" points=\"66,-332.5 66,-378.5 \" stroke=\"#000000\"/>\n<text fill=\"#000000\" font-family=\"Times,serif\" font-size=\"14.00\" text-anchor=\"middle\" x=\"95\" y=\"-363.3\">input:</text>\n<polyline fill=\"none\" points=\"66,-355.5 124,-355.5 \" stroke=\"#000000\"/>\n<text fill=\"#000000\" font-family=\"Times,serif\" font-size=\"14.00\" text-anchor=\"middle\" x=\"95\" y=\"-340.3\">output:</text>\n<polyline fill=\"none\" points=\"124,-332.5 124,-378.5 \" stroke=\"#000000\"/>\n<text fill=\"#000000\" font-family=\"Times,serif\" font-size=\"14.00\" text-anchor=\"middle\" x=\"167.5\" y=\"-363.3\">(None, 298)</text>\n<polyline fill=\"none\" points=\"124,-355.5 211,-355.5 \" stroke=\"#000000\"/>\n<text fill=\"#000000\" font-family=\"Times,serif\" font-size=\"14.00\" text-anchor=\"middle\" x=\"167.5\" y=\"-340.3\">(None, 128)</text>\n</g>\n<!-- 140128787457472&#45;&gt;140128910247080 -->\n<g class=\"edge\" id=\"edge1\">\n<title>140128787457472-&gt;140128910247080</title>\n<path d=\"M112.5,-415.3799C112.5,-407.1745 112.5,-397.7679 112.5,-388.8786\" fill=\"none\" stroke=\"#000000\"/>\n<polygon fill=\"#000000\" points=\"116.0001,-388.784 112.5,-378.784 109.0001,-388.784 116.0001,-388.784\" stroke=\"#000000\"/>\n</g>\n<!-- 140128787491976 -->\n<g class=\"node\" id=\"node3\">\n<title>140128787491976</title>\n<polygon fill=\"none\" points=\"14,-249.5 14,-295.5 211,-295.5 211,-249.5 14,-249.5\" stroke=\"#000000\"/>\n<text fill=\"#000000\" font-family=\"Times,serif\" font-size=\"14.00\" text-anchor=\"middle\" x=\"40\" y=\"-268.8\">Dense</text>\n<polyline fill=\"none\" points=\"66,-249.5 66,-295.5 \" stroke=\"#000000\"/>\n<text fill=\"#000000\" font-family=\"Times,serif\" font-size=\"14.00\" text-anchor=\"middle\" x=\"95\" y=\"-280.3\">input:</text>\n<polyline fill=\"none\" points=\"66,-272.5 124,-272.5 \" stroke=\"#000000\"/>\n<text fill=\"#000000\" font-family=\"Times,serif\" font-size=\"14.00\" text-anchor=\"middle\" x=\"95\" y=\"-257.3\">output:</text>\n<polyline fill=\"none\" points=\"124,-249.5 124,-295.5 \" stroke=\"#000000\"/>\n<text fill=\"#000000\" font-family=\"Times,serif\" font-size=\"14.00\" text-anchor=\"middle\" x=\"167.5\" y=\"-280.3\">(None, 128)</text>\n<polyline fill=\"none\" points=\"124,-272.5 211,-272.5 \" stroke=\"#000000\"/>\n<text fill=\"#000000\" font-family=\"Times,serif\" font-size=\"14.00\" text-anchor=\"middle\" x=\"167.5\" y=\"-257.3\">(None, 256)</text>\n</g>\n<!-- 140128910247080&#45;&gt;140128787491976 -->\n<g class=\"edge\" id=\"edge2\">\n<title>140128910247080-&gt;140128787491976</title>\n<path d=\"M112.5,-332.3799C112.5,-324.1745 112.5,-314.7679 112.5,-305.8786\" fill=\"none\" stroke=\"#000000\"/>\n<polygon fill=\"#000000\" points=\"116.0001,-305.784 112.5,-295.784 109.0001,-305.784 116.0001,-305.784\" stroke=\"#000000\"/>\n</g>\n<!-- 140128787565312 -->\n<g class=\"node\" id=\"node4\">\n<title>140128787565312</title>\n<polygon fill=\"none\" points=\"14,-166.5 14,-212.5 211,-212.5 211,-166.5 14,-166.5\" stroke=\"#000000\"/>\n<text fill=\"#000000\" font-family=\"Times,serif\" font-size=\"14.00\" text-anchor=\"middle\" x=\"40\" y=\"-185.8\">Dense</text>\n<polyline fill=\"none\" points=\"66,-166.5 66,-212.5 \" stroke=\"#000000\"/>\n<text fill=\"#000000\" font-family=\"Times,serif\" font-size=\"14.00\" text-anchor=\"middle\" x=\"95\" y=\"-197.3\">input:</text>\n<polyline fill=\"none\" points=\"66,-189.5 124,-189.5 \" stroke=\"#000000\"/>\n<text fill=\"#000000\" font-family=\"Times,serif\" font-size=\"14.00\" text-anchor=\"middle\" x=\"95\" y=\"-174.3\">output:</text>\n<polyline fill=\"none\" points=\"124,-166.5 124,-212.5 \" stroke=\"#000000\"/>\n<text fill=\"#000000\" font-family=\"Times,serif\" font-size=\"14.00\" text-anchor=\"middle\" x=\"167.5\" y=\"-197.3\">(None, 256)</text>\n<polyline fill=\"none\" points=\"124,-189.5 211,-189.5 \" stroke=\"#000000\"/>\n<text fill=\"#000000\" font-family=\"Times,serif\" font-size=\"14.00\" text-anchor=\"middle\" x=\"167.5\" y=\"-174.3\">(None, 256)</text>\n</g>\n<!-- 140128787491976&#45;&gt;140128787565312 -->\n<g class=\"edge\" id=\"edge3\">\n<title>140128787491976-&gt;140128787565312</title>\n<path d=\"M112.5,-249.3799C112.5,-241.1745 112.5,-231.7679 112.5,-222.8786\" fill=\"none\" stroke=\"#000000\"/>\n<polygon fill=\"#000000\" points=\"116.0001,-222.784 112.5,-212.784 109.0001,-222.784 116.0001,-222.784\" stroke=\"#000000\"/>\n</g>\n<!-- 140128787098144 -->\n<g class=\"node\" id=\"node5\">\n<title>140128787098144</title>\n<polygon fill=\"none\" points=\"14,-83.5 14,-129.5 211,-129.5 211,-83.5 14,-83.5\" stroke=\"#000000\"/>\n<text fill=\"#000000\" font-family=\"Times,serif\" font-size=\"14.00\" text-anchor=\"middle\" x=\"40\" y=\"-102.8\">Dense</text>\n<polyline fill=\"none\" points=\"66,-83.5 66,-129.5 \" stroke=\"#000000\"/>\n<text fill=\"#000000\" font-family=\"Times,serif\" font-size=\"14.00\" text-anchor=\"middle\" x=\"95\" y=\"-114.3\">input:</text>\n<polyline fill=\"none\" points=\"66,-106.5 124,-106.5 \" stroke=\"#000000\"/>\n<text fill=\"#000000\" font-family=\"Times,serif\" font-size=\"14.00\" text-anchor=\"middle\" x=\"95\" y=\"-91.3\">output:</text>\n<polyline fill=\"none\" points=\"124,-83.5 124,-129.5 \" stroke=\"#000000\"/>\n<text fill=\"#000000\" font-family=\"Times,serif\" font-size=\"14.00\" text-anchor=\"middle\" x=\"167.5\" y=\"-114.3\">(None, 256)</text>\n<polyline fill=\"none\" points=\"124,-106.5 211,-106.5 \" stroke=\"#000000\"/>\n<text fill=\"#000000\" font-family=\"Times,serif\" font-size=\"14.00\" text-anchor=\"middle\" x=\"167.5\" y=\"-91.3\">(None, 512)</text>\n</g>\n<!-- 140128787565312&#45;&gt;140128787098144 -->\n<g class=\"edge\" id=\"edge4\">\n<title>140128787565312-&gt;140128787098144</title>\n<path d=\"M112.5,-166.3799C112.5,-158.1745 112.5,-148.7679 112.5,-139.8786\" fill=\"none\" stroke=\"#000000\"/>\n<polygon fill=\"#000000\" points=\"116.0001,-139.784 112.5,-129.784 109.0001,-139.784 116.0001,-139.784\" stroke=\"#000000\"/>\n</g>\n<!-- 140128787096520 -->\n<g class=\"node\" id=\"node6\">\n<title>140128787096520</title>\n<polygon fill=\"none\" points=\"14,-.5 14,-46.5 211,-46.5 211,-.5 14,-.5\" stroke=\"#000000\"/>\n<text fill=\"#000000\" font-family=\"Times,serif\" font-size=\"14.00\" text-anchor=\"middle\" x=\"40\" y=\"-19.8\">Dense</text>\n<polyline fill=\"none\" points=\"66,-.5 66,-46.5 \" stroke=\"#000000\"/>\n<text fill=\"#000000\" font-family=\"Times,serif\" font-size=\"14.00\" text-anchor=\"middle\" x=\"95\" y=\"-31.3\">input:</text>\n<polyline fill=\"none\" points=\"66,-23.5 124,-23.5 \" stroke=\"#000000\"/>\n<text fill=\"#000000\" font-family=\"Times,serif\" font-size=\"14.00\" text-anchor=\"middle\" x=\"95\" y=\"-8.3\">output:</text>\n<polyline fill=\"none\" points=\"124,-.5 124,-46.5 \" stroke=\"#000000\"/>\n<text fill=\"#000000\" font-family=\"Times,serif\" font-size=\"14.00\" text-anchor=\"middle\" x=\"167.5\" y=\"-31.3\">(None, 512)</text>\n<polyline fill=\"none\" points=\"124,-23.5 211,-23.5 \" stroke=\"#000000\"/>\n<text fill=\"#000000\" font-family=\"Times,serif\" font-size=\"14.00\" text-anchor=\"middle\" x=\"167.5\" y=\"-8.3\">(None, 1)</text>\n</g>\n<!-- 140128787098144&#45;&gt;140128787096520 -->\n<g class=\"edge\" id=\"edge5\">\n<title>140128787098144-&gt;140128787096520</title>\n<path d=\"M112.5,-83.3799C112.5,-75.1745 112.5,-65.7679 112.5,-56.8786\" fill=\"none\" stroke=\"#000000\"/>\n<polygon fill=\"#000000\" points=\"116.0001,-56.784 112.5,-46.784 109.0001,-56.784 116.0001,-56.784\" stroke=\"#000000\"/>\n</g>\n</g>\n</svg>"
          },
          "metadata": {
            "tags": []
          },
          "execution_count": 108
        }
      ]
    },
    {
      "cell_type": "code",
      "metadata": {
        "id": "TrpTk3qoDD5z",
        "colab_type": "code",
        "outputId": "868ede0f-5dce-464b-a534-275c5d2c214b",
        "colab": {
          "base_uri": "https://localhost:8080/",
          "height": 1000
        }
      },
      "source": [
        "# Training the model\n",
        "nn2_start = time.time()\n",
        "\n",
        "nn2_history = nn2.fit(X_train,\n",
        "                  y_train,\n",
        "                  epochs=150,\n",
        "                  batch_size=256,\n",
        "                  validation_split = 0.1)\n",
        "\n",
        "nn2_end = time.time()\n",
        "\n",
        "print(f\"Time taken to run: {round((nn2_end - nn2_start)/60,1)} minutes\")"
      ],
      "execution_count": 0,
      "outputs": [
        {
          "output_type": "stream",
          "text": [
            "Train on 35121 samples, validate on 3903 samples\n",
            "Epoch 1/150\n",
            "35121/35121 [==============================] - 2s 57us/step - loss: 39.5861 - mean_squared_error: 1.6600 - val_loss: 17.5652 - val_mean_squared_error: 0.2274\n",
            "Epoch 2/150\n",
            "35121/35121 [==============================] - 2s 47us/step - loss: 10.3775 - mean_squared_error: 0.1896 - val_loss: 5.5542 - val_mean_squared_error: 0.1803\n",
            "Epoch 3/150\n",
            "35121/35121 [==============================] - 2s 47us/step - loss: 3.4476 - mean_squared_error: 0.1730 - val_loss: 2.0117 - val_mean_squared_error: 0.1920\n",
            "Epoch 4/150\n",
            "35121/35121 [==============================] - 2s 46us/step - loss: 1.3712 - mean_squared_error: 0.1804 - val_loss: 0.9466 - val_mean_squared_error: 0.1904\n",
            "Epoch 5/150\n",
            "35121/35121 [==============================] - 2s 47us/step - loss: 0.7370 - mean_squared_error: 0.1750 - val_loss: 0.5999 - val_mean_squared_error: 0.1774\n",
            "Epoch 6/150\n",
            "35121/35121 [==============================] - 2s 46us/step - loss: 0.5151 - mean_squared_error: 0.1629 - val_loss: 0.4710 - val_mean_squared_error: 0.1693\n",
            "Epoch 7/150\n",
            "35121/35121 [==============================] - 2s 46us/step - loss: 0.4310 - mean_squared_error: 0.1585 - val_loss: 0.4180 - val_mean_squared_error: 0.1683\n",
            "Epoch 8/150\n",
            "35121/35121 [==============================] - 2s 46us/step - loss: 0.3934 - mean_squared_error: 0.1566 - val_loss: 0.3943 - val_mean_squared_error: 0.1673\n",
            "Epoch 9/150\n",
            "35121/35121 [==============================] - 2s 47us/step - loss: 0.3771 - mean_squared_error: 0.1568 - val_loss: 0.3818 - val_mean_squared_error: 0.1672\n",
            "Epoch 10/150\n",
            "35121/35121 [==============================] - 2s 47us/step - loss: 0.3651 - mean_squared_error: 0.1555 - val_loss: 0.3759 - val_mean_squared_error: 0.1678\n",
            "Epoch 11/150\n",
            "35121/35121 [==============================] - 2s 45us/step - loss: 0.3585 - mean_squared_error: 0.1548 - val_loss: 0.3681 - val_mean_squared_error: 0.1671\n",
            "Epoch 12/150\n",
            "35121/35121 [==============================] - 2s 45us/step - loss: 0.3545 - mean_squared_error: 0.1543 - val_loss: 0.3638 - val_mean_squared_error: 0.1654\n",
            "Epoch 13/150\n",
            "35121/35121 [==============================] - 2s 46us/step - loss: 0.3510 - mean_squared_error: 0.1537 - val_loss: 0.3581 - val_mean_squared_error: 0.1640\n",
            "Epoch 14/150\n",
            "35121/35121 [==============================] - 2s 46us/step - loss: 0.3485 - mean_squared_error: 0.1536 - val_loss: 0.3580 - val_mean_squared_error: 0.1631\n",
            "Epoch 15/150\n",
            "35121/35121 [==============================] - 2s 46us/step - loss: 0.3451 - mean_squared_error: 0.1523 - val_loss: 0.3566 - val_mean_squared_error: 0.1644\n",
            "Epoch 16/150\n",
            "35121/35121 [==============================] - 2s 45us/step - loss: 0.3451 - mean_squared_error: 0.1528 - val_loss: 0.3649 - val_mean_squared_error: 0.1708\n",
            "Epoch 17/150\n",
            "35121/35121 [==============================] - 2s 45us/step - loss: 0.3469 - mean_squared_error: 0.1535 - val_loss: 0.3562 - val_mean_squared_error: 0.1648\n",
            "Epoch 18/150\n",
            "35121/35121 [==============================] - 2s 45us/step - loss: 0.3436 - mean_squared_error: 0.1523 - val_loss: 0.3560 - val_mean_squared_error: 0.1639\n",
            "Epoch 19/150\n",
            "35121/35121 [==============================] - 2s 46us/step - loss: 0.3436 - mean_squared_error: 0.1519 - val_loss: 0.3550 - val_mean_squared_error: 0.1628\n",
            "Epoch 20/150\n",
            "35121/35121 [==============================] - 2s 45us/step - loss: 0.3429 - mean_squared_error: 0.1518 - val_loss: 0.3609 - val_mean_squared_error: 0.1674\n",
            "Epoch 21/150\n",
            "35121/35121 [==============================] - 2s 45us/step - loss: 0.3435 - mean_squared_error: 0.1519 - val_loss: 0.3554 - val_mean_squared_error: 0.1641\n",
            "Epoch 22/150\n",
            "35121/35121 [==============================] - 2s 45us/step - loss: 0.3440 - mean_squared_error: 0.1522 - val_loss: 0.3561 - val_mean_squared_error: 0.1636\n",
            "Epoch 23/150\n",
            "35121/35121 [==============================] - 2s 45us/step - loss: 0.3433 - mean_squared_error: 0.1517 - val_loss: 0.3570 - val_mean_squared_error: 0.1653\n",
            "Epoch 24/150\n",
            "35121/35121 [==============================] - 2s 45us/step - loss: 0.3434 - mean_squared_error: 0.1518 - val_loss: 0.3518 - val_mean_squared_error: 0.1614\n",
            "Epoch 25/150\n",
            "35121/35121 [==============================] - 2s 44us/step - loss: 0.3429 - mean_squared_error: 0.1515 - val_loss: 0.3574 - val_mean_squared_error: 0.1653\n",
            "Epoch 26/150\n",
            "35121/35121 [==============================] - 2s 45us/step - loss: 0.3432 - mean_squared_error: 0.1517 - val_loss: 0.3537 - val_mean_squared_error: 0.1626\n",
            "Epoch 27/150\n",
            "35121/35121 [==============================] - 2s 46us/step - loss: 0.3426 - mean_squared_error: 0.1518 - val_loss: 0.3558 - val_mean_squared_error: 0.1639\n",
            "Epoch 28/150\n",
            "35121/35121 [==============================] - 2s 47us/step - loss: 0.3429 - mean_squared_error: 0.1519 - val_loss: 0.3530 - val_mean_squared_error: 0.1632\n",
            "Epoch 29/150\n",
            "35121/35121 [==============================] - 2s 45us/step - loss: 0.3430 - mean_squared_error: 0.1517 - val_loss: 0.3541 - val_mean_squared_error: 0.1621\n",
            "Epoch 30/150\n",
            "35121/35121 [==============================] - 2s 46us/step - loss: 0.3430 - mean_squared_error: 0.1520 - val_loss: 0.3538 - val_mean_squared_error: 0.1625\n",
            "Epoch 31/150\n",
            "35121/35121 [==============================] - 2s 46us/step - loss: 0.3429 - mean_squared_error: 0.1518 - val_loss: 0.3586 - val_mean_squared_error: 0.1671\n",
            "Epoch 32/150\n",
            "35121/35121 [==============================] - 2s 45us/step - loss: 0.3433 - mean_squared_error: 0.1524 - val_loss: 0.3542 - val_mean_squared_error: 0.1624\n",
            "Epoch 33/150\n",
            "35121/35121 [==============================] - 2s 45us/step - loss: 0.3424 - mean_squared_error: 0.1518 - val_loss: 0.3647 - val_mean_squared_error: 0.1695\n",
            "Epoch 34/150\n",
            "35121/35121 [==============================] - 2s 46us/step - loss: 0.3431 - mean_squared_error: 0.1519 - val_loss: 0.3536 - val_mean_squared_error: 0.1623\n",
            "Epoch 35/150\n",
            "35121/35121 [==============================] - 2s 45us/step - loss: 0.3415 - mean_squared_error: 0.1514 - val_loss: 0.3526 - val_mean_squared_error: 0.1621\n",
            "Epoch 36/150\n",
            "35121/35121 [==============================] - 2s 45us/step - loss: 0.3414 - mean_squared_error: 0.1518 - val_loss: 0.3520 - val_mean_squared_error: 0.1633\n",
            "Epoch 37/150\n",
            "35121/35121 [==============================] - 2s 46us/step - loss: 0.3416 - mean_squared_error: 0.1516 - val_loss: 0.3552 - val_mean_squared_error: 0.1636\n",
            "Epoch 38/150\n",
            "35121/35121 [==============================] - 2s 46us/step - loss: 0.3415 - mean_squared_error: 0.1516 - val_loss: 0.3542 - val_mean_squared_error: 0.1634\n",
            "Epoch 39/150\n",
            "35121/35121 [==============================] - 2s 45us/step - loss: 0.3411 - mean_squared_error: 0.1517 - val_loss: 0.3498 - val_mean_squared_error: 0.1607\n",
            "Epoch 40/150\n",
            "35121/35121 [==============================] - 2s 46us/step - loss: 0.3413 - mean_squared_error: 0.1517 - val_loss: 0.3512 - val_mean_squared_error: 0.1617\n",
            "Epoch 41/150\n",
            "35121/35121 [==============================] - 2s 50us/step - loss: 0.3412 - mean_squared_error: 0.1519 - val_loss: 0.3556 - val_mean_squared_error: 0.1654\n",
            "Epoch 42/150\n",
            "35121/35121 [==============================] - 2s 50us/step - loss: 0.3410 - mean_squared_error: 0.1519 - val_loss: 0.3530 - val_mean_squared_error: 0.1634\n",
            "Epoch 43/150\n",
            "35121/35121 [==============================] - 2s 50us/step - loss: 0.3406 - mean_squared_error: 0.1517 - val_loss: 0.3519 - val_mean_squared_error: 0.1639\n",
            "Epoch 44/150\n",
            "35121/35121 [==============================] - 2s 46us/step - loss: 0.3402 - mean_squared_error: 0.1517 - val_loss: 0.3518 - val_mean_squared_error: 0.1630\n",
            "Epoch 45/150\n",
            "35121/35121 [==============================] - 2s 45us/step - loss: 0.3405 - mean_squared_error: 0.1517 - val_loss: 0.3509 - val_mean_squared_error: 0.1628\n",
            "Epoch 46/150\n",
            "35121/35121 [==============================] - 2s 46us/step - loss: 0.3397 - mean_squared_error: 0.1517 - val_loss: 0.3509 - val_mean_squared_error: 0.1626\n",
            "Epoch 47/150\n",
            "35121/35121 [==============================] - 2s 46us/step - loss: 0.3393 - mean_squared_error: 0.1518 - val_loss: 0.3511 - val_mean_squared_error: 0.1636\n",
            "Epoch 48/150\n",
            "35121/35121 [==============================] - 2s 45us/step - loss: 0.3382 - mean_squared_error: 0.1511 - val_loss: 0.3492 - val_mean_squared_error: 0.1620\n",
            "Epoch 49/150\n",
            "35121/35121 [==============================] - 2s 45us/step - loss: 0.3388 - mean_squared_error: 0.1513 - val_loss: 0.3507 - val_mean_squared_error: 0.1635\n",
            "Epoch 50/150\n",
            "35121/35121 [==============================] - 2s 45us/step - loss: 0.3382 - mean_squared_error: 0.1515 - val_loss: 0.3481 - val_mean_squared_error: 0.1611\n",
            "Epoch 51/150\n",
            "35121/35121 [==============================] - 2s 45us/step - loss: 0.3375 - mean_squared_error: 0.1511 - val_loss: 0.3506 - val_mean_squared_error: 0.1630\n",
            "Epoch 52/150\n",
            "35121/35121 [==============================] - 2s 45us/step - loss: 0.3378 - mean_squared_error: 0.1513 - val_loss: 0.3468 - val_mean_squared_error: 0.1607\n",
            "Epoch 53/150\n",
            "35121/35121 [==============================] - 2s 46us/step - loss: 0.3368 - mean_squared_error: 0.1509 - val_loss: 0.3498 - val_mean_squared_error: 0.1640\n",
            "Epoch 54/150\n",
            "35121/35121 [==============================] - 2s 45us/step - loss: 0.3360 - mean_squared_error: 0.1509 - val_loss: 0.3460 - val_mean_squared_error: 0.1610\n",
            "Epoch 55/150\n",
            "35121/35121 [==============================] - 2s 45us/step - loss: 0.3368 - mean_squared_error: 0.1517 - val_loss: 0.3474 - val_mean_squared_error: 0.1620\n",
            "Epoch 56/150\n",
            "35121/35121 [==============================] - 2s 45us/step - loss: 0.3364 - mean_squared_error: 0.1516 - val_loss: 0.3477 - val_mean_squared_error: 0.1622\n",
            "Epoch 57/150\n",
            "35121/35121 [==============================] - 2s 45us/step - loss: 0.3356 - mean_squared_error: 0.1513 - val_loss: 0.3471 - val_mean_squared_error: 0.1626\n",
            "Epoch 58/150\n",
            "35121/35121 [==============================] - 2s 46us/step - loss: 0.3349 - mean_squared_error: 0.1510 - val_loss: 0.3442 - val_mean_squared_error: 0.1606\n",
            "Epoch 59/150\n",
            "35121/35121 [==============================] - 2s 46us/step - loss: 0.3344 - mean_squared_error: 0.1506 - val_loss: 0.3458 - val_mean_squared_error: 0.1615\n",
            "Epoch 60/150\n",
            "35121/35121 [==============================] - 2s 46us/step - loss: 0.3350 - mean_squared_error: 0.1512 - val_loss: 0.3469 - val_mean_squared_error: 0.1623\n",
            "Epoch 61/150\n",
            "35121/35121 [==============================] - 2s 45us/step - loss: 0.3353 - mean_squared_error: 0.1511 - val_loss: 0.3444 - val_mean_squared_error: 0.1609\n",
            "Epoch 62/150\n",
            "35121/35121 [==============================] - 2s 45us/step - loss: 0.3338 - mean_squared_error: 0.1506 - val_loss: 0.3436 - val_mean_squared_error: 0.1605\n",
            "Epoch 63/150\n",
            "35121/35121 [==============================] - 2s 45us/step - loss: 0.3344 - mean_squared_error: 0.1512 - val_loss: 0.3469 - val_mean_squared_error: 0.1635\n",
            "Epoch 64/150\n",
            "35121/35121 [==============================] - 2s 45us/step - loss: 0.3345 - mean_squared_error: 0.1513 - val_loss: 0.3478 - val_mean_squared_error: 0.1645\n",
            "Epoch 65/150\n",
            "35121/35121 [==============================] - 2s 46us/step - loss: 0.3340 - mean_squared_error: 0.1512 - val_loss: 0.3416 - val_mean_squared_error: 0.1597\n",
            "Epoch 66/150\n",
            "35121/35121 [==============================] - 2s 45us/step - loss: 0.3335 - mean_squared_error: 0.1506 - val_loss: 0.3438 - val_mean_squared_error: 0.1617\n",
            "Epoch 67/150\n",
            "35121/35121 [==============================] - 2s 45us/step - loss: 0.3331 - mean_squared_error: 0.1511 - val_loss: 0.3449 - val_mean_squared_error: 0.1624\n",
            "Epoch 68/150\n",
            "35121/35121 [==============================] - 2s 45us/step - loss: 0.3322 - mean_squared_error: 0.1507 - val_loss: 0.3422 - val_mean_squared_error: 0.1604\n",
            "Epoch 69/150\n",
            "35121/35121 [==============================] - 2s 45us/step - loss: 0.3326 - mean_squared_error: 0.1513 - val_loss: 0.3418 - val_mean_squared_error: 0.1613\n",
            "Epoch 70/150\n",
            "35121/35121 [==============================] - 2s 45us/step - loss: 0.3322 - mean_squared_error: 0.1513 - val_loss: 0.3412 - val_mean_squared_error: 0.1606\n",
            "Epoch 71/150\n",
            "35121/35121 [==============================] - 2s 46us/step - loss: 0.3304 - mean_squared_error: 0.1502 - val_loss: 0.3438 - val_mean_squared_error: 0.1639\n",
            "Epoch 72/150\n",
            "35121/35121 [==============================] - 2s 46us/step - loss: 0.3317 - mean_squared_error: 0.1508 - val_loss: 0.3393 - val_mean_squared_error: 0.1598\n",
            "Epoch 73/150\n",
            "35121/35121 [==============================] - 2s 45us/step - loss: 0.3306 - mean_squared_error: 0.1505 - val_loss: 0.3474 - val_mean_squared_error: 0.1672\n",
            "Epoch 74/150\n",
            "35121/35121 [==============================] - 2s 45us/step - loss: 0.3335 - mean_squared_error: 0.1523 - val_loss: 0.3476 - val_mean_squared_error: 0.1650\n",
            "Epoch 75/150\n",
            "35121/35121 [==============================] - 2s 46us/step - loss: 0.3317 - mean_squared_error: 0.1507 - val_loss: 0.3397 - val_mean_squared_error: 0.1600\n",
            "Epoch 76/150\n",
            "35121/35121 [==============================] - 2s 45us/step - loss: 0.3304 - mean_squared_error: 0.1503 - val_loss: 0.3404 - val_mean_squared_error: 0.1605\n",
            "Epoch 77/150\n",
            "35121/35121 [==============================] - 2s 47us/step - loss: 0.3313 - mean_squared_error: 0.1508 - val_loss: 0.3406 - val_mean_squared_error: 0.1593\n",
            "Epoch 78/150\n",
            "35121/35121 [==============================] - 2s 47us/step - loss: 0.3303 - mean_squared_error: 0.1503 - val_loss: 0.3469 - val_mean_squared_error: 0.1648\n",
            "Epoch 79/150\n",
            "35121/35121 [==============================] - 2s 47us/step - loss: 0.3313 - mean_squared_error: 0.1507 - val_loss: 0.3428 - val_mean_squared_error: 0.1622\n",
            "Epoch 80/150\n",
            "35121/35121 [==============================] - 2s 45us/step - loss: 0.3300 - mean_squared_error: 0.1500 - val_loss: 0.3406 - val_mean_squared_error: 0.1606\n",
            "Epoch 81/150\n",
            "35121/35121 [==============================] - 2s 44us/step - loss: 0.3302 - mean_squared_error: 0.1500 - val_loss: 0.3404 - val_mean_squared_error: 0.1606\n",
            "Epoch 82/150\n",
            "35121/35121 [==============================] - 2s 45us/step - loss: 0.3306 - mean_squared_error: 0.1500 - val_loss: 0.3438 - val_mean_squared_error: 0.1626\n",
            "Epoch 83/150\n",
            "35121/35121 [==============================] - 2s 45us/step - loss: 0.3310 - mean_squared_error: 0.1505 - val_loss: 0.3424 - val_mean_squared_error: 0.1621\n",
            "Epoch 84/150\n",
            "35121/35121 [==============================] - 2s 47us/step - loss: 0.3310 - mean_squared_error: 0.1506 - val_loss: 0.3433 - val_mean_squared_error: 0.1635\n",
            "Epoch 85/150\n",
            "35121/35121 [==============================] - 2s 45us/step - loss: 0.3301 - mean_squared_error: 0.1502 - val_loss: 0.3443 - val_mean_squared_error: 0.1633\n",
            "Epoch 86/150\n",
            "35121/35121 [==============================] - 2s 45us/step - loss: 0.3305 - mean_squared_error: 0.1505 - val_loss: 0.3405 - val_mean_squared_error: 0.1609\n",
            "Epoch 87/150\n",
            "35121/35121 [==============================] - 2s 45us/step - loss: 0.3300 - mean_squared_error: 0.1499 - val_loss: 0.3389 - val_mean_squared_error: 0.1593\n",
            "Epoch 88/150\n",
            "35121/35121 [==============================] - 2s 44us/step - loss: 0.3292 - mean_squared_error: 0.1498 - val_loss: 0.3400 - val_mean_squared_error: 0.1608\n",
            "Epoch 89/150\n",
            "35121/35121 [==============================] - 2s 45us/step - loss: 0.3297 - mean_squared_error: 0.1503 - val_loss: 0.3395 - val_mean_squared_error: 0.1609\n",
            "Epoch 90/150\n",
            "35121/35121 [==============================] - 2s 46us/step - loss: 0.3296 - mean_squared_error: 0.1502 - val_loss: 0.3396 - val_mean_squared_error: 0.1603\n",
            "Epoch 91/150\n",
            "35121/35121 [==============================] - 2s 46us/step - loss: 0.3288 - mean_squared_error: 0.1499 - val_loss: 0.3404 - val_mean_squared_error: 0.1607\n",
            "Epoch 92/150\n",
            "35121/35121 [==============================] - 2s 45us/step - loss: 0.3291 - mean_squared_error: 0.1499 - val_loss: 0.3418 - val_mean_squared_error: 0.1615\n",
            "Epoch 93/150\n",
            "35121/35121 [==============================] - 2s 45us/step - loss: 0.3293 - mean_squared_error: 0.1501 - val_loss: 0.3399 - val_mean_squared_error: 0.1609\n",
            "Epoch 94/150\n",
            "35121/35121 [==============================] - 2s 46us/step - loss: 0.3294 - mean_squared_error: 0.1502 - val_loss: 0.3411 - val_mean_squared_error: 0.1616\n",
            "Epoch 95/150\n",
            "35121/35121 [==============================] - 2s 47us/step - loss: 0.3289 - mean_squared_error: 0.1498 - val_loss: 0.3383 - val_mean_squared_error: 0.1596\n",
            "Epoch 96/150\n",
            "35121/35121 [==============================] - 2s 46us/step - loss: 0.3293 - mean_squared_error: 0.1501 - val_loss: 0.3411 - val_mean_squared_error: 0.1613\n",
            "Epoch 97/150\n",
            "35121/35121 [==============================] - 2s 46us/step - loss: 0.3292 - mean_squared_error: 0.1499 - val_loss: 0.3432 - val_mean_squared_error: 0.1639\n",
            "Epoch 98/150\n",
            "35121/35121 [==============================] - 2s 52us/step - loss: 0.3291 - mean_squared_error: 0.1501 - val_loss: 0.3400 - val_mean_squared_error: 0.1613\n",
            "Epoch 99/150\n",
            "35121/35121 [==============================] - 2s 49us/step - loss: 0.3288 - mean_squared_error: 0.1500 - val_loss: 0.3405 - val_mean_squared_error: 0.1620\n",
            "Epoch 100/150\n",
            "35121/35121 [==============================] - 2s 44us/step - loss: 0.3302 - mean_squared_error: 0.1509 - val_loss: 0.3420 - val_mean_squared_error: 0.1625\n",
            "Epoch 101/150\n",
            "35121/35121 [==============================] - 2s 45us/step - loss: 0.3286 - mean_squared_error: 0.1498 - val_loss: 0.3392 - val_mean_squared_error: 0.1605\n",
            "Epoch 102/150\n",
            "35121/35121 [==============================] - 2s 46us/step - loss: 0.3291 - mean_squared_error: 0.1505 - val_loss: 0.3380 - val_mean_squared_error: 0.1596\n",
            "Epoch 103/150\n",
            "35121/35121 [==============================] - 2s 46us/step - loss: 0.3283 - mean_squared_error: 0.1500 - val_loss: 0.3390 - val_mean_squared_error: 0.1604\n",
            "Epoch 104/150\n",
            "35121/35121 [==============================] - 2s 45us/step - loss: 0.3284 - mean_squared_error: 0.1498 - val_loss: 0.3395 - val_mean_squared_error: 0.1609\n",
            "Epoch 105/150\n",
            "35121/35121 [==============================] - 2s 45us/step - loss: 0.3288 - mean_squared_error: 0.1503 - val_loss: 0.3402 - val_mean_squared_error: 0.1618\n",
            "Epoch 106/150\n",
            "35121/35121 [==============================] - 2s 45us/step - loss: 0.3289 - mean_squared_error: 0.1504 - val_loss: 0.3412 - val_mean_squared_error: 0.1625\n",
            "Epoch 107/150\n",
            "35121/35121 [==============================] - 2s 45us/step - loss: 0.3287 - mean_squared_error: 0.1500 - val_loss: 0.3404 - val_mean_squared_error: 0.1617\n",
            "Epoch 108/150\n",
            "35121/35121 [==============================] - 2s 45us/step - loss: 0.3281 - mean_squared_error: 0.1498 - val_loss: 0.3394 - val_mean_squared_error: 0.1607\n",
            "Epoch 109/150\n",
            "35121/35121 [==============================] - 2s 47us/step - loss: 0.3282 - mean_squared_error: 0.1498 - val_loss: 0.3418 - val_mean_squared_error: 0.1640\n",
            "Epoch 110/150\n",
            "35121/35121 [==============================] - 2s 45us/step - loss: 0.3287 - mean_squared_error: 0.1504 - val_loss: 0.3378 - val_mean_squared_error: 0.1598\n",
            "Epoch 111/150\n",
            "35121/35121 [==============================] - 2s 46us/step - loss: 0.3280 - mean_squared_error: 0.1499 - val_loss: 0.3380 - val_mean_squared_error: 0.1600\n",
            "Epoch 112/150\n",
            "35121/35121 [==============================] - 2s 45us/step - loss: 0.3274 - mean_squared_error: 0.1495 - val_loss: 0.3393 - val_mean_squared_error: 0.1610\n",
            "Epoch 113/150\n",
            "35121/35121 [==============================] - 2s 45us/step - loss: 0.3280 - mean_squared_error: 0.1502 - val_loss: 0.3384 - val_mean_squared_error: 0.1605\n",
            "Epoch 114/150\n",
            "35121/35121 [==============================] - 2s 45us/step - loss: 0.3276 - mean_squared_error: 0.1497 - val_loss: 0.3393 - val_mean_squared_error: 0.1619\n",
            "Epoch 115/150\n",
            "35121/35121 [==============================] - 2s 47us/step - loss: 0.3275 - mean_squared_error: 0.1499 - val_loss: 0.3404 - val_mean_squared_error: 0.1629\n",
            "Epoch 116/150\n",
            "35121/35121 [==============================] - 2s 46us/step - loss: 0.3275 - mean_squared_error: 0.1499 - val_loss: 0.3388 - val_mean_squared_error: 0.1616\n",
            "Epoch 117/150\n",
            "35121/35121 [==============================] - 2s 47us/step - loss: 0.3276 - mean_squared_error: 0.1499 - val_loss: 0.3389 - val_mean_squared_error: 0.1604\n",
            "Epoch 118/150\n",
            "35121/35121 [==============================] - 2s 45us/step - loss: 0.3273 - mean_squared_error: 0.1498 - val_loss: 0.3386 - val_mean_squared_error: 0.1612\n",
            "Epoch 119/150\n",
            "35121/35121 [==============================] - 2s 45us/step - loss: 0.3275 - mean_squared_error: 0.1499 - val_loss: 0.3384 - val_mean_squared_error: 0.1607\n",
            "Epoch 120/150\n",
            "35121/35121 [==============================] - 2s 45us/step - loss: 0.3274 - mean_squared_error: 0.1498 - val_loss: 0.3366 - val_mean_squared_error: 0.1590\n",
            "Epoch 121/150\n",
            "35121/35121 [==============================] - 2s 47us/step - loss: 0.3276 - mean_squared_error: 0.1502 - val_loss: 0.3388 - val_mean_squared_error: 0.1614\n",
            "Epoch 122/150\n",
            "35121/35121 [==============================] - 2s 46us/step - loss: 0.3273 - mean_squared_error: 0.1499 - val_loss: 0.3389 - val_mean_squared_error: 0.1613\n",
            "Epoch 123/150\n",
            "35121/35121 [==============================] - 2s 45us/step - loss: 0.3272 - mean_squared_error: 0.1499 - val_loss: 0.3386 - val_mean_squared_error: 0.1612\n",
            "Epoch 124/150\n",
            "35121/35121 [==============================] - 2s 45us/step - loss: 0.3281 - mean_squared_error: 0.1503 - val_loss: 0.3397 - val_mean_squared_error: 0.1625\n",
            "Epoch 125/150\n",
            "35121/35121 [==============================] - 2s 45us/step - loss: 0.3273 - mean_squared_error: 0.1499 - val_loss: 0.3391 - val_mean_squared_error: 0.1611\n",
            "Epoch 126/150\n",
            "35121/35121 [==============================] - 2s 45us/step - loss: 0.3278 - mean_squared_error: 0.1502 - val_loss: 0.3375 - val_mean_squared_error: 0.1594\n",
            "Epoch 127/150\n",
            "35121/35121 [==============================] - 2s 45us/step - loss: 0.3275 - mean_squared_error: 0.1499 - val_loss: 0.3387 - val_mean_squared_error: 0.1611\n",
            "Epoch 128/150\n",
            "35121/35121 [==============================] - 2s 45us/step - loss: 0.3269 - mean_squared_error: 0.1497 - val_loss: 0.3390 - val_mean_squared_error: 0.1616\n",
            "Epoch 129/150\n",
            "35121/35121 [==============================] - 2s 44us/step - loss: 0.3273 - mean_squared_error: 0.1500 - val_loss: 0.3389 - val_mean_squared_error: 0.1615\n",
            "Epoch 130/150\n",
            "35121/35121 [==============================] - 2s 46us/step - loss: 0.3275 - mean_squared_error: 0.1504 - val_loss: 0.3383 - val_mean_squared_error: 0.1603\n",
            "Epoch 131/150\n",
            "35121/35121 [==============================] - 2s 46us/step - loss: 0.3281 - mean_squared_error: 0.1506 - val_loss: 0.3400 - val_mean_squared_error: 0.1626\n",
            "Epoch 132/150\n",
            "35121/35121 [==============================] - 2s 46us/step - loss: 0.3270 - mean_squared_error: 0.1500 - val_loss: 0.3392 - val_mean_squared_error: 0.1621\n",
            "Epoch 133/150\n",
            "35121/35121 [==============================] - 2s 46us/step - loss: 0.3272 - mean_squared_error: 0.1502 - val_loss: 0.3389 - val_mean_squared_error: 0.1619\n",
            "Epoch 134/150\n",
            "35121/35121 [==============================] - 2s 46us/step - loss: 0.3268 - mean_squared_error: 0.1498 - val_loss: 0.3377 - val_mean_squared_error: 0.1609\n",
            "Epoch 135/150\n",
            "35121/35121 [==============================] - 2s 45us/step - loss: 0.3276 - mean_squared_error: 0.1505 - val_loss: 0.3372 - val_mean_squared_error: 0.1601\n",
            "Epoch 136/150\n",
            "35121/35121 [==============================] - 2s 46us/step - loss: 0.3269 - mean_squared_error: 0.1499 - val_loss: 0.3374 - val_mean_squared_error: 0.1607\n",
            "Epoch 137/150\n",
            "35121/35121 [==============================] - 2s 46us/step - loss: 0.3271 - mean_squared_error: 0.1503 - val_loss: 0.3381 - val_mean_squared_error: 0.1607\n",
            "Epoch 138/150\n",
            "35121/35121 [==============================] - 2s 45us/step - loss: 0.3273 - mean_squared_error: 0.1501 - val_loss: 0.3365 - val_mean_squared_error: 0.1597\n",
            "Epoch 139/150\n",
            "35121/35121 [==============================] - 2s 45us/step - loss: 0.3272 - mean_squared_error: 0.1503 - val_loss: 0.3392 - val_mean_squared_error: 0.1621\n",
            "Epoch 140/150\n",
            "35121/35121 [==============================] - 2s 46us/step - loss: 0.3273 - mean_squared_error: 0.1502 - val_loss: 0.3391 - val_mean_squared_error: 0.1621\n",
            "Epoch 141/150\n",
            "35121/35121 [==============================] - 2s 45us/step - loss: 0.3271 - mean_squared_error: 0.1500 - val_loss: 0.3379 - val_mean_squared_error: 0.1614\n",
            "Epoch 142/150\n",
            "35121/35121 [==============================] - 2s 46us/step - loss: 0.3277 - mean_squared_error: 0.1507 - val_loss: 0.3388 - val_mean_squared_error: 0.1611\n",
            "Epoch 143/150\n",
            "35121/35121 [==============================] - 2s 46us/step - loss: 0.3274 - mean_squared_error: 0.1503 - val_loss: 0.3388 - val_mean_squared_error: 0.1615\n",
            "Epoch 144/150\n",
            "35121/35121 [==============================] - 2s 45us/step - loss: 0.3264 - mean_squared_error: 0.1495 - val_loss: 0.3370 - val_mean_squared_error: 0.1605\n",
            "Epoch 145/150\n",
            "35121/35121 [==============================] - 2s 45us/step - loss: 0.3268 - mean_squared_error: 0.1501 - val_loss: 0.3393 - val_mean_squared_error: 0.1624\n",
            "Epoch 146/150\n",
            "35121/35121 [==============================] - 2s 47us/step - loss: 0.3272 - mean_squared_error: 0.1503 - val_loss: 0.3383 - val_mean_squared_error: 0.1615\n",
            "Epoch 147/150\n",
            "35121/35121 [==============================] - 2s 49us/step - loss: 0.3272 - mean_squared_error: 0.1502 - val_loss: 0.3398 - val_mean_squared_error: 0.1631\n",
            "Epoch 148/150\n",
            "35121/35121 [==============================] - 2s 50us/step - loss: 0.3270 - mean_squared_error: 0.1501 - val_loss: 0.3376 - val_mean_squared_error: 0.1603\n",
            "Epoch 149/150\n",
            "35121/35121 [==============================] - 2s 50us/step - loss: 0.3269 - mean_squared_error: 0.1499 - val_loss: 0.3416 - val_mean_squared_error: 0.1644\n",
            "Epoch 150/150\n",
            "35121/35121 [==============================] - 2s 49us/step - loss: 0.3272 - mean_squared_error: 0.1503 - val_loss: 0.3380 - val_mean_squared_error: 0.1609\n",
            "Time taken to run: 4.0 minutes\n"
          ],
          "name": "stdout"
        }
      ]
    },
    {
      "cell_type": "code",
      "metadata": {
        "id": "sFkhXUHNDGLL",
        "colab_type": "code",
        "outputId": "649bd58a-6f2e-41c3-e5ff-8c60855bcf57",
        "colab": {
          "base_uri": "https://localhost:8080/",
          "height": 667
        }
      },
      "source": [
        "# Evaluating the model\n",
        "nn_model_evaluation(nn2, skip_epochs=2)"
      ],
      "execution_count": 0,
      "outputs": [
        {
          "output_type": "stream",
          "text": [
            "Training MSE: 0.1493\n",
            "Validation MSE: 0.1438\n",
            "\n",
            "Training r2: 0.6438\n",
            "Validation r2: 0.6508\n"
          ],
          "name": "stdout"
        },
        {
          "output_type": "display_data",
          "data": {
            "image/png": "[encoded data removed]",
            "text/plain": [
              "<Figure size 432x288 with 1 Axes>"
            ]
          },
          "metadata": {
            "tags": []
          }
        },
        {
          "output_type": "display_data",
          "data": {
            "image/png": "[encoded data removed]",
            "text/plain": [
              "<Figure size 864x288 with 2 Axes>"
            ]
          },
          "metadata": {
            "tags": []
          }
        }
      ]
    },
    {
      "cell_type": "markdown",
      "metadata": {
        "id": "Ybc8Fuc0S6pR",
        "colab_type": "text"
      },
      "source": [
        "## Fourth model\n"
      ]
    },
    {
      "cell_type": "code",
      "metadata": {
        "id": "MXAXGIJyGGYN",
        "colab_type": "code",
        "colab": {}
      },
      "source": [
        "all_review = list(X_train.columns[X_train.columns.str.startswith(\"review_scores\")])\n",
        "review_to_keep = list(X_train.columns[X_train.columns.str.startswith(\"review_scores_rating\")])\n",
        "review_to_drop = [x for x in all_review if x not in review_to_keep]\n",
        "\n",
        "X_train_short = X_train.drop(review_to_drop, axis=1)\n",
        "X_test_short = X_test.drop(review_to_drop, axis=1)"
      ],
      "execution_count": 0,
      "outputs": []
    },
    {
      "cell_type": "code",
      "metadata": {
        "id": "prNNg8_mGTNU",
        "colab_type": "code",
        "outputId": "2828962f-8ff9-4542-f431-ab53156edbc1",
        "colab": {
          "base_uri": "https://localhost:8080/",
          "height": 1000
        }
      },
      "source": [
        "# Building the model\n",
        "nn3 = models.Sequential()\n",
        "nn3.add(layers.Dense(128, input_shape=(X_train_short.shape[1],), kernel_regularizer=regularizers.l1(0.005), activation='relu'))\n",
        "nn3.add(layers.Dense(256, kernel_regularizer=regularizers.l1(0.005), activation='relu'))\n",
        "nn3.add(layers.Dense(256, kernel_regularizer=regularizers.l1(0.005), activation='relu'))\n",
        "nn3.add(layers.Dense(512, kernel_regularizer=regularizers.l1(0.005), activation='relu'))\n",
        "nn3.add(layers.Dense(1, activation='linear'))\n",
        "\n",
        "\n",
        "# Compiling the model\n",
        "nn3.compile(loss='mean_squared_error',\n",
        "            optimizer='adam',\n",
        "            metrics=['mean_squared_error'])\n",
        "\n",
        "# Model summary\n",
        "print(nn3.summary())\n",
        "\n",
        "# Visualising the neural network\n",
        "SVG(model_to_dot(nn3, show_layer_names=False, show_shapes=True).create(prog='dot', format='svg'))"
      ],
      "execution_count": 0,
      "outputs": [
        {
          "output_type": "stream",
          "text": [
            "Model: \"sequential_3\"\n",
            "_________________________________________________________________\n",
            "Layer (type)                 Output Shape              Param #   \n",
            "=================================================================\n",
            "dense_10 (Dense)             (None, 128)               35968     \n",
            "_________________________________________________________________\n",
            "dense_11 (Dense)             (None, 256)               33024     \n",
            "_________________________________________________________________\n",
            "dense_12 (Dense)             (None, 256)               65792     \n",
            "_________________________________________________________________\n",
            "dense_13 (Dense)             (None, 512)               131584    \n",
            "_________________________________________________________________\n",
            "dense_14 (Dense)             (None, 1)                 513       \n",
            "=================================================================\n",
            "Total params: 266,881\n",
            "Trainable params: 266,881\n",
            "Non-trainable params: 0\n",
            "_________________________________________________________________\n",
            "None\n"
          ],
          "name": "stdout"
        },
        {
          "output_type": "execute_result",
          "data": {
            "text/plain": [
              "<IPython.core.display.SVG object>"
            ],
            "image/svg+xml": "<svg height=\"627pt\" viewBox=\"0.00 0.00 233.00 470.00\" width=\"311pt\" xmlns=\"http://www.w3.org/2000/svg\" xmlns:xlink=\"http://www.w3.org/1999/xlink\">\n<g class=\"graph\" id=\"graph0\" transform=\"scale(1.3333 1.3333) rotate(0) translate(4 466)\">\n<title>G</title>\n<polygon fill=\"#ffffff\" points=\"-4,4 -4,-466 229,-466 229,4 -4,4\" stroke=\"transparent\"/>\n<!-- 140128784836088 -->\n<g class=\"node\" id=\"node1\">\n<title>140128784836088</title>\n<polygon fill=\"none\" points=\"0,-415.5 0,-461.5 225,-461.5 225,-415.5 0,-415.5\" stroke=\"#000000\"/>\n<text fill=\"#000000\" font-family=\"Times,serif\" font-size=\"14.00\" text-anchor=\"middle\" x=\"40\" y=\"-434.8\">InputLayer</text>\n<polyline fill=\"none\" points=\"80,-415.5 80,-461.5 \" stroke=\"#000000\"/>\n<text fill=\"#000000\" font-family=\"Times,serif\" font-size=\"14.00\" text-anchor=\"middle\" x=\"109\" y=\"-446.3\">input:</text>\n<polyline fill=\"none\" points=\"80,-438.5 138,-438.5 \" stroke=\"#000000\"/>\n<text fill=\"#000000\" font-family=\"Times,serif\" font-size=\"14.00\" text-anchor=\"middle\" x=\"109\" y=\"-423.3\">output:</text>\n<polyline fill=\"none\" points=\"138,-415.5 138,-461.5 \" stroke=\"#000000\"/>\n<text fill=\"#000000\" font-family=\"Times,serif\" font-size=\"14.00\" text-anchor=\"middle\" x=\"181.5\" y=\"-446.3\">(None, 280)</text>\n<polyline fill=\"none\" points=\"138,-438.5 225,-438.5 \" stroke=\"#000000\"/>\n<text fill=\"#000000\" font-family=\"Times,serif\" font-size=\"14.00\" text-anchor=\"middle\" x=\"181.5\" y=\"-423.3\">(None, 280)</text>\n</g>\n<!-- 140128784836704 -->\n<g class=\"node\" id=\"node2\">\n<title>140128784836704</title>\n<polygon fill=\"none\" points=\"14,-332.5 14,-378.5 211,-378.5 211,-332.5 14,-332.5\" stroke=\"#000000\"/>\n<text fill=\"#000000\" font-family=\"Times,serif\" font-size=\"14.00\" text-anchor=\"middle\" x=\"40\" y=\"-351.8\">Dense</text>\n<polyline fill=\"none\" points=\"66,-332.5 66,-378.5 \" stroke=\"#000000\"/>\n<text fill=\"#000000\" font-family=\"Times,serif\" font-size=\"14.00\" text-anchor=\"middle\" x=\"95\" y=\"-363.3\">input:</text>\n<polyline fill=\"none\" points=\"66,-355.5 124,-355.5 \" stroke=\"#000000\"/>\n<text fill=\"#000000\" font-family=\"Times,serif\" font-size=\"14.00\" text-anchor=\"middle\" x=\"95\" y=\"-340.3\">output:</text>\n<polyline fill=\"none\" points=\"124,-332.5 124,-378.5 \" stroke=\"#000000\"/>\n<text fill=\"#000000\" font-family=\"Times,serif\" font-size=\"14.00\" text-anchor=\"middle\" x=\"167.5\" y=\"-363.3\">(None, 280)</text>\n<polyline fill=\"none\" points=\"124,-355.5 211,-355.5 \" stroke=\"#000000\"/>\n<text fill=\"#000000\" font-family=\"Times,serif\" font-size=\"14.00\" text-anchor=\"middle\" x=\"167.5\" y=\"-340.3\">(None, 128)</text>\n</g>\n<!-- 140128784836088&#45;&gt;140128784836704 -->\n<g class=\"edge\" id=\"edge1\">\n<title>140128784836088-&gt;140128784836704</title>\n<path d=\"M112.5,-415.3799C112.5,-407.1745 112.5,-397.7679 112.5,-388.8786\" fill=\"none\" stroke=\"#000000\"/>\n<polygon fill=\"#000000\" points=\"116.0001,-388.784 112.5,-378.784 109.0001,-388.784 116.0001,-388.784\" stroke=\"#000000\"/>\n</g>\n<!-- 140128785066696 -->\n<g class=\"node\" id=\"node3\">\n<title>140128785066696</title>\n<polygon fill=\"none\" points=\"14,-249.5 14,-295.5 211,-295.5 211,-249.5 14,-249.5\" stroke=\"#000000\"/>\n<text fill=\"#000000\" font-family=\"Times,serif\" font-size=\"14.00\" text-anchor=\"middle\" x=\"40\" y=\"-268.8\">Dense</text>\n<polyline fill=\"none\" points=\"66,-249.5 66,-295.5 \" stroke=\"#000000\"/>\n<text fill=\"#000000\" font-family=\"Times,serif\" font-size=\"14.00\" text-anchor=\"middle\" x=\"95\" y=\"-280.3\">input:</text>\n<polyline fill=\"none\" points=\"66,-272.5 124,-272.5 \" stroke=\"#000000\"/>\n<text fill=\"#000000\" font-family=\"Times,serif\" font-size=\"14.00\" text-anchor=\"middle\" x=\"95\" y=\"-257.3\">output:</text>\n<polyline fill=\"none\" points=\"124,-249.5 124,-295.5 \" stroke=\"#000000\"/>\n<text fill=\"#000000\" font-family=\"Times,serif\" font-size=\"14.00\" text-anchor=\"middle\" x=\"167.5\" y=\"-280.3\">(None, 128)</text>\n<polyline fill=\"none\" points=\"124,-272.5 211,-272.5 \" stroke=\"#000000\"/>\n<text fill=\"#000000\" font-family=\"Times,serif\" font-size=\"14.00\" text-anchor=\"middle\" x=\"167.5\" y=\"-257.3\">(None, 256)</text>\n</g>\n<!-- 140128784836704&#45;&gt;140128785066696 -->\n<g class=\"edge\" id=\"edge2\">\n<title>140128784836704-&gt;140128785066696</title>\n<path d=\"M112.5,-332.3799C112.5,-324.1745 112.5,-314.7679 112.5,-305.8786\" fill=\"none\" stroke=\"#000000\"/>\n<polygon fill=\"#000000\" points=\"116.0001,-305.784 112.5,-295.784 109.0001,-305.784 116.0001,-305.784\" stroke=\"#000000\"/>\n</g>\n<!-- 140128784767240 -->\n<g class=\"node\" id=\"node4\">\n<title>140128784767240</title>\n<polygon fill=\"none\" points=\"14,-166.5 14,-212.5 211,-212.5 211,-166.5 14,-166.5\" stroke=\"#000000\"/>\n<text fill=\"#000000\" font-family=\"Times,serif\" font-size=\"14.00\" text-anchor=\"middle\" x=\"40\" y=\"-185.8\">Dense</text>\n<polyline fill=\"none\" points=\"66,-166.5 66,-212.5 \" stroke=\"#000000\"/>\n<text fill=\"#000000\" font-family=\"Times,serif\" font-size=\"14.00\" text-anchor=\"middle\" x=\"95\" y=\"-197.3\">input:</text>\n<polyline fill=\"none\" points=\"66,-189.5 124,-189.5 \" stroke=\"#000000\"/>\n<text fill=\"#000000\" font-family=\"Times,serif\" font-size=\"14.00\" text-anchor=\"middle\" x=\"95\" y=\"-174.3\">output:</text>\n<polyline fill=\"none\" points=\"124,-166.5 124,-212.5 \" stroke=\"#000000\"/>\n<text fill=\"#000000\" font-family=\"Times,serif\" font-size=\"14.00\" text-anchor=\"middle\" x=\"167.5\" y=\"-197.3\">(None, 256)</text>\n<polyline fill=\"none\" points=\"124,-189.5 211,-189.5 \" stroke=\"#000000\"/>\n<text fill=\"#000000\" font-family=\"Times,serif\" font-size=\"14.00\" text-anchor=\"middle\" x=\"167.5\" y=\"-174.3\">(None, 256)</text>\n</g>\n<!-- 140128785066696&#45;&gt;140128784767240 -->\n<g class=\"edge\" id=\"edge3\">\n<title>140128785066696-&gt;140128784767240</title>\n<path d=\"M112.5,-249.3799C112.5,-241.1745 112.5,-231.7679 112.5,-222.8786\" fill=\"none\" stroke=\"#000000\"/>\n<polygon fill=\"#000000\" points=\"116.0001,-222.784 112.5,-212.784 109.0001,-222.784 116.0001,-222.784\" stroke=\"#000000\"/>\n</g>\n<!-- 140128784864088 -->\n<g class=\"node\" id=\"node5\">\n<title>140128784864088</title>\n<polygon fill=\"none\" points=\"14,-83.5 14,-129.5 211,-129.5 211,-83.5 14,-83.5\" stroke=\"#000000\"/>\n<text fill=\"#000000\" font-family=\"Times,serif\" font-size=\"14.00\" text-anchor=\"middle\" x=\"40\" y=\"-102.8\">Dense</text>\n<polyline fill=\"none\" points=\"66,-83.5 66,-129.5 \" stroke=\"#000000\"/>\n<text fill=\"#000000\" font-family=\"Times,serif\" font-size=\"14.00\" text-anchor=\"middle\" x=\"95\" y=\"-114.3\">input:</text>\n<polyline fill=\"none\" points=\"66,-106.5 124,-106.5 \" stroke=\"#000000\"/>\n<text fill=\"#000000\" font-family=\"Times,serif\" font-size=\"14.00\" text-anchor=\"middle\" x=\"95\" y=\"-91.3\">output:</text>\n<polyline fill=\"none\" points=\"124,-83.5 124,-129.5 \" stroke=\"#000000\"/>\n<text fill=\"#000000\" font-family=\"Times,serif\" font-size=\"14.00\" text-anchor=\"middle\" x=\"167.5\" y=\"-114.3\">(None, 256)</text>\n<polyline fill=\"none\" points=\"124,-106.5 211,-106.5 \" stroke=\"#000000\"/>\n<text fill=\"#000000\" font-family=\"Times,serif\" font-size=\"14.00\" text-anchor=\"middle\" x=\"167.5\" y=\"-91.3\">(None, 512)</text>\n</g>\n<!-- 140128784767240&#45;&gt;140128784864088 -->\n<g class=\"edge\" id=\"edge4\">\n<title>140128784767240-&gt;140128784864088</title>\n<path d=\"M112.5,-166.3799C112.5,-158.1745 112.5,-148.7679 112.5,-139.8786\" fill=\"none\" stroke=\"#000000\"/>\n<polygon fill=\"#000000\" points=\"116.0001,-139.784 112.5,-129.784 109.0001,-139.784 116.0001,-139.784\" stroke=\"#000000\"/>\n</g>\n<!-- 140128784864872 -->\n<g class=\"node\" id=\"node6\">\n<title>140128784864872</title>\n<polygon fill=\"none\" points=\"14,-.5 14,-46.5 211,-46.5 211,-.5 14,-.5\" stroke=\"#000000\"/>\n<text fill=\"#000000\" font-family=\"Times,serif\" font-size=\"14.00\" text-anchor=\"middle\" x=\"40\" y=\"-19.8\">Dense</text>\n<polyline fill=\"none\" points=\"66,-.5 66,-46.5 \" stroke=\"#000000\"/>\n<text fill=\"#000000\" font-family=\"Times,serif\" font-size=\"14.00\" text-anchor=\"middle\" x=\"95\" y=\"-31.3\">input:</text>\n<polyline fill=\"none\" points=\"66,-23.5 124,-23.5 \" stroke=\"#000000\"/>\n<text fill=\"#000000\" font-family=\"Times,serif\" font-size=\"14.00\" text-anchor=\"middle\" x=\"95\" y=\"-8.3\">output:</text>\n<polyline fill=\"none\" points=\"124,-.5 124,-46.5 \" stroke=\"#000000\"/>\n<text fill=\"#000000\" font-family=\"Times,serif\" font-size=\"14.00\" text-anchor=\"middle\" x=\"167.5\" y=\"-31.3\">(None, 512)</text>\n<polyline fill=\"none\" points=\"124,-23.5 211,-23.5 \" stroke=\"#000000\"/>\n<text fill=\"#000000\" font-family=\"Times,serif\" font-size=\"14.00\" text-anchor=\"middle\" x=\"167.5\" y=\"-8.3\">(None, 1)</text>\n</g>\n<!-- 140128784864088&#45;&gt;140128784864872 -->\n<g class=\"edge\" id=\"edge5\">\n<title>140128784864088-&gt;140128784864872</title>\n<path d=\"M112.5,-83.3799C112.5,-75.1745 112.5,-65.7679 112.5,-56.8786\" fill=\"none\" stroke=\"#000000\"/>\n<polygon fill=\"#000000\" points=\"116.0001,-56.784 112.5,-46.784 109.0001,-56.784 116.0001,-56.784\" stroke=\"#000000\"/>\n</g>\n</g>\n</svg>"
          },
          "metadata": {
            "tags": []
          },
          "execution_count": 112
        }
      ]
    },
    {
      "cell_type": "code",
      "metadata": {
        "id": "xT2wpEYcGUU0",
        "colab_type": "code",
        "outputId": "4ea5e761-f3da-4432-819b-5ec1c1a040c7",
        "colab": {
          "base_uri": "https://localhost:8080/",
          "height": 1000
        }
      },
      "source": [
        "# Training the model\n",
        "nn3_start = time.time()\n",
        "\n",
        "nn3_history = nn3.fit(X_train_short,\n",
        "                  y_train,\n",
        "                  epochs=50,\n",
        "                  batch_size=256,\n",
        "                  validation_split=0.1)\n",
        "\n",
        "nn3_end = time.time()\n",
        "\n",
        "print(f\"Time taken to run: {round((nn3_end - nn3_start)/60,1)} minutes\")"
      ],
      "execution_count": 0,
      "outputs": [
        {
          "output_type": "stream",
          "text": [
            "Train on 35121 samples, validate on 3903 samples\n",
            "Epoch 1/50\n",
            "35121/35121 [==============================] - 2s 58us/step - loss: 40.8961 - mean_squared_error: 1.9114 - val_loss: 20.1772 - val_mean_squared_error: 0.2517\n",
            "Epoch 2/50\n",
            "35121/35121 [==============================] - 2s 45us/step - loss: 13.0054 - mean_squared_error: 0.1908 - val_loss: 7.8494 - val_mean_squared_error: 0.1803\n",
            "Epoch 3/50\n",
            "35121/35121 [==============================] - 2s 46us/step - loss: 5.2433 - mean_squared_error: 0.1729 - val_loss: 3.3279 - val_mean_squared_error: 0.1917\n",
            "Epoch 4/50\n",
            "35121/35121 [==============================] - 2s 45us/step - loss: 2.3251 - mean_squared_error: 0.1861 - val_loss: 1.5889 - val_mean_squared_error: 0.1972\n",
            "Epoch 5/50\n",
            "35121/35121 [==============================] - 2s 45us/step - loss: 1.1805 - mean_squared_error: 0.1799 - val_loss: 0.8875 - val_mean_squared_error: 0.1838\n",
            "Epoch 6/50\n",
            "35121/35121 [==============================] - 2s 45us/step - loss: 0.7131 - mean_squared_error: 0.1657 - val_loss: 0.6021 - val_mean_squared_error: 0.1725\n",
            "Epoch 7/50\n",
            "35121/35121 [==============================] - 2s 45us/step - loss: 0.5215 - mean_squared_error: 0.1580 - val_loss: 0.4827 - val_mean_squared_error: 0.1714\n",
            "Epoch 8/50\n",
            "35121/35121 [==============================] - 2s 44us/step - loss: 0.4392 - mean_squared_error: 0.1568 - val_loss: 0.4267 - val_mean_squared_error: 0.1649\n",
            "Epoch 9/50\n",
            "35121/35121 [==============================] - 2s 45us/step - loss: 0.4013 - mean_squared_error: 0.1556 - val_loss: 0.4024 - val_mean_squared_error: 0.1675\n",
            "Epoch 10/50\n",
            "35121/35121 [==============================] - 2s 44us/step - loss: 0.3820 - mean_squared_error: 0.1555 - val_loss: 0.3849 - val_mean_squared_error: 0.1649\n",
            "Epoch 11/50\n",
            "35121/35121 [==============================] - 2s 44us/step - loss: 0.3684 - mean_squared_error: 0.1549 - val_loss: 0.3750 - val_mean_squared_error: 0.1660\n",
            "Epoch 12/50\n",
            "35121/35121 [==============================] - 2s 45us/step - loss: 0.3609 - mean_squared_error: 0.1553 - val_loss: 0.3681 - val_mean_squared_error: 0.1646\n",
            "Epoch 13/50\n",
            "35121/35121 [==============================] - 2s 44us/step - loss: 0.3550 - mean_squared_error: 0.1543 - val_loss: 0.3627 - val_mean_squared_error: 0.1646\n",
            "Epoch 14/50\n",
            "35121/35121 [==============================] - 2s 44us/step - loss: 0.3505 - mean_squared_error: 0.1543 - val_loss: 0.3573 - val_mean_squared_error: 0.1637\n",
            "Epoch 15/50\n",
            "35121/35121 [==============================] - 2s 44us/step - loss: 0.3470 - mean_squared_error: 0.1540 - val_loss: 0.3554 - val_mean_squared_error: 0.1639\n",
            "Epoch 16/50\n",
            "35121/35121 [==============================] - 2s 45us/step - loss: 0.3437 - mean_squared_error: 0.1535 - val_loss: 0.3533 - val_mean_squared_error: 0.1648\n",
            "Epoch 17/50\n",
            "35121/35121 [==============================] - 2s 45us/step - loss: 0.3411 - mean_squared_error: 0.1537 - val_loss: 0.3522 - val_mean_squared_error: 0.1631\n",
            "Epoch 18/50\n",
            "35121/35121 [==============================] - 2s 45us/step - loss: 0.3395 - mean_squared_error: 0.1535 - val_loss: 0.3493 - val_mean_squared_error: 0.1633\n",
            "Epoch 19/50\n",
            "35121/35121 [==============================] - 2s 45us/step - loss: 0.3383 - mean_squared_error: 0.1537 - val_loss: 0.3480 - val_mean_squared_error: 0.1638\n",
            "Epoch 20/50\n",
            "35121/35121 [==============================] - 2s 44us/step - loss: 0.3373 - mean_squared_error: 0.1536 - val_loss: 0.3483 - val_mean_squared_error: 0.1640\n",
            "Epoch 21/50\n",
            "35121/35121 [==============================] - 2s 44us/step - loss: 0.3363 - mean_squared_error: 0.1539 - val_loss: 0.3459 - val_mean_squared_error: 0.1631\n",
            "Epoch 22/50\n",
            "35121/35121 [==============================] - 2s 44us/step - loss: 0.3350 - mean_squared_error: 0.1533 - val_loss: 0.3443 - val_mean_squared_error: 0.1625\n",
            "Epoch 23/50\n",
            "35121/35121 [==============================] - 2s 44us/step - loss: 0.3357 - mean_squared_error: 0.1536 - val_loss: 0.3467 - val_mean_squared_error: 0.1644\n",
            "Epoch 24/50\n",
            "35121/35121 [==============================] - 2s 44us/step - loss: 0.3355 - mean_squared_error: 0.1536 - val_loss: 0.3471 - val_mean_squared_error: 0.1654\n",
            "Epoch 25/50\n",
            "35121/35121 [==============================] - 2s 46us/step - loss: 0.3338 - mean_squared_error: 0.1528 - val_loss: 0.3445 - val_mean_squared_error: 0.1637\n",
            "Epoch 26/50\n",
            "35121/35121 [==============================] - 2s 44us/step - loss: 0.3355 - mean_squared_error: 0.1535 - val_loss: 0.3460 - val_mean_squared_error: 0.1647\n",
            "Epoch 27/50\n",
            "35121/35121 [==============================] - 2s 44us/step - loss: 0.3348 - mean_squared_error: 0.1531 - val_loss: 0.3457 - val_mean_squared_error: 0.1630\n",
            "Epoch 28/50\n",
            "35121/35121 [==============================] - 2s 44us/step - loss: 0.3355 - mean_squared_error: 0.1535 - val_loss: 0.3490 - val_mean_squared_error: 0.1650\n",
            "Epoch 29/50\n",
            "35121/35121 [==============================] - 2s 44us/step - loss: 0.3357 - mean_squared_error: 0.1538 - val_loss: 0.3468 - val_mean_squared_error: 0.1649\n",
            "Epoch 30/50\n",
            "35121/35121 [==============================] - 2s 44us/step - loss: 0.3349 - mean_squared_error: 0.1531 - val_loss: 0.3437 - val_mean_squared_error: 0.1626\n",
            "Epoch 31/50\n",
            "35121/35121 [==============================] - 2s 45us/step - loss: 0.3350 - mean_squared_error: 0.1535 - val_loss: 0.3469 - val_mean_squared_error: 0.1626\n",
            "Epoch 32/50\n",
            "35121/35121 [==============================] - 2s 44us/step - loss: 0.3356 - mean_squared_error: 0.1530 - val_loss: 0.3462 - val_mean_squared_error: 0.1637\n",
            "Epoch 33/50\n",
            "35121/35121 [==============================] - 2s 45us/step - loss: 0.3347 - mean_squared_error: 0.1530 - val_loss: 0.3443 - val_mean_squared_error: 0.1633\n",
            "Epoch 34/50\n",
            "35121/35121 [==============================] - 2s 44us/step - loss: 0.3341 - mean_squared_error: 0.1529 - val_loss: 0.3455 - val_mean_squared_error: 0.1640\n",
            "Epoch 35/50\n",
            "35121/35121 [==============================] - 2s 45us/step - loss: 0.3345 - mean_squared_error: 0.1531 - val_loss: 0.3439 - val_mean_squared_error: 0.1634\n",
            "Epoch 36/50\n",
            "35121/35121 [==============================] - 2s 44us/step - loss: 0.3340 - mean_squared_error: 0.1528 - val_loss: 0.3436 - val_mean_squared_error: 0.1633\n",
            "Epoch 37/50\n",
            "35121/35121 [==============================] - 2s 44us/step - loss: 0.3352 - mean_squared_error: 0.1532 - val_loss: 0.3446 - val_mean_squared_error: 0.1645\n",
            "Epoch 38/50\n",
            "35121/35121 [==============================] - 2s 45us/step - loss: 0.3344 - mean_squared_error: 0.1533 - val_loss: 0.3453 - val_mean_squared_error: 0.1648\n",
            "Epoch 39/50\n",
            "35121/35121 [==============================] - 2s 44us/step - loss: 0.3343 - mean_squared_error: 0.1533 - val_loss: 0.3473 - val_mean_squared_error: 0.1652\n",
            "Epoch 40/50\n",
            "35121/35121 [==============================] - 2s 44us/step - loss: 0.3338 - mean_squared_error: 0.1530 - val_loss: 0.3457 - val_mean_squared_error: 0.1645\n",
            "Epoch 41/50\n",
            "35121/35121 [==============================] - 2s 44us/step - loss: 0.3334 - mean_squared_error: 0.1531 - val_loss: 0.3439 - val_mean_squared_error: 0.1641\n",
            "Epoch 42/50\n",
            "35121/35121 [==============================] - 2s 45us/step - loss: 0.3329 - mean_squared_error: 0.1530 - val_loss: 0.3433 - val_mean_squared_error: 0.1636\n",
            "Epoch 43/50\n",
            "35121/35121 [==============================] - 2s 44us/step - loss: 0.3329 - mean_squared_error: 0.1528 - val_loss: 0.3453 - val_mean_squared_error: 0.1651\n",
            "Epoch 44/50\n",
            "35121/35121 [==============================] - 2s 46us/step - loss: 0.3332 - mean_squared_error: 0.1531 - val_loss: 0.3410 - val_mean_squared_error: 0.1615\n",
            "Epoch 45/50\n",
            "35121/35121 [==============================] - 2s 45us/step - loss: 0.3339 - mean_squared_error: 0.1535 - val_loss: 0.3445 - val_mean_squared_error: 0.1635\n",
            "Epoch 46/50\n",
            "35121/35121 [==============================] - 2s 44us/step - loss: 0.3335 - mean_squared_error: 0.1532 - val_loss: 0.3441 - val_mean_squared_error: 0.1644\n",
            "Epoch 47/50\n",
            "35121/35121 [==============================] - 2s 45us/step - loss: 0.3325 - mean_squared_error: 0.1530 - val_loss: 0.3426 - val_mean_squared_error: 0.1624\n",
            "Epoch 48/50\n",
            "35121/35121 [==============================] - 2s 45us/step - loss: 0.3330 - mean_squared_error: 0.1533 - val_loss: 0.3438 - val_mean_squared_error: 0.1640\n",
            "Epoch 49/50\n",
            "35121/35121 [==============================] - 2s 45us/step - loss: 0.3330 - mean_squared_error: 0.1533 - val_loss: 0.3413 - val_mean_squared_error: 0.1624\n",
            "Epoch 50/50\n",
            "35121/35121 [==============================] - 2s 45us/step - loss: 0.3329 - mean_squared_error: 0.1535 - val_loss: 0.3409 - val_mean_squared_error: 0.1621\n",
            "Time taken to run: 1.3 minutes\n"
          ],
          "name": "stdout"
        }
      ]
    },
    {
      "cell_type": "code",
      "metadata": {
        "id": "wnG7SLlRGXYp",
        "colab_type": "code",
        "outputId": "295fa63a-cdcd-4229-e7f3-fd0aedc908e3",
        "colab": {
          "base_uri": "https://localhost:8080/",
          "height": 667
        }
      },
      "source": [
        "nn_model_evaluation(nn3, skip_epochs=2, X_train=X_train_short, X_test=X_test_short)"
      ],
      "execution_count": 0,
      "outputs": [
        {
          "output_type": "stream",
          "text": [
            "Training MSE: 0.1527\n",
            "Validation MSE: 0.1466\n",
            "\n",
            "Training r2: 0.6356\n",
            "Validation r2: 0.644\n"
          ],
          "name": "stdout"
        },
        {
          "output_type": "display_data",
          "data": {
            "image/png": "[encoded data removed]",
            "text/plain": [
              "<Figure size 432x288 with 1 Axes>"
            ]
          },
          "metadata": {
            "tags": []
          }
        },
        {
          "output_type": "display_data",
          "data": {
            "image/png": "[encoded data removed]",
            "text/plain": [
              "<Figure size 864x288 with 2 Axes>"
            ]
          },
          "metadata": {
            "tags": []
          }
        }
      ]
    },
    {
      "cell_type": "code",
      "metadata": {
        "id": "f1Q3BNMyGaKp",
        "colab_type": "code",
        "outputId": "982485f9-34f0-4a10-e475-d4d890e8faa7",
        "colab": {
          "base_uri": "https://localhost:8080/",
          "height": 1000
        }
      },
      "source": [
        "# Building the model\n",
        "nn4 = models.Sequential()\n",
        "nn4.add(layers.Dropout(0.5, input_shape=(X_train.shape[1],)))\n",
        "nn4.add(layers.Dense(128, activation='relu'))\n",
        "nn4.add(layers.Dropout(0.5))\n",
        "nn4.add(layers.Dense(256, activation='relu'))\n",
        "nn4.add(layers.Dropout(0.5))\n",
        "nn4.add(layers.Dense(512, activation='relu'))\n",
        "nn4.add(layers.Dropout(0.5))\n",
        "nn4.add(layers.Dense(1, activation='linear'))\n",
        "\n",
        "\n",
        "# Compiling the model\n",
        "nn4.compile(loss='mean_squared_error',\n",
        "            optimizer='adam',\n",
        "            metrics=['mean_squared_error'])\n",
        "\n",
        "# Model summary\n",
        "print(nn4.summary())\n",
        "\n",
        "# Visualising the neural network\n",
        "SVG(model_to_dot(nn4, show_layer_names=False, show_shapes=True).create(prog='dot', format='svg'))"
      ],
      "execution_count": 0,
      "outputs": [
        {
          "output_type": "stream",
          "text": [
            "Model: \"sequential_7\"\n",
            "_________________________________________________________________\n",
            "Layer (type)                 Output Shape              Param #   \n",
            "=================================================================\n",
            "dropout_11 (Dropout)         (None, 298)               0         \n",
            "_________________________________________________________________\n",
            "dense_29 (Dense)             (None, 128)               38272     \n",
            "_________________________________________________________________\n",
            "dropout_12 (Dropout)         (None, 128)               0         \n",
            "_________________________________________________________________\n",
            "dense_30 (Dense)             (None, 256)               33024     \n",
            "_________________________________________________________________\n",
            "dropout_13 (Dropout)         (None, 256)               0         \n",
            "_________________________________________________________________\n",
            "dense_31 (Dense)             (None, 512)               131584    \n",
            "_________________________________________________________________\n",
            "dropout_14 (Dropout)         (None, 512)               0         \n",
            "_________________________________________________________________\n",
            "dense_32 (Dense)             (None, 1)                 513       \n",
            "=================================================================\n",
            "Total params: 203,393\n",
            "Trainable params: 203,393\n",
            "Non-trainable params: 0\n",
            "_________________________________________________________________\n",
            "None\n"
          ],
          "name": "stdout"
        },
        {
          "output_type": "execute_result",
          "data": {
            "text/plain": [
              "<IPython.core.display.SVG object>"
            ],
            "image/svg+xml": "<svg height=\"959pt\" viewBox=\"0.00 0.00 233.00 719.00\" width=\"311pt\" xmlns=\"http://www.w3.org/2000/svg\" xmlns:xlink=\"http://www.w3.org/1999/xlink\">\n<g class=\"graph\" id=\"graph0\" transform=\"scale(1.3333 1.3333) rotate(0) translate(4 715)\">\n<title>G</title>\n<polygon fill=\"#ffffff\" points=\"-4,4 -4,-715 229,-715 229,4 -4,4\" stroke=\"transparent\"/>\n<!-- 140129003217472 -->\n<g class=\"node\" id=\"node1\">\n<title>140129003217472</title>\n<polygon fill=\"none\" points=\"0,-664.5 0,-710.5 225,-710.5 225,-664.5 0,-664.5\" stroke=\"#000000\"/>\n<text fill=\"#000000\" font-family=\"Times,serif\" font-size=\"14.00\" text-anchor=\"middle\" x=\"40\" y=\"-683.8\">InputLayer</text>\n<polyline fill=\"none\" points=\"80,-664.5 80,-710.5 \" stroke=\"#000000\"/>\n<text fill=\"#000000\" font-family=\"Times,serif\" font-size=\"14.00\" text-anchor=\"middle\" x=\"109\" y=\"-695.3\">input:</text>\n<polyline fill=\"none\" points=\"80,-687.5 138,-687.5 \" stroke=\"#000000\"/>\n<text fill=\"#000000\" font-family=\"Times,serif\" font-size=\"14.00\" text-anchor=\"middle\" x=\"109\" y=\"-672.3\">output:</text>\n<polyline fill=\"none\" points=\"138,-664.5 138,-710.5 \" stroke=\"#000000\"/>\n<text fill=\"#000000\" font-family=\"Times,serif\" font-size=\"14.00\" text-anchor=\"middle\" x=\"181.5\" y=\"-695.3\">(None, 298)</text>\n<polyline fill=\"none\" points=\"138,-687.5 225,-687.5 \" stroke=\"#000000\"/>\n<text fill=\"#000000\" font-family=\"Times,serif\" font-size=\"14.00\" text-anchor=\"middle\" x=\"181.5\" y=\"-672.3\">(None, 298)</text>\n</g>\n<!-- 140129003217080 -->\n<g class=\"node\" id=\"node2\">\n<title>140129003217080</title>\n<polygon fill=\"none\" points=\"7.5,-581.5 7.5,-627.5 217.5,-627.5 217.5,-581.5 7.5,-581.5\" stroke=\"#000000\"/>\n<text fill=\"#000000\" font-family=\"Times,serif\" font-size=\"14.00\" text-anchor=\"middle\" x=\"40\" y=\"-600.8\">Dropout</text>\n<polyline fill=\"none\" points=\"72.5,-581.5 72.5,-627.5 \" stroke=\"#000000\"/>\n<text fill=\"#000000\" font-family=\"Times,serif\" font-size=\"14.00\" text-anchor=\"middle\" x=\"101.5\" y=\"-612.3\">input:</text>\n<polyline fill=\"none\" points=\"72.5,-604.5 130.5,-604.5 \" stroke=\"#000000\"/>\n<text fill=\"#000000\" font-family=\"Times,serif\" font-size=\"14.00\" text-anchor=\"middle\" x=\"101.5\" y=\"-589.3\">output:</text>\n<polyline fill=\"none\" points=\"130.5,-581.5 130.5,-627.5 \" stroke=\"#000000\"/>\n<text fill=\"#000000\" font-family=\"Times,serif\" font-size=\"14.00\" text-anchor=\"middle\" x=\"174\" y=\"-612.3\">(None, 298)</text>\n<polyline fill=\"none\" points=\"130.5,-604.5 217.5,-604.5 \" stroke=\"#000000\"/>\n<text fill=\"#000000\" font-family=\"Times,serif\" font-size=\"14.00\" text-anchor=\"middle\" x=\"174\" y=\"-589.3\">(None, 298)</text>\n</g>\n<!-- 140129003217472&#45;&gt;140129003217080 -->\n<g class=\"edge\" id=\"edge1\">\n<title>140129003217472-&gt;140129003217080</title>\n<path d=\"M112.5,-664.3799C112.5,-656.1745 112.5,-646.7679 112.5,-637.8786\" fill=\"none\" stroke=\"#000000\"/>\n<polygon fill=\"#000000\" points=\"116.0001,-637.784 112.5,-627.784 109.0001,-637.784 116.0001,-637.784\" stroke=\"#000000\"/>\n</g>\n<!-- 140129003217192 -->\n<g class=\"node\" id=\"node3\">\n<title>140129003217192</title>\n<polygon fill=\"none\" points=\"14,-498.5 14,-544.5 211,-544.5 211,-498.5 14,-498.5\" stroke=\"#000000\"/>\n<text fill=\"#000000\" font-family=\"Times,serif\" font-size=\"14.00\" text-anchor=\"middle\" x=\"40\" y=\"-517.8\">Dense</text>\n<polyline fill=\"none\" points=\"66,-498.5 66,-544.5 \" stroke=\"#000000\"/>\n<text fill=\"#000000\" font-family=\"Times,serif\" font-size=\"14.00\" text-anchor=\"middle\" x=\"95\" y=\"-529.3\">input:</text>\n<polyline fill=\"none\" points=\"66,-521.5 124,-521.5 \" stroke=\"#000000\"/>\n<text fill=\"#000000\" font-family=\"Times,serif\" font-size=\"14.00\" text-anchor=\"middle\" x=\"95\" y=\"-506.3\">output:</text>\n<polyline fill=\"none\" points=\"124,-498.5 124,-544.5 \" stroke=\"#000000\"/>\n<text fill=\"#000000\" font-family=\"Times,serif\" font-size=\"14.00\" text-anchor=\"middle\" x=\"167.5\" y=\"-529.3\">(None, 298)</text>\n<polyline fill=\"none\" points=\"124,-521.5 211,-521.5 \" stroke=\"#000000\"/>\n<text fill=\"#000000\" font-family=\"Times,serif\" font-size=\"14.00\" text-anchor=\"middle\" x=\"167.5\" y=\"-506.3\">(None, 128)</text>\n</g>\n<!-- 140129003217080&#45;&gt;140129003217192 -->\n<g class=\"edge\" id=\"edge2\">\n<title>140129003217080-&gt;140129003217192</title>\n<path d=\"M112.5,-581.3799C112.5,-573.1745 112.5,-563.7679 112.5,-554.8786\" fill=\"none\" stroke=\"#000000\"/>\n<polygon fill=\"#000000\" points=\"116.0001,-554.784 112.5,-544.784 109.0001,-554.784 116.0001,-554.784\" stroke=\"#000000\"/>\n</g>\n<!-- 140129003219376 -->\n<g class=\"node\" id=\"node4\">\n<title>140129003219376</title>\n<polygon fill=\"none\" points=\"7.5,-415.5 7.5,-461.5 217.5,-461.5 217.5,-415.5 7.5,-415.5\" stroke=\"#000000\"/>\n<text fill=\"#000000\" font-family=\"Times,serif\" font-size=\"14.00\" text-anchor=\"middle\" x=\"40\" y=\"-434.8\">Dropout</text>\n<polyline fill=\"none\" points=\"72.5,-415.5 72.5,-461.5 \" stroke=\"#000000\"/>\n<text fill=\"#000000\" font-family=\"Times,serif\" font-size=\"14.00\" text-anchor=\"middle\" x=\"101.5\" y=\"-446.3\">input:</text>\n<polyline fill=\"none\" points=\"72.5,-438.5 130.5,-438.5 \" stroke=\"#000000\"/>\n<text fill=\"#000000\" font-family=\"Times,serif\" font-size=\"14.00\" text-anchor=\"middle\" x=\"101.5\" y=\"-423.3\">output:</text>\n<polyline fill=\"none\" points=\"130.5,-415.5 130.5,-461.5 \" stroke=\"#000000\"/>\n<text fill=\"#000000\" font-family=\"Times,serif\" font-size=\"14.00\" text-anchor=\"middle\" x=\"174\" y=\"-446.3\">(None, 128)</text>\n<polyline fill=\"none\" points=\"130.5,-438.5 217.5,-438.5 \" stroke=\"#000000\"/>\n<text fill=\"#000000\" font-family=\"Times,serif\" font-size=\"14.00\" text-anchor=\"middle\" x=\"174\" y=\"-423.3\">(None, 128)</text>\n</g>\n<!-- 140129003217192&#45;&gt;140129003219376 -->\n<g class=\"edge\" id=\"edge3\">\n<title>140129003217192-&gt;140129003219376</title>\n<path d=\"M112.5,-498.3799C112.5,-490.1745 112.5,-480.7679 112.5,-471.8786\" fill=\"none\" stroke=\"#000000\"/>\n<polygon fill=\"#000000\" points=\"116.0001,-471.784 112.5,-461.784 109.0001,-471.784 116.0001,-471.784\" stroke=\"#000000\"/>\n</g>\n<!-- 140128784486128 -->\n<g class=\"node\" id=\"node5\">\n<title>140128784486128</title>\n<polygon fill=\"none\" points=\"14,-332.5 14,-378.5 211,-378.5 211,-332.5 14,-332.5\" stroke=\"#000000\"/>\n<text fill=\"#000000\" font-family=\"Times,serif\" font-size=\"14.00\" text-anchor=\"middle\" x=\"40\" y=\"-351.8\">Dense</text>\n<polyline fill=\"none\" points=\"66,-332.5 66,-378.5 \" stroke=\"#000000\"/>\n<text fill=\"#000000\" font-family=\"Times,serif\" font-size=\"14.00\" text-anchor=\"middle\" x=\"95\" y=\"-363.3\">input:</text>\n<polyline fill=\"none\" points=\"66,-355.5 124,-355.5 \" stroke=\"#000000\"/>\n<text fill=\"#000000\" font-family=\"Times,serif\" font-size=\"14.00\" text-anchor=\"middle\" x=\"95\" y=\"-340.3\">output:</text>\n<polyline fill=\"none\" points=\"124,-332.5 124,-378.5 \" stroke=\"#000000\"/>\n<text fill=\"#000000\" font-family=\"Times,serif\" font-size=\"14.00\" text-anchor=\"middle\" x=\"167.5\" y=\"-363.3\">(None, 128)</text>\n<polyline fill=\"none\" points=\"124,-355.5 211,-355.5 \" stroke=\"#000000\"/>\n<text fill=\"#000000\" font-family=\"Times,serif\" font-size=\"14.00\" text-anchor=\"middle\" x=\"167.5\" y=\"-340.3\">(None, 256)</text>\n</g>\n<!-- 140129003219376&#45;&gt;140128784486128 -->\n<g class=\"edge\" id=\"edge4\">\n<title>140129003219376-&gt;140128784486128</title>\n<path d=\"M112.5,-415.3799C112.5,-407.1745 112.5,-397.7679 112.5,-388.8786\" fill=\"none\" stroke=\"#000000\"/>\n<polygon fill=\"#000000\" points=\"116.0001,-388.784 112.5,-378.784 109.0001,-388.784 116.0001,-388.784\" stroke=\"#000000\"/>\n</g>\n<!-- 140128978836840 -->\n<g class=\"node\" id=\"node6\">\n<title>140128978836840</title>\n<polygon fill=\"none\" points=\"7.5,-249.5 7.5,-295.5 217.5,-295.5 217.5,-249.5 7.5,-249.5\" stroke=\"#000000\"/>\n<text fill=\"#000000\" font-family=\"Times,serif\" font-size=\"14.00\" text-anchor=\"middle\" x=\"40\" y=\"-268.8\">Dropout</text>\n<polyline fill=\"none\" points=\"72.5,-249.5 72.5,-295.5 \" stroke=\"#000000\"/>\n<text fill=\"#000000\" font-family=\"Times,serif\" font-size=\"14.00\" text-anchor=\"middle\" x=\"101.5\" y=\"-280.3\">input:</text>\n<polyline fill=\"none\" points=\"72.5,-272.5 130.5,-272.5 \" stroke=\"#000000\"/>\n<text fill=\"#000000\" font-family=\"Times,serif\" font-size=\"14.00\" text-anchor=\"middle\" x=\"101.5\" y=\"-257.3\">output:</text>\n<polyline fill=\"none\" points=\"130.5,-249.5 130.5,-295.5 \" stroke=\"#000000\"/>\n<text fill=\"#000000\" font-family=\"Times,serif\" font-size=\"14.00\" text-anchor=\"middle\" x=\"174\" y=\"-280.3\">(None, 256)</text>\n<polyline fill=\"none\" points=\"130.5,-272.5 217.5,-272.5 \" stroke=\"#000000\"/>\n<text fill=\"#000000\" font-family=\"Times,serif\" font-size=\"14.00\" text-anchor=\"middle\" x=\"174\" y=\"-257.3\">(None, 256)</text>\n</g>\n<!-- 140128784486128&#45;&gt;140128978836840 -->\n<g class=\"edge\" id=\"edge5\">\n<title>140128784486128-&gt;140128978836840</title>\n<path d=\"M112.5,-332.3799C112.5,-324.1745 112.5,-314.7679 112.5,-305.8786\" fill=\"none\" stroke=\"#000000\"/>\n<polygon fill=\"#000000\" points=\"116.0001,-305.784 112.5,-295.784 109.0001,-305.784 116.0001,-305.784\" stroke=\"#000000\"/>\n</g>\n<!-- 140129003362456 -->\n<g class=\"node\" id=\"node7\">\n<title>140129003362456</title>\n<polygon fill=\"none\" points=\"14,-166.5 14,-212.5 211,-212.5 211,-166.5 14,-166.5\" stroke=\"#000000\"/>\n<text fill=\"#000000\" font-family=\"Times,serif\" font-size=\"14.00\" text-anchor=\"middle\" x=\"40\" y=\"-185.8\">Dense</text>\n<polyline fill=\"none\" points=\"66,-166.5 66,-212.5 \" stroke=\"#000000\"/>\n<text fill=\"#000000\" font-family=\"Times,serif\" font-size=\"14.00\" text-anchor=\"middle\" x=\"95\" y=\"-197.3\">input:</text>\n<polyline fill=\"none\" points=\"66,-189.5 124,-189.5 \" stroke=\"#000000\"/>\n<text fill=\"#000000\" font-family=\"Times,serif\" font-size=\"14.00\" text-anchor=\"middle\" x=\"95\" y=\"-174.3\">output:</text>\n<polyline fill=\"none\" points=\"124,-166.5 124,-212.5 \" stroke=\"#000000\"/>\n<text fill=\"#000000\" font-family=\"Times,serif\" font-size=\"14.00\" text-anchor=\"middle\" x=\"167.5\" y=\"-197.3\">(None, 256)</text>\n<polyline fill=\"none\" points=\"124,-189.5 211,-189.5 \" stroke=\"#000000\"/>\n<text fill=\"#000000\" font-family=\"Times,serif\" font-size=\"14.00\" text-anchor=\"middle\" x=\"167.5\" y=\"-174.3\">(None, 512)</text>\n</g>\n<!-- 140128978836840&#45;&gt;140129003362456 -->\n<g class=\"edge\" id=\"edge6\">\n<title>140128978836840-&gt;140129003362456</title>\n<path d=\"M112.5,-249.3799C112.5,-241.1745 112.5,-231.7679 112.5,-222.8786\" fill=\"none\" stroke=\"#000000\"/>\n<polygon fill=\"#000000\" points=\"116.0001,-222.784 112.5,-212.784 109.0001,-222.784 116.0001,-222.784\" stroke=\"#000000\"/>\n</g>\n<!-- 140129017576136 -->\n<g class=\"node\" id=\"node8\">\n<title>140129017576136</title>\n<polygon fill=\"none\" points=\"7.5,-83.5 7.5,-129.5 217.5,-129.5 217.5,-83.5 7.5,-83.5\" stroke=\"#000000\"/>\n<text fill=\"#000000\" font-family=\"Times,serif\" font-size=\"14.00\" text-anchor=\"middle\" x=\"40\" y=\"-102.8\">Dropout</text>\n<polyline fill=\"none\" points=\"72.5,-83.5 72.5,-129.5 \" stroke=\"#000000\"/>\n<text fill=\"#000000\" font-family=\"Times,serif\" font-size=\"14.00\" text-anchor=\"middle\" x=\"101.5\" y=\"-114.3\">input:</text>\n<polyline fill=\"none\" points=\"72.5,-106.5 130.5,-106.5 \" stroke=\"#000000\"/>\n<text fill=\"#000000\" font-family=\"Times,serif\" font-size=\"14.00\" text-anchor=\"middle\" x=\"101.5\" y=\"-91.3\">output:</text>\n<polyline fill=\"none\" points=\"130.5,-83.5 130.5,-129.5 \" stroke=\"#000000\"/>\n<text fill=\"#000000\" font-family=\"Times,serif\" font-size=\"14.00\" text-anchor=\"middle\" x=\"174\" y=\"-114.3\">(None, 512)</text>\n<polyline fill=\"none\" points=\"130.5,-106.5 217.5,-106.5 \" stroke=\"#000000\"/>\n<text fill=\"#000000\" font-family=\"Times,serif\" font-size=\"14.00\" text-anchor=\"middle\" x=\"174\" y=\"-91.3\">(None, 512)</text>\n</g>\n<!-- 140129003362456&#45;&gt;140129017576136 -->\n<g class=\"edge\" id=\"edge7\">\n<title>140129003362456-&gt;140129017576136</title>\n<path d=\"M112.5,-166.3799C112.5,-158.1745 112.5,-148.7679 112.5,-139.8786\" fill=\"none\" stroke=\"#000000\"/>\n<polygon fill=\"#000000\" points=\"116.0001,-139.784 112.5,-129.784 109.0001,-139.784 116.0001,-139.784\" stroke=\"#000000\"/>\n</g>\n<!-- 140128787027504 -->\n<g class=\"node\" id=\"node9\">\n<title>140128787027504</title>\n<polygon fill=\"none\" points=\"14,-.5 14,-46.5 211,-46.5 211,-.5 14,-.5\" stroke=\"#000000\"/>\n<text fill=\"#000000\" font-family=\"Times,serif\" font-size=\"14.00\" text-anchor=\"middle\" x=\"40\" y=\"-19.8\">Dense</text>\n<polyline fill=\"none\" points=\"66,-.5 66,-46.5 \" stroke=\"#000000\"/>\n<text fill=\"#000000\" font-family=\"Times,serif\" font-size=\"14.00\" text-anchor=\"middle\" x=\"95\" y=\"-31.3\">input:</text>\n<polyline fill=\"none\" points=\"66,-23.5 124,-23.5 \" stroke=\"#000000\"/>\n<text fill=\"#000000\" font-family=\"Times,serif\" font-size=\"14.00\" text-anchor=\"middle\" x=\"95\" y=\"-8.3\">output:</text>\n<polyline fill=\"none\" points=\"124,-.5 124,-46.5 \" stroke=\"#000000\"/>\n<text fill=\"#000000\" font-family=\"Times,serif\" font-size=\"14.00\" text-anchor=\"middle\" x=\"167.5\" y=\"-31.3\">(None, 512)</text>\n<polyline fill=\"none\" points=\"124,-23.5 211,-23.5 \" stroke=\"#000000\"/>\n<text fill=\"#000000\" font-family=\"Times,serif\" font-size=\"14.00\" text-anchor=\"middle\" x=\"167.5\" y=\"-8.3\">(None, 1)</text>\n</g>\n<!-- 140129017576136&#45;&gt;140128787027504 -->\n<g class=\"edge\" id=\"edge8\">\n<title>140129017576136-&gt;140128787027504</title>\n<path d=\"M112.5,-83.3799C112.5,-75.1745 112.5,-65.7679 112.5,-56.8786\" fill=\"none\" stroke=\"#000000\"/>\n<polygon fill=\"#000000\" points=\"116.0001,-56.784 112.5,-46.784 109.0001,-56.784 116.0001,-56.784\" stroke=\"#000000\"/>\n</g>\n</g>\n</svg>"
          },
          "metadata": {
            "tags": []
          },
          "execution_count": 170
        }
      ]
    },
    {
      "cell_type": "code",
      "metadata": {
        "id": "3jAjV-uFH4JX",
        "colab_type": "code",
        "outputId": "464e66b0-f949-4f0f-a84e-bec2ff530f55",
        "colab": {
          "base_uri": "https://localhost:8080/",
          "height": 1000
        }
      },
      "source": [
        "# Training the model\n",
        "nn4_start = time.time()\n",
        "\n",
        "nn4_history = nn4.fit(X_train,\n",
        "                  y_train,\n",
        "                  epochs=150,\n",
        "                  batch_size=256,\n",
        "                  validation_split = 0.1)\n",
        "\n",
        "nn4_end = time.time()\n",
        "\n",
        "print(f\"Time taken to run: {round((nn4_end - nn4_start)/60,1)} minutes\")"
      ],
      "execution_count": 0,
      "outputs": [
        {
          "output_type": "stream",
          "text": [
            "Train on 35121 samples, validate on 3903 samples\n",
            "Epoch 1/150\n",
            "35121/35121 [==============================] - 3s 78us/step - loss: 5.1543 - mean_squared_error: 5.1543 - val_loss: 4.4744 - val_mean_squared_error: 4.4744\n",
            "Epoch 2/150\n",
            "35121/35121 [==============================] - 2s 54us/step - loss: 1.7902 - mean_squared_error: 1.7902 - val_loss: 4.3532 - val_mean_squared_error: 4.3532\n",
            "Epoch 3/150\n",
            "35121/35121 [==============================] - 2s 55us/step - loss: 1.2432 - mean_squared_error: 1.2432 - val_loss: 4.0681 - val_mean_squared_error: 4.0681\n",
            "Epoch 4/150\n",
            "35121/35121 [==============================] - 2s 54us/step - loss: 0.9776 - mean_squared_error: 0.9776 - val_loss: 3.5174 - val_mean_squared_error: 3.5174\n",
            "Epoch 5/150\n",
            "35121/35121 [==============================] - 2s 54us/step - loss: 0.8848 - mean_squared_error: 0.8848 - val_loss: 3.1020 - val_mean_squared_error: 3.1020\n",
            "Epoch 6/150\n",
            "35121/35121 [==============================] - 2s 54us/step - loss: 0.7156 - mean_squared_error: 0.7156 - val_loss: 2.4898 - val_mean_squared_error: 2.4898\n",
            "Epoch 7/150\n",
            "35121/35121 [==============================] - 2s 54us/step - loss: 0.6462 - mean_squared_error: 0.6462 - val_loss: 1.6294 - val_mean_squared_error: 1.6294\n",
            "Epoch 8/150\n",
            "35121/35121 [==============================] - 2s 53us/step - loss: 0.5616 - mean_squared_error: 0.5616 - val_loss: 1.2583 - val_mean_squared_error: 1.2583\n",
            "Epoch 9/150\n",
            "35121/35121 [==============================] - 2s 54us/step - loss: 0.4889 - mean_squared_error: 0.4889 - val_loss: 0.7967 - val_mean_squared_error: 0.7967\n",
            "Epoch 10/150\n",
            "35121/35121 [==============================] - 2s 54us/step - loss: 0.4512 - mean_squared_error: 0.4512 - val_loss: 0.6152 - val_mean_squared_error: 0.6152\n",
            "Epoch 11/150\n",
            "35121/35121 [==============================] - 2s 55us/step - loss: 0.4226 - mean_squared_error: 0.4226 - val_loss: 0.5743 - val_mean_squared_error: 0.5743\n",
            "Epoch 12/150\n",
            "35121/35121 [==============================] - 2s 53us/step - loss: 0.4169 - mean_squared_error: 0.4169 - val_loss: 0.4970 - val_mean_squared_error: 0.4970\n",
            "Epoch 13/150\n",
            "35121/35121 [==============================] - 2s 53us/step - loss: 0.4017 - mean_squared_error: 0.4017 - val_loss: 0.5005 - val_mean_squared_error: 0.5005\n",
            "Epoch 14/150\n",
            "35121/35121 [==============================] - 2s 53us/step - loss: 0.3825 - mean_squared_error: 0.3825 - val_loss: 0.4411 - val_mean_squared_error: 0.4411\n",
            "Epoch 15/150\n",
            "35121/35121 [==============================] - 2s 53us/step - loss: 0.3753 - mean_squared_error: 0.3753 - val_loss: 0.3990 - val_mean_squared_error: 0.3990\n",
            "Epoch 16/150\n",
            "35121/35121 [==============================] - 2s 53us/step - loss: 0.3686 - mean_squared_error: 0.3686 - val_loss: 0.3784 - val_mean_squared_error: 0.3784\n",
            "Epoch 17/150\n",
            "35121/35121 [==============================] - 2s 53us/step - loss: 0.3614 - mean_squared_error: 0.3614 - val_loss: 0.3553 - val_mean_squared_error: 0.3553\n",
            "Epoch 18/150\n",
            "35121/35121 [==============================] - 2s 53us/step - loss: 0.3675 - mean_squared_error: 0.3675 - val_loss: 0.4014 - val_mean_squared_error: 0.4014\n",
            "Epoch 19/150\n",
            "35121/35121 [==============================] - 2s 54us/step - loss: 0.3472 - mean_squared_error: 0.3472 - val_loss: 0.3723 - val_mean_squared_error: 0.3723\n",
            "Epoch 20/150\n",
            "35121/35121 [==============================] - 2s 55us/step - loss: 0.3470 - mean_squared_error: 0.3470 - val_loss: 0.3446 - val_mean_squared_error: 0.3446\n",
            "Epoch 21/150\n",
            "35121/35121 [==============================] - 2s 54us/step - loss: 0.3420 - mean_squared_error: 0.3420 - val_loss: 0.3058 - val_mean_squared_error: 0.3058\n",
            "Epoch 22/150\n",
            "35121/35121 [==============================] - 2s 54us/step - loss: 0.3358 - mean_squared_error: 0.3358 - val_loss: 0.3604 - val_mean_squared_error: 0.3604\n",
            "Epoch 23/150\n",
            "35121/35121 [==============================] - 2s 53us/step - loss: 0.3333 - mean_squared_error: 0.3333 - val_loss: 0.3119 - val_mean_squared_error: 0.3119\n",
            "Epoch 24/150\n",
            "35121/35121 [==============================] - 2s 53us/step - loss: 0.3286 - mean_squared_error: 0.3286 - val_loss: 0.3261 - val_mean_squared_error: 0.3261\n",
            "Epoch 25/150\n",
            "35121/35121 [==============================] - 2s 54us/step - loss: 0.3289 - mean_squared_error: 0.3289 - val_loss: 0.3275 - val_mean_squared_error: 0.3275\n",
            "Epoch 26/150\n",
            "35121/35121 [==============================] - 2s 53us/step - loss: 0.3258 - mean_squared_error: 0.3258 - val_loss: 0.2873 - val_mean_squared_error: 0.2873\n",
            "Epoch 27/150\n",
            "35121/35121 [==============================] - 2s 54us/step - loss: 0.3213 - mean_squared_error: 0.3213 - val_loss: 0.3122 - val_mean_squared_error: 0.3122\n",
            "Epoch 28/150\n",
            "35121/35121 [==============================] - 2s 53us/step - loss: 0.3179 - mean_squared_error: 0.3179 - val_loss: 0.2819 - val_mean_squared_error: 0.2819\n",
            "Epoch 29/150\n",
            "35121/35121 [==============================] - 2s 53us/step - loss: 0.3140 - mean_squared_error: 0.3140 - val_loss: 0.2897 - val_mean_squared_error: 0.2897\n",
            "Epoch 30/150\n",
            "35121/35121 [==============================] - 2s 54us/step - loss: 0.3130 - mean_squared_error: 0.3130 - val_loss: 0.2853 - val_mean_squared_error: 0.2853\n",
            "Epoch 31/150\n",
            "35121/35121 [==============================] - 2s 53us/step - loss: 0.3098 - mean_squared_error: 0.3098 - val_loss: 0.3006 - val_mean_squared_error: 0.3006\n",
            "Epoch 32/150\n",
            "35121/35121 [==============================] - 2s 54us/step - loss: 0.3157 - mean_squared_error: 0.3157 - val_loss: 0.2662 - val_mean_squared_error: 0.2662\n",
            "Epoch 33/150\n",
            "35121/35121 [==============================] - 2s 53us/step - loss: 0.3097 - mean_squared_error: 0.3097 - val_loss: 0.2620 - val_mean_squared_error: 0.2620\n",
            "Epoch 34/150\n",
            "35121/35121 [==============================] - 2s 53us/step - loss: 0.3096 - mean_squared_error: 0.3096 - val_loss: 0.2569 - val_mean_squared_error: 0.2569\n",
            "Epoch 35/150\n",
            "35121/35121 [==============================] - 2s 53us/step - loss: 0.3024 - mean_squared_error: 0.3024 - val_loss: 0.2505 - val_mean_squared_error: 0.2505\n",
            "Epoch 36/150\n",
            "35121/35121 [==============================] - 2s 54us/step - loss: 0.3035 - mean_squared_error: 0.3035 - val_loss: 0.2741 - val_mean_squared_error: 0.2741\n",
            "Epoch 37/150\n",
            "35121/35121 [==============================] - 2s 54us/step - loss: 0.2969 - mean_squared_error: 0.2969 - val_loss: 0.2661 - val_mean_squared_error: 0.2661\n",
            "Epoch 38/150\n",
            "35121/35121 [==============================] - 2s 54us/step - loss: 0.2985 - mean_squared_error: 0.2985 - val_loss: 0.2479 - val_mean_squared_error: 0.2479\n",
            "Epoch 39/150\n",
            "35121/35121 [==============================] - 2s 53us/step - loss: 0.2951 - mean_squared_error: 0.2951 - val_loss: 0.2691 - val_mean_squared_error: 0.2691\n",
            "Epoch 40/150\n",
            "35121/35121 [==============================] - 2s 53us/step - loss: 0.2977 - mean_squared_error: 0.2977 - val_loss: 0.2300 - val_mean_squared_error: 0.2300\n",
            "Epoch 41/150\n",
            "35121/35121 [==============================] - 2s 53us/step - loss: 0.2940 - mean_squared_error: 0.2940 - val_loss: 0.2387 - val_mean_squared_error: 0.2387\n",
            "Epoch 42/150\n",
            "35121/35121 [==============================] - 2s 53us/step - loss: 0.2873 - mean_squared_error: 0.2873 - val_loss: 0.2320 - val_mean_squared_error: 0.2320\n",
            "Epoch 43/150\n",
            "35121/35121 [==============================] - 2s 54us/step - loss: 0.2924 - mean_squared_error: 0.2924 - val_loss: 0.2223 - val_mean_squared_error: 0.2223\n",
            "Epoch 44/150\n",
            "35121/35121 [==============================] - 2s 53us/step - loss: 0.2887 - mean_squared_error: 0.2887 - val_loss: 0.2411 - val_mean_squared_error: 0.2411\n",
            "Epoch 45/150\n",
            "35121/35121 [==============================] - 2s 54us/step - loss: 0.2863 - mean_squared_error: 0.2863 - val_loss: 0.2328 - val_mean_squared_error: 0.2328\n",
            "Epoch 46/150\n",
            "35121/35121 [==============================] - 2s 54us/step - loss: 0.2875 - mean_squared_error: 0.2875 - val_loss: 0.2232 - val_mean_squared_error: 0.2232\n",
            "Epoch 47/150\n",
            "35121/35121 [==============================] - 2s 53us/step - loss: 0.2845 - mean_squared_error: 0.2845 - val_loss: 0.2433 - val_mean_squared_error: 0.2433\n",
            "Epoch 48/150\n",
            "35121/35121 [==============================] - 2s 54us/step - loss: 0.2815 - mean_squared_error: 0.2815 - val_loss: 0.2260 - val_mean_squared_error: 0.2260\n",
            "Epoch 49/150\n",
            "35121/35121 [==============================] - 2s 53us/step - loss: 0.2784 - mean_squared_error: 0.2784 - val_loss: 0.2266 - val_mean_squared_error: 0.2266\n",
            "Epoch 50/150\n",
            "35121/35121 [==============================] - 2s 53us/step - loss: 0.2780 - mean_squared_error: 0.2780 - val_loss: 0.2307 - val_mean_squared_error: 0.2307\n",
            "Epoch 51/150\n",
            "35121/35121 [==============================] - 2s 54us/step - loss: 0.2777 - mean_squared_error: 0.2777 - val_loss: 0.2279 - val_mean_squared_error: 0.2279\n",
            "Epoch 52/150\n",
            "35121/35121 [==============================] - 2s 54us/step - loss: 0.2800 - mean_squared_error: 0.2800 - val_loss: 0.2414 - val_mean_squared_error: 0.2414\n",
            "Epoch 53/150\n",
            "35121/35121 [==============================] - 2s 53us/step - loss: 0.2771 - mean_squared_error: 0.2771 - val_loss: 0.2323 - val_mean_squared_error: 0.2323\n",
            "Epoch 54/150\n",
            "35121/35121 [==============================] - 2s 54us/step - loss: 0.2779 - mean_squared_error: 0.2779 - val_loss: 0.2233 - val_mean_squared_error: 0.2233\n",
            "Epoch 55/150\n",
            "35121/35121 [==============================] - 2s 53us/step - loss: 0.2749 - mean_squared_error: 0.2749 - val_loss: 0.2429 - val_mean_squared_error: 0.2429\n",
            "Epoch 56/150\n",
            "35121/35121 [==============================] - 2s 53us/step - loss: 0.2762 - mean_squared_error: 0.2762 - val_loss: 0.2170 - val_mean_squared_error: 0.2170\n",
            "Epoch 57/150\n",
            "35121/35121 [==============================] - 2s 53us/step - loss: 0.2713 - mean_squared_error: 0.2713 - val_loss: 0.2331 - val_mean_squared_error: 0.2331\n",
            "Epoch 58/150\n",
            "35121/35121 [==============================] - 2s 53us/step - loss: 0.2693 - mean_squared_error: 0.2693 - val_loss: 0.2247 - val_mean_squared_error: 0.2247\n",
            "Epoch 59/150\n",
            "35121/35121 [==============================] - 2s 54us/step - loss: 0.2746 - mean_squared_error: 0.2746 - val_loss: 0.2238 - val_mean_squared_error: 0.2238\n",
            "Epoch 60/150\n",
            "35121/35121 [==============================] - 2s 53us/step - loss: 0.2722 - mean_squared_error: 0.2722 - val_loss: 0.2165 - val_mean_squared_error: 0.2165\n",
            "Epoch 61/150\n",
            "35121/35121 [==============================] - 2s 53us/step - loss: 0.2697 - mean_squared_error: 0.2697 - val_loss: 0.2351 - val_mean_squared_error: 0.2351\n",
            "Epoch 62/150\n",
            "35121/35121 [==============================] - 2s 53us/step - loss: 0.2687 - mean_squared_error: 0.2687 - val_loss: 0.2207 - val_mean_squared_error: 0.2207\n",
            "Epoch 63/150\n",
            "35121/35121 [==============================] - 2s 53us/step - loss: 0.2719 - mean_squared_error: 0.2719 - val_loss: 0.2228 - val_mean_squared_error: 0.2228\n",
            "Epoch 64/150\n",
            "35121/35121 [==============================] - 2s 53us/step - loss: 0.2666 - mean_squared_error: 0.2666 - val_loss: 0.2383 - val_mean_squared_error: 0.2383\n",
            "Epoch 65/150\n",
            "35121/35121 [==============================] - 2s 54us/step - loss: 0.2662 - mean_squared_error: 0.2662 - val_loss: 0.2163 - val_mean_squared_error: 0.2163\n",
            "Epoch 66/150\n",
            "35121/35121 [==============================] - 2s 53us/step - loss: 0.2634 - mean_squared_error: 0.2634 - val_loss: 0.2246 - val_mean_squared_error: 0.2246\n",
            "Epoch 67/150\n",
            "35121/35121 [==============================] - 2s 52us/step - loss: 0.2664 - mean_squared_error: 0.2664 - val_loss: 0.2092 - val_mean_squared_error: 0.2092\n",
            "Epoch 68/150\n",
            "35121/35121 [==============================] - 2s 52us/step - loss: 0.2623 - mean_squared_error: 0.2623 - val_loss: 0.2160 - val_mean_squared_error: 0.2160\n",
            "Epoch 69/150\n",
            "35121/35121 [==============================] - 2s 54us/step - loss: 0.2638 - mean_squared_error: 0.2638 - val_loss: 0.2138 - val_mean_squared_error: 0.2138\n",
            "Epoch 70/150\n",
            "35121/35121 [==============================] - 2s 55us/step - loss: 0.2624 - mean_squared_error: 0.2624 - val_loss: 0.2129 - val_mean_squared_error: 0.2129\n",
            "Epoch 71/150\n",
            "35121/35121 [==============================] - 2s 53us/step - loss: 0.2610 - mean_squared_error: 0.2610 - val_loss: 0.2092 - val_mean_squared_error: 0.2092\n",
            "Epoch 72/150\n",
            "35121/35121 [==============================] - 2s 53us/step - loss: 0.2620 - mean_squared_error: 0.2620 - val_loss: 0.2074 - val_mean_squared_error: 0.2074\n",
            "Epoch 73/150\n",
            "35121/35121 [==============================] - 2s 53us/step - loss: 0.2599 - mean_squared_error: 0.2599 - val_loss: 0.2101 - val_mean_squared_error: 0.2101\n",
            "Epoch 74/150\n",
            "35121/35121 [==============================] - 2s 54us/step - loss: 0.2603 - mean_squared_error: 0.2603 - val_loss: 0.2199 - val_mean_squared_error: 0.2199\n",
            "Epoch 75/150\n",
            "35121/35121 [==============================] - 2s 54us/step - loss: 0.2613 - mean_squared_error: 0.2613 - val_loss: 0.2306 - val_mean_squared_error: 0.2306\n",
            "Epoch 76/150\n",
            "35121/35121 [==============================] - 2s 54us/step - loss: 0.2602 - mean_squared_error: 0.2602 - val_loss: 0.2067 - val_mean_squared_error: 0.2067\n",
            "Epoch 77/150\n",
            "35121/35121 [==============================] - 2s 52us/step - loss: 0.2581 - mean_squared_error: 0.2581 - val_loss: 0.2244 - val_mean_squared_error: 0.2244\n",
            "Epoch 78/150\n",
            "35121/35121 [==============================] - 2s 52us/step - loss: 0.2540 - mean_squared_error: 0.2540 - val_loss: 0.2128 - val_mean_squared_error: 0.2128\n",
            "Epoch 79/150\n",
            "35121/35121 [==============================] - 2s 52us/step - loss: 0.2555 - mean_squared_error: 0.2555 - val_loss: 0.2028 - val_mean_squared_error: 0.2028\n",
            "Epoch 80/150\n",
            "35121/35121 [==============================] - 2s 53us/step - loss: 0.2527 - mean_squared_error: 0.2527 - val_loss: 0.2010 - val_mean_squared_error: 0.2010\n",
            "Epoch 81/150\n",
            "35121/35121 [==============================] - 2s 53us/step - loss: 0.2530 - mean_squared_error: 0.2530 - val_loss: 0.2061 - val_mean_squared_error: 0.2061\n",
            "Epoch 82/150\n",
            "35121/35121 [==============================] - 2s 52us/step - loss: 0.2585 - mean_squared_error: 0.2585 - val_loss: 0.2059 - val_mean_squared_error: 0.2059\n",
            "Epoch 83/150\n",
            "35121/35121 [==============================] - 2s 52us/step - loss: 0.2546 - mean_squared_error: 0.2546 - val_loss: 0.2002 - val_mean_squared_error: 0.2002\n",
            "Epoch 84/150\n",
            "35121/35121 [==============================] - 2s 53us/step - loss: 0.2537 - mean_squared_error: 0.2537 - val_loss: 0.2074 - val_mean_squared_error: 0.2074\n",
            "Epoch 85/150\n",
            "35121/35121 [==============================] - 2s 53us/step - loss: 0.2501 - mean_squared_error: 0.2501 - val_loss: 0.2094 - val_mean_squared_error: 0.2094\n",
            "Epoch 86/150\n",
            "35121/35121 [==============================] - 2s 54us/step - loss: 0.2483 - mean_squared_error: 0.2483 - val_loss: 0.2111 - val_mean_squared_error: 0.2111\n",
            "Epoch 87/150\n",
            "35121/35121 [==============================] - 2s 54us/step - loss: 0.2523 - mean_squared_error: 0.2523 - val_loss: 0.2102 - val_mean_squared_error: 0.2102\n",
            "Epoch 88/150\n",
            "35121/35121 [==============================] - 2s 52us/step - loss: 0.2501 - mean_squared_error: 0.2501 - val_loss: 0.1990 - val_mean_squared_error: 0.1990\n",
            "Epoch 89/150\n",
            "35121/35121 [==============================] - 2s 52us/step - loss: 0.2502 - mean_squared_error: 0.2502 - val_loss: 0.2008 - val_mean_squared_error: 0.2008\n",
            "Epoch 90/150\n",
            "35121/35121 [==============================] - 2s 52us/step - loss: 0.2509 - mean_squared_error: 0.2509 - val_loss: 0.2072 - val_mean_squared_error: 0.2072\n",
            "Epoch 91/150\n",
            "35121/35121 [==============================] - 2s 53us/step - loss: 0.2526 - mean_squared_error: 0.2526 - val_loss: 0.2071 - val_mean_squared_error: 0.2071\n",
            "Epoch 92/150\n",
            "35121/35121 [==============================] - 2s 52us/step - loss: 0.2498 - mean_squared_error: 0.2498 - val_loss: 0.2038 - val_mean_squared_error: 0.2038\n",
            "Epoch 93/150\n",
            "35121/35121 [==============================] - 2s 53us/step - loss: 0.2496 - mean_squared_error: 0.2496 - val_loss: 0.2095 - val_mean_squared_error: 0.2095\n",
            "Epoch 94/150\n",
            "35121/35121 [==============================] - 2s 52us/step - loss: 0.2470 - mean_squared_error: 0.2470 - val_loss: 0.2062 - val_mean_squared_error: 0.2062\n",
            "Epoch 95/150\n",
            "35121/35121 [==============================] - 2s 55us/step - loss: 0.2499 - mean_squared_error: 0.2499 - val_loss: 0.2050 - val_mean_squared_error: 0.2050\n",
            "Epoch 96/150\n",
            "35121/35121 [==============================] - 2s 59us/step - loss: 0.2470 - mean_squared_error: 0.2470 - val_loss: 0.2038 - val_mean_squared_error: 0.2038\n",
            "Epoch 97/150\n",
            "35121/35121 [==============================] - 2s 60us/step - loss: 0.2444 - mean_squared_error: 0.2444 - val_loss: 0.1999 - val_mean_squared_error: 0.1999\n",
            "Epoch 98/150\n",
            "35121/35121 [==============================] - 2s 55us/step - loss: 0.2487 - mean_squared_error: 0.2487 - val_loss: 0.2156 - val_mean_squared_error: 0.2156\n",
            "Epoch 99/150\n",
            "35121/35121 [==============================] - 2s 53us/step - loss: 0.2444 - mean_squared_error: 0.2444 - val_loss: 0.1923 - val_mean_squared_error: 0.1923\n",
            "Epoch 100/150\n",
            "35121/35121 [==============================] - 2s 52us/step - loss: 0.2459 - mean_squared_error: 0.2459 - val_loss: 0.2149 - val_mean_squared_error: 0.2149\n",
            "Epoch 101/150\n",
            "35121/35121 [==============================] - 2s 53us/step - loss: 0.2412 - mean_squared_error: 0.2412 - val_loss: 0.1986 - val_mean_squared_error: 0.1986\n",
            "Epoch 102/150\n",
            "35121/35121 [==============================] - 2s 54us/step - loss: 0.2450 - mean_squared_error: 0.2450 - val_loss: 0.2098 - val_mean_squared_error: 0.2098\n",
            "Epoch 103/150\n",
            "35121/35121 [==============================] - 2s 53us/step - loss: 0.2438 - mean_squared_error: 0.2438 - val_loss: 0.1927 - val_mean_squared_error: 0.1927\n",
            "Epoch 104/150\n",
            "35121/35121 [==============================] - 2s 54us/step - loss: 0.2446 - mean_squared_error: 0.2446 - val_loss: 0.1961 - val_mean_squared_error: 0.1961\n",
            "Epoch 105/150\n",
            "35121/35121 [==============================] - 2s 53us/step - loss: 0.2419 - mean_squared_error: 0.2419 - val_loss: 0.1973 - val_mean_squared_error: 0.1973\n",
            "Epoch 106/150\n",
            "35121/35121 [==============================] - 2s 52us/step - loss: 0.2407 - mean_squared_error: 0.2407 - val_loss: 0.2239 - val_mean_squared_error: 0.2239\n",
            "Epoch 107/150\n",
            "35121/35121 [==============================] - 2s 53us/step - loss: 0.2412 - mean_squared_error: 0.2412 - val_loss: 0.2100 - val_mean_squared_error: 0.2100\n",
            "Epoch 108/150\n",
            "35121/35121 [==============================] - 2s 54us/step - loss: 0.2390 - mean_squared_error: 0.2390 - val_loss: 0.1952 - val_mean_squared_error: 0.1952\n",
            "Epoch 109/150\n",
            "35121/35121 [==============================] - 2s 53us/step - loss: 0.2415 - mean_squared_error: 0.2415 - val_loss: 0.2082 - val_mean_squared_error: 0.2082\n",
            "Epoch 110/150\n",
            "35121/35121 [==============================] - 2s 54us/step - loss: 0.2436 - mean_squared_error: 0.2436 - val_loss: 0.2059 - val_mean_squared_error: 0.2059\n",
            "Epoch 111/150\n",
            "35121/35121 [==============================] - 2s 54us/step - loss: 0.2407 - mean_squared_error: 0.2407 - val_loss: 0.2002 - val_mean_squared_error: 0.2002\n",
            "Epoch 112/150\n",
            "35121/35121 [==============================] - 2s 54us/step - loss: 0.2418 - mean_squared_error: 0.2418 - val_loss: 0.1982 - val_mean_squared_error: 0.1982\n",
            "Epoch 113/150\n",
            "35121/35121 [==============================] - 2s 54us/step - loss: 0.2388 - mean_squared_error: 0.2388 - val_loss: 0.1998 - val_mean_squared_error: 0.1998\n",
            "Epoch 114/150\n",
            "35121/35121 [==============================] - 2s 54us/step - loss: 0.2405 - mean_squared_error: 0.2405 - val_loss: 0.2006 - val_mean_squared_error: 0.2006\n",
            "Epoch 115/150\n",
            "35121/35121 [==============================] - 2s 54us/step - loss: 0.2378 - mean_squared_error: 0.2378 - val_loss: 0.2013 - val_mean_squared_error: 0.2013\n",
            "Epoch 116/150\n",
            "35121/35121 [==============================] - 2s 54us/step - loss: 0.2398 - mean_squared_error: 0.2398 - val_loss: 0.2005 - val_mean_squared_error: 0.2005\n",
            "Epoch 117/150\n",
            "35121/35121 [==============================] - 2s 53us/step - loss: 0.2386 - mean_squared_error: 0.2386 - val_loss: 0.2027 - val_mean_squared_error: 0.2027\n",
            "Epoch 118/150\n",
            "35121/35121 [==============================] - 2s 55us/step - loss: 0.2384 - mean_squared_error: 0.2384 - val_loss: 0.1957 - val_mean_squared_error: 0.1957\n",
            "Epoch 119/150\n",
            "35121/35121 [==============================] - 2s 53us/step - loss: 0.2364 - mean_squared_error: 0.2364 - val_loss: 0.2016 - val_mean_squared_error: 0.2016\n",
            "Epoch 120/150\n",
            "35121/35121 [==============================] - 2s 53us/step - loss: 0.2358 - mean_squared_error: 0.2358 - val_loss: 0.2006 - val_mean_squared_error: 0.2006\n",
            "Epoch 121/150\n",
            "35121/35121 [==============================] - 2s 55us/step - loss: 0.2367 - mean_squared_error: 0.2367 - val_loss: 0.1950 - val_mean_squared_error: 0.1950\n",
            "Epoch 122/150\n",
            "35121/35121 [==============================] - 2s 53us/step - loss: 0.2388 - mean_squared_error: 0.2388 - val_loss: 0.1973 - val_mean_squared_error: 0.1973\n",
            "Epoch 123/150\n",
            "35121/35121 [==============================] - 2s 58us/step - loss: 0.2364 - mean_squared_error: 0.2364 - val_loss: 0.2028 - val_mean_squared_error: 0.2028\n",
            "Epoch 124/150\n",
            "35121/35121 [==============================] - 2s 61us/step - loss: 0.2358 - mean_squared_error: 0.2358 - val_loss: 0.1892 - val_mean_squared_error: 0.1892\n",
            "Epoch 125/150\n",
            "35121/35121 [==============================] - 2s 62us/step - loss: 0.2334 - mean_squared_error: 0.2334 - val_loss: 0.2075 - val_mean_squared_error: 0.2075\n",
            "Epoch 126/150\n",
            "35121/35121 [==============================] - 2s 59us/step - loss: 0.2347 - mean_squared_error: 0.2347 - val_loss: 0.1935 - val_mean_squared_error: 0.1935\n",
            "Epoch 127/150\n",
            "35121/35121 [==============================] - 2s 59us/step - loss: 0.2330 - mean_squared_error: 0.2330 - val_loss: 0.2118 - val_mean_squared_error: 0.2118\n",
            "Epoch 128/150\n",
            "35121/35121 [==============================] - 2s 56us/step - loss: 0.2364 - mean_squared_error: 0.2364 - val_loss: 0.2003 - val_mean_squared_error: 0.2003\n",
            "Epoch 129/150\n",
            "35121/35121 [==============================] - 2s 53us/step - loss: 0.2339 - mean_squared_error: 0.2339 - val_loss: 0.1997 - val_mean_squared_error: 0.1997\n",
            "Epoch 130/150\n",
            "35121/35121 [==============================] - 2s 53us/step - loss: 0.2318 - mean_squared_error: 0.2318 - val_loss: 0.1944 - val_mean_squared_error: 0.1944\n",
            "Epoch 131/150\n",
            "35121/35121 [==============================] - 2s 54us/step - loss: 0.2321 - mean_squared_error: 0.2321 - val_loss: 0.2049 - val_mean_squared_error: 0.2049\n",
            "Epoch 132/150\n",
            "35121/35121 [==============================] - 2s 53us/step - loss: 0.2329 - mean_squared_error: 0.2329 - val_loss: 0.1967 - val_mean_squared_error: 0.1967\n",
            "Epoch 133/150\n",
            "35121/35121 [==============================] - 2s 54us/step - loss: 0.2352 - mean_squared_error: 0.2352 - val_loss: 0.1973 - val_mean_squared_error: 0.1973\n",
            "Epoch 134/150\n",
            "35121/35121 [==============================] - 2s 54us/step - loss: 0.2326 - mean_squared_error: 0.2326 - val_loss: 0.1994 - val_mean_squared_error: 0.1994\n",
            "Epoch 135/150\n",
            "35121/35121 [==============================] - 2s 53us/step - loss: 0.2318 - mean_squared_error: 0.2318 - val_loss: 0.1872 - val_mean_squared_error: 0.1872\n",
            "Epoch 136/150\n",
            "35121/35121 [==============================] - 2s 54us/step - loss: 0.2314 - mean_squared_error: 0.2314 - val_loss: 0.1881 - val_mean_squared_error: 0.1881\n",
            "Epoch 137/150\n",
            "35121/35121 [==============================] - 2s 54us/step - loss: 0.2336 - mean_squared_error: 0.2336 - val_loss: 0.2056 - val_mean_squared_error: 0.2056\n",
            "Epoch 138/150\n",
            "35121/35121 [==============================] - 2s 54us/step - loss: 0.2337 - mean_squared_error: 0.2337 - val_loss: 0.1825 - val_mean_squared_error: 0.1825\n",
            "Epoch 139/150\n",
            "35121/35121 [==============================] - 2s 54us/step - loss: 0.2336 - mean_squared_error: 0.2336 - val_loss: 0.1930 - val_mean_squared_error: 0.1930\n",
            "Epoch 140/150\n",
            "35121/35121 [==============================] - 2s 53us/step - loss: 0.2310 - mean_squared_error: 0.2310 - val_loss: 0.1828 - val_mean_squared_error: 0.1828\n",
            "Epoch 141/150\n",
            "35121/35121 [==============================] - 2s 53us/step - loss: 0.2314 - mean_squared_error: 0.2314 - val_loss: 0.2008 - val_mean_squared_error: 0.2008\n",
            "Epoch 142/150\n",
            "35121/35121 [==============================] - 2s 53us/step - loss: 0.2288 - mean_squared_error: 0.2288 - val_loss: 0.1817 - val_mean_squared_error: 0.1817\n",
            "Epoch 143/150\n",
            "35121/35121 [==============================] - 2s 54us/step - loss: 0.2304 - mean_squared_error: 0.2304 - val_loss: 0.1908 - val_mean_squared_error: 0.1908\n",
            "Epoch 144/150\n",
            "35121/35121 [==============================] - 2s 54us/step - loss: 0.2320 - mean_squared_error: 0.2320 - val_loss: 0.1958 - val_mean_squared_error: 0.1958\n",
            "Epoch 145/150\n",
            "35121/35121 [==============================] - 2s 53us/step - loss: 0.2298 - mean_squared_error: 0.2298 - val_loss: 0.1833 - val_mean_squared_error: 0.1833\n",
            "Epoch 146/150\n",
            "35121/35121 [==============================] - 2s 54us/step - loss: 0.2306 - mean_squared_error: 0.2306 - val_loss: 0.1910 - val_mean_squared_error: 0.1910\n",
            "Epoch 147/150\n",
            "35121/35121 [==============================] - 2s 53us/step - loss: 0.2285 - mean_squared_error: 0.2285 - val_loss: 0.1966 - val_mean_squared_error: 0.1966\n",
            "Epoch 148/150\n",
            "35121/35121 [==============================] - 2s 54us/step - loss: 0.2317 - mean_squared_error: 0.2317 - val_loss: 0.1884 - val_mean_squared_error: 0.1884\n",
            "Epoch 149/150\n",
            "35121/35121 [==============================] - 2s 55us/step - loss: 0.2289 - mean_squared_error: 0.2289 - val_loss: 0.1980 - val_mean_squared_error: 0.1980\n",
            "Epoch 150/150\n",
            "35121/35121 [==============================] - 2s 54us/step - loss: 0.2279 - mean_squared_error: 0.2279 - val_loss: 0.1914 - val_mean_squared_error: 0.1914\n",
            "Time taken to run: 4.7 minutes\n"
          ],
          "name": "stdout"
        }
      ]
    },
    {
      "cell_type": "code",
      "metadata": {
        "id": "-HBemu5ZH54q",
        "colab_type": "code",
        "outputId": "2d5a9daf-93d4-4fec-da96-3c4948d87b6b",
        "colab": {
          "base_uri": "https://localhost:8080/",
          "height": 667
        }
      },
      "source": [
        "nn_model_evaluation(nn4, skip_epochs=10) # This model took several epochs before the loss was in a similar range to other models"
      ],
      "execution_count": 0,
      "outputs": [
        {
          "output_type": "stream",
          "text": [
            "Training MSE: 0.173\n",
            "Validation MSE: 0.1699\n",
            "\n",
            "Training r2: 0.5873\n",
            "Validation r2: 0.5873\n"
          ],
          "name": "stdout"
        },
        {
          "output_type": "display_data",
          "data": {
            "image/png": "[encoded data removed]",
            "text/plain": [
              "<Figure size 432x288 with 1 Axes>"
            ]
          },
          "metadata": {
            "tags": []
          }
        },
        {
          "output_type": "display_data",
          "data": {
            "image/png": "[encoded data removed]",
            "text/plain": [
              "<Figure size 864x288 with 2 Axes>"
            ]
          },
          "metadata": {
            "tags": []
          }
        }
      ]
    },
    {
      "cell_type": "code",
      "metadata": {
        "id": "CmHzCPrw-ofX",
        "colab_type": "code",
        "colab": {}
      },
      "source": [
        ""
      ],
      "execution_count": 0,
      "outputs": []
    }
  ]
}